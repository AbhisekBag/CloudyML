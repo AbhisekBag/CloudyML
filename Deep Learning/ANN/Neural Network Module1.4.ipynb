{
  "cells": [
    {
      "cell_type": "markdown",
      "metadata": {
        "id": "GTqIB0Gtvo6B"
      },
      "source": [
        "#                       <h1><center>**TRAINING NEURAL NETWORK**</center></h1>   \n",
        "\n",
        "\n"
      ]
    },
    {
      "cell_type": "markdown",
      "metadata": {
        "id": "glmLhqL5IfYQ"
      },
      "source": [
        "# **ABOUT THE MNIST DATASET**\n",
        "\n",
        "MNIST dataset, a classic in the machine learning community, which has been around almost as long as the field itself and has been intensively studied. \n",
        "It’s a set of 60,000 training images, plus 10,000 test images, assembled by the National Institute of Standards and Technology (the NIST in MNIST) in the 1980s.\n",
        "The problem we’re trying to solve here is to classify grayscale images of handwritten digits (28 × 28 pixels) into their 10 categories (0 through 9)."
      ]
    },
    {
      "cell_type": "markdown",
      "metadata": {
        "id": "15U4So3SjxSW"
      },
      "source": [
        "![MNIST](https://cdn.analyticsvidhya.com/wp-content/uploads/2021/06/78429blog-5-cover.png)"
      ]
    },
    {
      "cell_type": "markdown",
      "metadata": {
        "id": "7GziBnOc9JhB"
      },
      "source": [
        "# **TOPICS IN THIS ASSIGNMENT**\n",
        "1. Importing and understanding dataset\n",
        "2. EDA\n",
        "3. Preparing data\n",
        "4. Building the model\n",
        "5. Compiling and fitting the model\n",
        "6. Prediction on test data\n",
        "7. Evaluating the model\n",
        "8. Rebuilding the model(repeating 3-7 steps)"
      ]
    },
    {
      "cell_type": "markdown",
      "metadata": {
        "id": "As8Zh96MkKB0"
      },
      "source": [
        "### **How To Load Dataset?**\n",
        "- Documentation Link - https://www.tensorflow.org/api_docs/python/tf/keras/datasets\n",
        "- Video link below"
      ]
    },
    {
      "cell_type": "markdown",
      "metadata": {
        "id": "-itMNPvEClNJ"
      },
      "source": [
        "# 1. **Importing & Understanding Data**"
      ]
    },
    {
      "cell_type": "code",
      "execution_count": 2,
      "metadata": {
        "colab": {
          "base_uri": "https://localhost:8080/"
        },
        "id": "dxXZHZltp_ng",
        "outputId": "109cb784-9a8f-462c-a86f-0dc7bbda098e"
      },
      "outputs": [],
      "source": [
        "# Import mnist from tensorflow.keras.datasets\n",
        "from tensorflow.keras.datasets import mnist\n",
        "\n",
        "# load the data using mnist.load_data and define train_images, train_labels, test_images, test_labels\n",
        "(train_images, train_labels), (test_images, test_labels) = mnist.load_data()"
      ]
    },
    {
      "cell_type": "code",
      "execution_count": 3,
      "metadata": {
        "colab": {
          "base_uri": "https://localhost:8080/"
        },
        "id": "CqC4IDCdqRyL",
        "outputId": "a3b27715-dbb4-4d47-943a-26b5592b0fd9"
      },
      "outputs": [
        {
          "data": {
            "text/plain": [
              "(60000, 28, 28)"
            ]
          },
          "execution_count": 3,
          "metadata": {},
          "output_type": "execute_result"
        }
      ],
      "source": [
        "# check the shape of train_images dataset\n",
        "train_images.shape"
      ]
    },
    {
      "cell_type": "code",
      "execution_count": 4,
      "metadata": {
        "colab": {
          "base_uri": "https://localhost:8080/"
        },
        "id": "aCFAzUQKfYOA",
        "outputId": "1c824dbd-477f-44db-849c-790fe89a102e"
      },
      "outputs": [
        {
          "data": {
            "text/plain": [
              "(28, 28)"
            ]
          },
          "execution_count": 4,
          "metadata": {},
          "output_type": "execute_result"
        }
      ],
      "source": [
        "# check the shape of train_images single image (train_images[0])\n",
        "train_images[0].shape"
      ]
    },
    {
      "cell_type": "code",
      "execution_count": 5,
      "metadata": {
        "colab": {
          "base_uri": "https://localhost:8080/"
        },
        "id": "eW3drzXeKnil",
        "outputId": "ea319537-0100-4614-8450-61f34786298a"
      },
      "outputs": [
        {
          "data": {
            "text/plain": [
              "array([[  0,   0,   0,   0,   0,   0,   0,   0,   0,   0,   0,   0,   0,\n",
              "          0,   0,   0,   0,   0,   0,   0,   0,   0,   0,   0,   0,   0,\n",
              "          0,   0],\n",
              "       [  0,   0,   0,   0,   0,   0,   0,   0,   0,   0,   0,   0,   0,\n",
              "          0,   0,   0,   0,   0,   0,   0,   0,   0,   0,   0,   0,   0,\n",
              "          0,   0],\n",
              "       [  0,   0,   0,   0,   0,   0,   0,   0,   0,   0,   0,   0,   0,\n",
              "          0,   0,   0,   0,   0,   0,   0,   0,   0,   0,   0,   0,   0,\n",
              "          0,   0],\n",
              "       [  0,   0,   0,   0,   0,   0,   0,   0,   0,   0,   0,   0,   0,\n",
              "          0,   0,   0,   0,   0,   0,   0,   0,   0,   0,   0,   0,   0,\n",
              "          0,   0],\n",
              "       [  0,   0,   0,   0,   0,   0,   0,   0,   0,   0,   0,   0,   0,\n",
              "          0,   0,   0,   0,   0,   0,   0,   0,   0,   0,   0,   0,   0,\n",
              "          0,   0],\n",
              "       [  0,   0,   0,   0,   0,   0,   0,   0,   0,   0,   0,   0,   3,\n",
              "         18,  18,  18, 126, 136, 175,  26, 166, 255, 247, 127,   0,   0,\n",
              "          0,   0],\n",
              "       [  0,   0,   0,   0,   0,   0,   0,   0,  30,  36,  94, 154, 170,\n",
              "        253, 253, 253, 253, 253, 225, 172, 253, 242, 195,  64,   0,   0,\n",
              "          0,   0],\n",
              "       [  0,   0,   0,   0,   0,   0,   0,  49, 238, 253, 253, 253, 253,\n",
              "        253, 253, 253, 253, 251,  93,  82,  82,  56,  39,   0,   0,   0,\n",
              "          0,   0],\n",
              "       [  0,   0,   0,   0,   0,   0,   0,  18, 219, 253, 253, 253, 253,\n",
              "        253, 198, 182, 247, 241,   0,   0,   0,   0,   0,   0,   0,   0,\n",
              "          0,   0],\n",
              "       [  0,   0,   0,   0,   0,   0,   0,   0,  80, 156, 107, 253, 253,\n",
              "        205,  11,   0,  43, 154,   0,   0,   0,   0,   0,   0,   0,   0,\n",
              "          0,   0],\n",
              "       [  0,   0,   0,   0,   0,   0,   0,   0,   0,  14,   1, 154, 253,\n",
              "         90,   0,   0,   0,   0,   0,   0,   0,   0,   0,   0,   0,   0,\n",
              "          0,   0],\n",
              "       [  0,   0,   0,   0,   0,   0,   0,   0,   0,   0,   0, 139, 253,\n",
              "        190,   2,   0,   0,   0,   0,   0,   0,   0,   0,   0,   0,   0,\n",
              "          0,   0],\n",
              "       [  0,   0,   0,   0,   0,   0,   0,   0,   0,   0,   0,  11, 190,\n",
              "        253,  70,   0,   0,   0,   0,   0,   0,   0,   0,   0,   0,   0,\n",
              "          0,   0],\n",
              "       [  0,   0,   0,   0,   0,   0,   0,   0,   0,   0,   0,   0,  35,\n",
              "        241, 225, 160, 108,   1,   0,   0,   0,   0,   0,   0,   0,   0,\n",
              "          0,   0],\n",
              "       [  0,   0,   0,   0,   0,   0,   0,   0,   0,   0,   0,   0,   0,\n",
              "         81, 240, 253, 253, 119,  25,   0,   0,   0,   0,   0,   0,   0,\n",
              "          0,   0],\n",
              "       [  0,   0,   0,   0,   0,   0,   0,   0,   0,   0,   0,   0,   0,\n",
              "          0,  45, 186, 253, 253, 150,  27,   0,   0,   0,   0,   0,   0,\n",
              "          0,   0],\n",
              "       [  0,   0,   0,   0,   0,   0,   0,   0,   0,   0,   0,   0,   0,\n",
              "          0,   0,  16,  93, 252, 253, 187,   0,   0,   0,   0,   0,   0,\n",
              "          0,   0],\n",
              "       [  0,   0,   0,   0,   0,   0,   0,   0,   0,   0,   0,   0,   0,\n",
              "          0,   0,   0,   0, 249, 253, 249,  64,   0,   0,   0,   0,   0,\n",
              "          0,   0],\n",
              "       [  0,   0,   0,   0,   0,   0,   0,   0,   0,   0,   0,   0,   0,\n",
              "          0,  46, 130, 183, 253, 253, 207,   2,   0,   0,   0,   0,   0,\n",
              "          0,   0],\n",
              "       [  0,   0,   0,   0,   0,   0,   0,   0,   0,   0,   0,   0,  39,\n",
              "        148, 229, 253, 253, 253, 250, 182,   0,   0,   0,   0,   0,   0,\n",
              "          0,   0],\n",
              "       [  0,   0,   0,   0,   0,   0,   0,   0,   0,   0,  24, 114, 221,\n",
              "        253, 253, 253, 253, 201,  78,   0,   0,   0,   0,   0,   0,   0,\n",
              "          0,   0],\n",
              "       [  0,   0,   0,   0,   0,   0,   0,   0,  23,  66, 213, 253, 253,\n",
              "        253, 253, 198,  81,   2,   0,   0,   0,   0,   0,   0,   0,   0,\n",
              "          0,   0],\n",
              "       [  0,   0,   0,   0,   0,   0,  18, 171, 219, 253, 253, 253, 253,\n",
              "        195,  80,   9,   0,   0,   0,   0,   0,   0,   0,   0,   0,   0,\n",
              "          0,   0],\n",
              "       [  0,   0,   0,   0,  55, 172, 226, 253, 253, 253, 253, 244, 133,\n",
              "         11,   0,   0,   0,   0,   0,   0,   0,   0,   0,   0,   0,   0,\n",
              "          0,   0],\n",
              "       [  0,   0,   0,   0, 136, 253, 253, 253, 212, 135, 132,  16,   0,\n",
              "          0,   0,   0,   0,   0,   0,   0,   0,   0,   0,   0,   0,   0,\n",
              "          0,   0],\n",
              "       [  0,   0,   0,   0,   0,   0,   0,   0,   0,   0,   0,   0,   0,\n",
              "          0,   0,   0,   0,   0,   0,   0,   0,   0,   0,   0,   0,   0,\n",
              "          0,   0],\n",
              "       [  0,   0,   0,   0,   0,   0,   0,   0,   0,   0,   0,   0,   0,\n",
              "          0,   0,   0,   0,   0,   0,   0,   0,   0,   0,   0,   0,   0,\n",
              "          0,   0],\n",
              "       [  0,   0,   0,   0,   0,   0,   0,   0,   0,   0,   0,   0,   0,\n",
              "          0,   0,   0,   0,   0,   0,   0,   0,   0,   0,   0,   0,   0,\n",
              "          0,   0]], dtype=uint8)"
            ]
          },
          "execution_count": 5,
          "metadata": {},
          "output_type": "execute_result"
        }
      ],
      "source": [
        "# let's look at the first image which will show in the array form \n",
        "train_images[0]"
      ]
    },
    {
      "cell_type": "markdown",
      "metadata": {
        "id": "Fd97T7_2K7Ts"
      },
      "source": [
        "**Observation from the array output**\n",
        "- You can see value in the array ranging from 0-255 depicting RGB color."
      ]
    },
    {
      "cell_type": "code",
      "execution_count": 6,
      "metadata": {
        "colab": {
          "base_uri": "https://localhost:8080/"
        },
        "id": "t5DHziNKqZHQ",
        "outputId": "92485345-1c70-46c7-afdf-a8b8c34b085f"
      },
      "outputs": [
        {
          "data": {
            "text/plain": [
              "(60000,)"
            ]
          },
          "execution_count": 6,
          "metadata": {},
          "output_type": "execute_result"
        }
      ],
      "source": [
        "# check shape of train_labels\n",
        "train_labels.shape"
      ]
    },
    {
      "cell_type": "code",
      "execution_count": 7,
      "metadata": {
        "colab": {
          "base_uri": "https://localhost:8080/"
        },
        "id": "iy6GOfueqezc",
        "outputId": "9ecb60dd-5e25-4f6a-df01-ac1f38b3d750"
      },
      "outputs": [
        {
          "data": {
            "text/plain": [
              "array([5, 0, 4, ..., 5, 6, 8], dtype=uint8)"
            ]
          },
          "execution_count": 7,
          "metadata": {},
          "output_type": "execute_result"
        }
      ],
      "source": [
        "# check the labels of train data\n",
        "train_labels"
      ]
    },
    {
      "cell_type": "code",
      "execution_count": 8,
      "metadata": {
        "colab": {
          "base_uri": "https://localhost:8080/"
        },
        "id": "3ETtb0Wwqh4e",
        "outputId": "a7bc3257-b596-4698-b9bd-776c58b29d36"
      },
      "outputs": [
        {
          "data": {
            "text/plain": [
              "(10000, 28, 28)"
            ]
          },
          "execution_count": 8,
          "metadata": {},
          "output_type": "execute_result"
        }
      ],
      "source": [
        "# check shape of test data\n",
        "test_images.shape"
      ]
    },
    {
      "cell_type": "code",
      "execution_count": 9,
      "metadata": {
        "colab": {
          "base_uri": "https://localhost:8080/"
        },
        "id": "oSRAlMHMqq3n",
        "outputId": "8b97d91e-c351-4a12-fb41-2d8be5f9f7c4"
      },
      "outputs": [
        {
          "data": {
            "text/plain": [
              "array([7, 2, 1, ..., 4, 5, 6], dtype=uint8)"
            ]
          },
          "execution_count": 9,
          "metadata": {},
          "output_type": "execute_result"
        }
      ],
      "source": [
        "# check the labels of test data\n",
        "test_labels"
      ]
    },
    {
      "cell_type": "markdown",
      "metadata": {
        "id": "50g0vmUggetK"
      },
      "source": [
        "# 2. **EDA**"
      ]
    },
    {
      "cell_type": "markdown",
      "metadata": {
        "id": "zYOxXqnbksdv"
      },
      "source": [
        "## **How to plot multiple images of the output(0-9 digits)?**\n",
        "- Follow the comments below in the code to plot."
      ]
    },
    {
      "cell_type": "code",
      "execution_count": 11,
      "metadata": {
        "colab": {
          "base_uri": "https://localhost:8080/",
          "height": 246
        },
        "id": "-CHxWOz9XIIu",
        "outputId": "de7d3850-d365-4c37-f7df-a809cf33eaa1"
      },
      "outputs": [
        {
          "name": "stdout",
          "output_type": "stream",
          "text": [
            "[1]\n",
            "[3]\n",
            "[5]\n",
            "[7]\n",
            "[2]\n",
            "[0]\n",
            "[13]\n",
            "[15]\n",
            "[17]\n",
            "[4]\n"
          ]
        },
        {
          "data": {
            "image/png": "[encoded data removed]",
            "text/plain": [
              "<Figure size 800x400 with 10 Axes>"
            ]
          },
          "metadata": {},
          "output_type": "display_data"
        }
      ],
      "source": [
        "# importing pyplot and numpy for plotting images of 0-9\n",
        "import matplotlib.pyplot as plt\n",
        "import numpy as np\n",
        "# defining subplots (2,5)\n",
        "fig, ax = plt.subplots(2,5, figsize=(8,4))\n",
        "\n",
        "# looping over ax.flatten(), and plotting each digit\n",
        "for i, ax in enumerate(ax.flatten()): # code instead of None\n",
        "    # choosing each digit occuring at its first instance\n",
        "    im_idx = np.argwhere(train_labels == i)[0] # code instead of None\n",
        "    print(im_idx)\n",
        "    # reshaping the selected digit to (28, 28) from (1, 28, 28)\n",
        "    plottable_image = np.reshape(train_images[im_idx], (28,28))# code here  \n",
        "    # now pass this plottable_image to ax.imshow\n",
        "    ax.imshow(plottable_image, cmap='gray_r')"
      ]
    },
    {
      "cell_type": "markdown",
      "metadata": {
        "id": "UeuKWNi8IT4e"
      },
      "source": [
        "# 3. **Preparing the data**"
      ]
    },
    {
      "cell_type": "markdown",
      "metadata": {
        "id": "7K8RvfERla-M"
      },
      "source": [
        "## **How to prepare the image for model building?**\n",
        "- Follow the comments below to understand the process."
      ]
    },
    {
      "cell_type": "code",
      "execution_count": 12,
      "metadata": {
        "id": "WsgiDtUhqzxj"
      },
      "outputs": [],
      "source": [
        "# reshape train_images from (60000, 28, 28) to (60000, 28*28)\n",
        "train_images = train_images.reshape(60000, 28*28)\n",
        "# convert dtype of train_images from uint8 to float32 \n",
        "train_images = train_images.astype('float32')/ 255\n",
        "# reshape test_images from (10000, 28, 28) to (10000, 28*28)\n",
        "test_images = test_images.reshape(10000, 28*28)\n",
        "# convert dtype of test_images from uint8 to float32 \n",
        "test_images = test_images.astype('float32')/255"
      ]
    },
    {
      "cell_type": "markdown",
      "metadata": {
        "id": "DIcxNa7xIp0_"
      },
      "source": [
        "# 4.**Model 1: Building the model** "
      ]
    },
    {
      "cell_type": "markdown",
      "metadata": {
        "id": "JQj5QNpuQy37"
      },
      "source": [
        "![](https://zitaoshen.rbind.io/project/machine_learning/how-to-build-your-own-neural-net-from-the-scrach/featured.png)"
      ]
    },
    {
      "cell_type": "markdown",
      "metadata": {
        "id": "pK-K8lSSkkjy"
      },
      "source": [
        "### **How To Build Model?**\n",
        "- Documentation Link - https://www.tensorflow.org/api_docs/python/tf/keras/Sequential\n",
        "- Watch the video below & follow the steps in code cells later."
      ]
    },
    {
      "cell_type": "markdown",
      "metadata": {
        "id": "5qBiLtnOUtPK"
      },
      "source": [
        "**Let's import necessary libraries and define our model by following the comments**"
      ]
    },
    {
      "cell_type": "code",
      "execution_count": 13,
      "metadata": {
        "id": "iPIpX7sTqtli"
      },
      "outputs": [],
      "source": [
        "# importing keras and layers from tensorflow\n",
        "from tensorflow import keras\n",
        "from tensorflow.keras import layers\n",
        "\n",
        "# define the model and its network architecture\n",
        "# define two dense layers having first layer with 512 neurons & activation='relu'\n",
        "# second layer with 10 neurons & activation = 'softmax'\n",
        "model = keras.Sequential([\n",
        "    layers.Dense(512, activation='relu'),\n",
        "    layers.Dense(10, activation='softmax')\n",
        "])"
      ]
    },
    {
      "cell_type": "markdown",
      "metadata": {
        "id": "gbG0_GxuI08L"
      },
      "source": [
        "# 5. **Compiling & fitting the model**"
      ]
    },
    {
      "cell_type": "markdown",
      "metadata": {
        "id": "071HXgddSew6"
      },
      "source": [
        "**In the next cell, we will compile our model.**"
      ]
    },
    {
      "cell_type": "code",
      "execution_count": 14,
      "metadata": {
        "id": "eSprJU8IqzvH"
      },
      "outputs": [],
      "source": [
        "# compile the model with optimizer='rmsprop', loss='sparse_categorical_crossentropy', & metrics=['accuracy']\n",
        "model.compile(optimizer='rmsprop', loss='sparse_categorical_crossentropy', metrics=['accuracy'])"
      ]
    },
    {
      "cell_type": "markdown",
      "metadata": {
        "id": "wc9b-9t9Sktd"
      },
      "source": [
        "**Then we will fit our model**"
      ]
    },
    {
      "cell_type": "code",
      "execution_count": 16,
      "metadata": {
        "colab": {
          "base_uri": "https://localhost:8080/"
        },
        "id": "xUDMjKw2qzz5",
        "outputId": "bc54f785-9e30-4ddc-d748-7d69d7db590c"
      },
      "outputs": [
        {
          "name": "stdout",
          "output_type": "stream",
          "text": [
            "Epoch 1/10\n",
            "469/469 [==============================] - 3s 5ms/step - loss: 0.2650 - accuracy: 0.9248\n",
            "Epoch 2/10\n",
            "469/469 [==============================] - 2s 4ms/step - loss: 0.1073 - accuracy: 0.9683\n",
            "Epoch 3/10\n",
            "469/469 [==============================] - 2s 4ms/step - loss: 0.0707 - accuracy: 0.9791\n",
            "Epoch 4/10\n",
            "469/469 [==============================] - 2s 4ms/step - loss: 0.0513 - accuracy: 0.9848\n",
            "Epoch 5/10\n",
            "469/469 [==============================] - 2s 4ms/step - loss: 0.0384 - accuracy: 0.9884\n",
            "Epoch 6/10\n",
            "469/469 [==============================] - 2s 4ms/step - loss: 0.0295 - accuracy: 0.9913\n",
            "Epoch 7/10\n",
            "469/469 [==============================] - 2s 4ms/step - loss: 0.0223 - accuracy: 0.9936\n",
            "Epoch 8/10\n",
            "469/469 [==============================] - 3s 6ms/step - loss: 0.0170 - accuracy: 0.9952\n",
            "Epoch 9/10\n",
            "469/469 [==============================] - 2s 5ms/step - loss: 0.0126 - accuracy: 0.9969\n",
            "Epoch 10/10\n",
            "469/469 [==============================] - 2s 5ms/step - loss: 0.0092 - accuracy: 0.9977\n"
          ]
        },
        {
          "data": {
            "text/plain": [
              "<keras.callbacks.History at 0x7f7b04ed98e0>"
            ]
          },
          "execution_count": 16,
          "metadata": {},
          "output_type": "execute_result"
        }
      ],
      "source": [
        "# fit the model with epochs=10, batch_size=128\n",
        "model.fit(train_images, train_labels, epochs=10, batch_size=128)"
      ]
    },
    {
      "cell_type": "markdown",
      "metadata": {
        "id": "6vNi3cnxI_FD"
      },
      "source": [
        "# 6. **Prediction on test data**"
      ]
    },
    {
      "cell_type": "markdown",
      "metadata": {
        "id": "ZTj1CbB5SsKV"
      },
      "source": [
        "**In the next cell, we will take first 10 images of test data**"
      ]
    },
    {
      "cell_type": "code",
      "execution_count": 17,
      "metadata": {
        "id": "0Ovhlj6iqz2T"
      },
      "outputs": [],
      "source": [
        "# define a variable test_digits and store the first 10 images of test data\n",
        "test_digits = test_images[0:10]"
      ]
    },
    {
      "cell_type": "markdown",
      "metadata": {
        "id": "R2MoY1lQS3pk"
      },
      "source": [
        "**Then we will predict on those 10 images**"
      ]
    },
    {
      "cell_type": "code",
      "execution_count": 18,
      "metadata": {
        "id": "SQQdFH1Dqz5G"
      },
      "outputs": [
        {
          "name": "stdout",
          "output_type": "stream",
          "text": [
            "1/1 [==============================] - 0s 117ms/step\n"
          ]
        }
      ],
      "source": [
        "# predict the test_digits using our model\n",
        "predictions = model.predict(test_digits)"
      ]
    },
    {
      "cell_type": "markdown",
      "metadata": {
        "id": "8tAjn6RzTCDw"
      },
      "source": [
        "**We will check prediction on first image in next cell**"
      ]
    },
    {
      "cell_type": "code",
      "execution_count": 19,
      "metadata": {
        "colab": {
          "base_uri": "https://localhost:8080/"
        },
        "id": "Tvqv1tForhz_",
        "outputId": "c919590c-9c0e-4dab-c5b2-e841c0e03592"
      },
      "outputs": [
        {
          "data": {
            "text/plain": [
              "array([9.5006323e-09, 2.0705554e-11, 3.5401570e-07, 4.9726121e-05,\n",
              "       5.3811881e-13, 2.4584784e-08, 1.8825104e-14, 9.9990380e-01,\n",
              "       1.1260894e-07, 4.6074481e-05], dtype=float32)"
            ]
          },
          "execution_count": 19,
          "metadata": {},
          "output_type": "execute_result"
        }
      ],
      "source": [
        "# check the first image prediction from predictions\n",
        "predictions[0]"
      ]
    },
    {
      "cell_type": "markdown",
      "metadata": {
        "id": "psYQ5uguTMx7"
      },
      "source": [
        "**Previous output shows probability of first image being either one of 0-9 digits. For example, probability of first image being 0 is 1.83151341e-10 which is very very low.**"
      ]
    },
    {
      "cell_type": "code",
      "execution_count": 21,
      "metadata": {
        "colab": {
          "base_uri": "https://localhost:8080/"
        },
        "id": "opYeTzkBrh20",
        "outputId": "f8e4eb91-8e82-4868-d237-2188ddde328f"
      },
      "outputs": [
        {
          "data": {
            "text/plain": [
              "7"
            ]
          },
          "execution_count": 21,
          "metadata": {},
          "output_type": "execute_result"
        }
      ],
      "source": [
        "# checking the index having maximum prediction \n",
        "predictions[0].argmax()"
      ]
    },
    {
      "cell_type": "markdown",
      "metadata": {
        "id": "6MxZkpQUTrlk"
      },
      "source": [
        "**In next cell, we can see the maximum prediction for first image is 0.99 at index 7 showing that first image is digit 7.**"
      ]
    },
    {
      "cell_type": "code",
      "execution_count": 22,
      "metadata": {
        "colab": {
          "base_uri": "https://localhost:8080/"
        },
        "id": "QpWRWUAZrqMk",
        "outputId": "db93f619-9882-4caf-efc0-28dfe98374e7"
      },
      "outputs": [
        {
          "data": {
            "text/plain": [
              "0.9999038"
            ]
          },
          "execution_count": 22,
          "metadata": {},
          "output_type": "execute_result"
        }
      ],
      "source": [
        "# checking the index value having maximum prediction\n",
        "predictions[0][7] "
      ]
    },
    {
      "cell_type": "markdown",
      "metadata": {
        "id": "E6cEQQOQT_z0"
      },
      "source": [
        "**In next cell, we are confirming whether our prediction is right or wrong by checking label.**"
      ]
    },
    {
      "cell_type": "code",
      "execution_count": 23,
      "metadata": {
        "colab": {
          "base_uri": "https://localhost:8080/"
        },
        "id": "4kEmeD_MrqPX",
        "outputId": "3c88fc83-4a0e-475a-e178-f7924222137b"
      },
      "outputs": [
        {
          "data": {
            "text/plain": [
              "7"
            ]
          },
          "execution_count": 23,
          "metadata": {},
          "output_type": "execute_result"
        }
      ],
      "source": [
        "# checking the label for that index having maximum prediction\n",
        "test_labels[0] "
      ]
    },
    {
      "cell_type": "markdown",
      "metadata": {
        "id": "omBibgdBCZ1y"
      },
      "source": [
        "# 7. **Evaluating the model**"
      ]
    },
    {
      "cell_type": "markdown",
      "metadata": {
        "id": "QVLGbYXWU_oP"
      },
      "source": [
        "**Now we evaluate our model on unseen data, which is test set.**"
      ]
    },
    {
      "cell_type": "code",
      "execution_count": 24,
      "metadata": {
        "colab": {
          "base_uri": "https://localhost:8080/"
        },
        "id": "4d1xmMn5r3D_",
        "outputId": "aa378e4e-1b15-4131-e807-24c04b10d3b5"
      },
      "outputs": [
        {
          "name": "stdout",
          "output_type": "stream",
          "text": [
            "313/313 [==============================] - 1s 1ms/step - loss: 0.0636 - accuracy: 0.9806\n"
          ]
        }
      ],
      "source": [
        "# check the loss and accuracy for test data using model.evaluate\n",
        "test_loss, test_acc = model.evaluate(test_images, test_labels)"
      ]
    },
    {
      "cell_type": "code",
      "execution_count": 25,
      "metadata": {
        "colab": {
          "base_uri": "https://localhost:8080/"
        },
        "id": "-1ronVEGr4fN",
        "outputId": "af55d527-85b9-4024-f5be-d995785d403b"
      },
      "outputs": [
        {
          "name": "stdout",
          "output_type": "stream",
          "text": [
            "0.9805999994277954\n"
          ]
        }
      ],
      "source": [
        "# print test accuracy\n",
        "print(test_acc)"
      ]
    },
    {
      "cell_type": "markdown",
      "metadata": {
        "id": "Iv3F7LfGEJ2p"
      },
      "source": [
        "## **Observation from evaluation**\n",
        "- We can see that our train accuracy is 99.7% and our test accuracy is 98.2% which clearly shows the case of overfitting. "
      ]
    },
    {
      "cell_type": "markdown",
      "metadata": {
        "id": "Eclx-T0PMh1t"
      },
      "source": [
        "# **REGULARIZATION**\n",
        "Regularization is a technique which makes slight modifications to the learning algorithm such that the model generalizes better. It is a way to overcome overfitting problem in machine learning/deep learning problem. This in turn improves the model’s performance on the unseen data as well.\n",
        "\n",
        "**Overfittng:** It is a situation where your model performed exceptionally well on train data but was not able to predict test data. "
      ]
    },
    {
      "cell_type": "markdown",
      "metadata": {
        "id": "AjTCM30oNuzf"
      },
      "source": [
        "![](https://cdn.analyticsvidhya.com/wp-content/uploads/2018/04/Screen-Shot-2018-04-03-at-7.52.01-PM-e1522832332857.png)"
      ]
    },
    {
      "cell_type": "markdown",
      "metadata": {
        "id": "eCvyFXZ2OnIH"
      },
      "source": [
        "## **How do we deal with reglarization?**\n",
        "\n",
        "There are multiple ways to deal with regularization\n",
        "- L2 & L1 regularization\n",
        "- Dropouts\n",
        "- Early stopping\n",
        "- Data augmentation\n",
        "\n",
        "Besides these ways, tweaking the architecture is a natural way to avoid overfitting. Here we just gave you an overview of regularization. We will cover this detail in another assignment.\n",
        "\n",
        "## **Here we will just tweak our architecture to show you how you can avoid overfitting. This is an excellent way to learn how you can train the network with different architectures.**"
      ]
    },
    {
      "cell_type": "markdown",
      "metadata": {
        "id": "5e7qrpV2CwL1"
      },
      "source": [
        "# 8. **Model 2: Rebuilding another model**"
      ]
    },
    {
      "cell_type": "code",
      "execution_count": 26,
      "metadata": {
        "id": "iDLqV02ssfod"
      },
      "outputs": [],
      "source": [
        "# build 2nd model \n",
        "# architecture: total 3 dense layers, \n",
        "# first 2 layers with 128, 128 neurons with activation='relu'\n",
        "# and last layer with 10 neurons and activation='softmax'\n",
        "model2 = keras.Sequential([\n",
        "    layers.Dense(128, activation='relu'),\n",
        "    layers.Dense(128, activation='relu'),\n",
        "    layers.Dense(10, activation='softmax')\n",
        "])"
      ]
    },
    {
      "cell_type": "code",
      "execution_count": 27,
      "metadata": {
        "id": "QpbbjkOksfqi"
      },
      "outputs": [],
      "source": [
        "# compiling model2 with optimizer='rmsprop', loss='sparse_categorical_crossentropy' and metrics=['accuracy']\n",
        "model2.compile(optimizer='rmsprop', loss='sparse_categorical_crossentropy', metrics=['accuracy'])"
      ]
    },
    {
      "cell_type": "code",
      "execution_count": 28,
      "metadata": {
        "colab": {
          "base_uri": "https://localhost:8080/"
        },
        "id": "57iB9F0Osfsf",
        "outputId": "16bc40d4-3fe7-4ba9-874d-d876f2c973cc"
      },
      "outputs": [
        {
          "name": "stdout",
          "output_type": "stream",
          "text": [
            "Epoch 1/6\n",
            "469/469 [==============================] - 2s 2ms/step - loss: 0.3005 - accuracy: 0.9140\n",
            "Epoch 2/6\n",
            "469/469 [==============================] - 1s 2ms/step - loss: 0.1260 - accuracy: 0.9618\n",
            "Epoch 3/6\n",
            "469/469 [==============================] - 2s 3ms/step - loss: 0.0875 - accuracy: 0.9732\n",
            "Epoch 4/6\n",
            "469/469 [==============================] - 1s 3ms/step - loss: 0.0669 - accuracy: 0.9794\n",
            "Epoch 5/6\n",
            "469/469 [==============================] - 1s 3ms/step - loss: 0.0522 - accuracy: 0.9836\n",
            "Epoch 6/6\n",
            "469/469 [==============================] - 2s 3ms/step - loss: 0.0431 - accuracy: 0.9865\n"
          ]
        },
        {
          "data": {
            "text/plain": [
              "<keras.callbacks.History at 0x7f7a8006c3a0>"
            ]
          },
          "execution_count": 28,
          "metadata": {},
          "output_type": "execute_result"
        }
      ],
      "source": [
        "# fitting model 2 with epochs=6, batch_size=128\n",
        "model2.fit(train_images, train_labels, epochs=6, batch_size=128)"
      ]
    },
    {
      "cell_type": "code",
      "execution_count": 30,
      "metadata": {
        "colab": {
          "base_uri": "https://localhost:8080/"
        },
        "id": "Mzyrncm6sfuq",
        "outputId": "32cf446f-6453-4c42-c8c8-c64c90199311"
      },
      "outputs": [
        {
          "name": "stdout",
          "output_type": "stream",
          "text": [
            "313/313 [==============================] - 0s 753us/step - loss: 0.0865 - accuracy: 0.9741\n"
          ]
        },
        {
          "data": {
            "text/plain": [
              "[0.0864846408367157, 0.9740999937057495]"
            ]
          },
          "execution_count": 30,
          "metadata": {},
          "output_type": "execute_result"
        }
      ],
      "source": [
        "# check the loss and accuracy for test data using model2.evaluate\n",
        "model2.evaluate(test_images, test_labels)"
      ]
    },
    {
      "cell_type": "markdown",
      "metadata": {
        "id": "tGZb_nxOFqc_"
      },
      "source": [
        "## **Observation from evaluation**\n",
        "- We can see the gap between train accuracy & test accuracy falling down from 1.5% in our first model to 0.9% this time. Overfitting is still a problem so we will do some more changes in our architecture. "
      ]
    },
    {
      "cell_type": "markdown",
      "metadata": {
        "id": "UTUrjg82JwV7"
      },
      "source": [
        "# 9. **Model 3: Rebuilding another model**"
      ]
    },
    {
      "cell_type": "code",
      "execution_count": 32,
      "metadata": {
        "id": "CL93r8HVsfwr"
      },
      "outputs": [],
      "source": [
        "# Build 3rd model\n",
        "# add 3 dense layers in which \n",
        "# first 2 layers with 64 neurons and activation = 'relu'\n",
        "# last layer with 10 neurons and activation='softmax'\n",
        "model3 = keras.Sequential([\n",
        "    layers.Dense(64, activation='relu'),\n",
        "    layers.Dense(64, activation='relu'),\n",
        "    layers.Dense(10, activation='softmax')\n",
        "    ])"
      ]
    },
    {
      "cell_type": "code",
      "execution_count": 36,
      "metadata": {
        "id": "XZHhdbEzsfyv"
      },
      "outputs": [],
      "source": [
        "# compiling model3 with optimizer='rmsprop', loss='sparse_categorical_crossentropy' and metrics=['accuracy']\n",
        "model3.compile(loss='sparse_categorical_crossentropy',optimizer='rmsprop',metrics=['accuracy'])"
      ]
    },
    {
      "cell_type": "code",
      "execution_count": 37,
      "metadata": {
        "colab": {
          "base_uri": "https://localhost:8080/"
        },
        "id": "Win6yPxqsf06",
        "outputId": "1c18e453-a673-40f4-c30b-06b7f297e94c"
      },
      "outputs": [
        {
          "name": "stdout",
          "output_type": "stream",
          "text": [
            "Epoch 1/5\n",
            "469/469 [==============================] - 1s 2ms/step - loss: 0.3727 - accuracy: 0.8976\n",
            "Epoch 2/5\n",
            "469/469 [==============================] - 1s 1ms/step - loss: 0.1737 - accuracy: 0.9494\n",
            "Epoch 3/5\n",
            "469/469 [==============================] - 1s 1ms/step - loss: 0.1280 - accuracy: 0.9625\n",
            "Epoch 4/5\n",
            "469/469 [==============================] - 1s 2ms/step - loss: 0.1012 - accuracy: 0.9701\n",
            "Epoch 5/5\n",
            "469/469 [==============================] - 1s 1ms/step - loss: 0.0849 - accuracy: 0.9751\n"
          ]
        },
        {
          "data": {
            "text/plain": [
              "<keras.callbacks.History at 0x7f7ae1eea760>"
            ]
          },
          "execution_count": 37,
          "metadata": {},
          "output_type": "execute_result"
        }
      ],
      "source": [
        "# fitting the model 3 with epochs = 5 and batch_size=128\n",
        "model3.fit(train_images,train_labels,epochs=5,batch_size=128)"
      ]
    },
    {
      "cell_type": "code",
      "execution_count": 38,
      "metadata": {
        "colab": {
          "base_uri": "https://localhost:8080/"
        },
        "id": "lUB-QQiOsf2v",
        "outputId": "7afaa40e-f321-4d38-c189-e8747583bfa7"
      },
      "outputs": [
        {
          "name": "stdout",
          "output_type": "stream",
          "text": [
            "313/313 [==============================] - 0s 639us/step - loss: 0.0993 - accuracy: 0.9712\n"
          ]
        },
        {
          "data": {
            "text/plain": [
              "[0.09925239533185959, 0.9711999893188477]"
            ]
          },
          "execution_count": 38,
          "metadata": {},
          "output_type": "execute_result"
        }
      ],
      "source": [
        "# check the loss and accuracy for test data using model3.evaluate\n",
        "model3.evaluate(test_images,test_labels)"
      ]
    },
    {
      "cell_type": "markdown",
      "metadata": {
        "id": "TcyG_HpRNOV7"
      },
      "source": [
        "## **Observation from evaluation**\n",
        "- We can see the gap between train accuracy & test accuracy falling down from 0.9% in our 2nd model to 0.5% this time. Let's try to reduce this gap also."
      ]
    },
    {
      "cell_type": "markdown",
      "metadata": {
        "id": "OdebrbqFM7Sd"
      },
      "source": [
        "# 10. **Model 4: Rebuilding another model**"
      ]
    },
    {
      "cell_type": "code",
      "execution_count": 39,
      "metadata": {
        "id": "gbWuXDsLsf5j"
      },
      "outputs": [],
      "source": [
        "# Build 4th model\n",
        "# add 2 dense layers in which \n",
        "# first layer with 128 neurons and activation = 'relu'\n",
        "# last layer with 10 neurons and activation='softmax'\n",
        "model4 = keras.Sequential([\n",
        "    layers.Dense(128, activation='relu'),\n",
        "    layers.Dense(10, activation='softmax')\n",
        "    ])"
      ]
    },
    {
      "cell_type": "code",
      "execution_count": 40,
      "metadata": {
        "id": "icc7ra-iMEwN"
      },
      "outputs": [],
      "source": [
        "# compiling model4 with optimizer='rmsprop', loss='sparse_categorical_crossentropy' and metrics=['accuracy']\n",
        "model4.compile(loss='sparse_categorical_crossentropy',optimizer='rmsprop',metrics=['accuracy'])"
      ]
    },
    {
      "cell_type": "code",
      "execution_count": 41,
      "metadata": {
        "colab": {
          "base_uri": "https://localhost:8080/"
        },
        "id": "09ZRqTHtMF8C",
        "outputId": "fc46696a-4a44-4f06-ce20-783222b8aa49"
      },
      "outputs": [
        {
          "name": "stdout",
          "output_type": "stream",
          "text": [
            "Epoch 1/5\n",
            "469/469 [==============================] - 3s 2ms/step - loss: 0.3389 - accuracy: 0.9073\n",
            "Epoch 2/5\n",
            "469/469 [==============================] - 1s 2ms/step - loss: 0.1609 - accuracy: 0.9541\n",
            "Epoch 3/5\n",
            "469/469 [==============================] - 1s 2ms/step - loss: 0.1139 - accuracy: 0.9675\n",
            "Epoch 4/5\n",
            "469/469 [==============================] - 1s 2ms/step - loss: 0.0878 - accuracy: 0.9747\n",
            "Epoch 5/5\n",
            "469/469 [==============================] - 1s 2ms/step - loss: 0.0718 - accuracy: 0.9790\n"
          ]
        },
        {
          "data": {
            "text/plain": [
              "<keras.callbacks.History at 0x7f7b05219eb0>"
            ]
          },
          "execution_count": 41,
          "metadata": {},
          "output_type": "execute_result"
        }
      ],
      "source": [
        "# fitting the model 4th with epochs = 5 and batch_size=128\n",
        "model4.fit(train_images,train_labels,epochs=5,batch_size=128)"
      ]
    },
    {
      "cell_type": "code",
      "execution_count": 42,
      "metadata": {
        "colab": {
          "base_uri": "https://localhost:8080/"
        },
        "id": "gDHZNIgjMIw-",
        "outputId": "221389f5-9400-41ad-ecd4-b0e93b354aee"
      },
      "outputs": [
        {
          "name": "stdout",
          "output_type": "stream",
          "text": [
            "313/313 [==============================] - 0s 718us/step - loss: 0.0818 - accuracy: 0.9745\n"
          ]
        },
        {
          "data": {
            "text/plain": [
              "[0.08182765543460846, 0.9745000004768372]"
            ]
          },
          "execution_count": 42,
          "metadata": {},
          "output_type": "execute_result"
        }
      ],
      "source": [
        "# check the loss and accuracy for test data using model4.evaluate\n",
        "model4.evaluate(test_images,test_labels)"
      ]
    },
    {
      "cell_type": "markdown",
      "metadata": {
        "id": "b2ISg0cvNdu7"
      },
      "source": [
        "## **Observation from evaluation**\n",
        "- We can see the gap between train accuracy & test accuracy falling down from 0.5% in our fourth model to 0.4% this time. You can also try different architecture and play with it to see how it works. Learn from such insights."
      ]
    },
    {
      "cell_type": "markdown",
      "metadata": {
        "id": "clldfqNpWSoK"
      },
      "source": [
        "# **CONCLUSION FROM THIS ASSIGNMENT**\n",
        "- We saw that how model complexity i.e. no. of layers and neurons affect our model.\n",
        "- Increasing no. of neurons/layers can make our model overfit the data.  "
      ]
    }
  ],
  "metadata": {
    "colab": {
      "collapsed_sections": [],
      "name": "training_neural_network_withoutcode.ipynb",
      "provenance": []
    },
    "kernelspec": {
      "display_name": "Python 3",
      "name": "python3"
    },
    "language_info": {
      "codemirror_mode": {
        "name": "ipython",
        "version": 3
      },
      "file_extension": ".py",
      "mimetype": "text/x-python",
      "name": "python",
      "nbconvert_exporter": "python",
      "pygments_lexer": "ipython3",
      "version": "3.8.-1"
    }
  },
  "nbformat": 4,
  "nbformat_minor": 0
}
