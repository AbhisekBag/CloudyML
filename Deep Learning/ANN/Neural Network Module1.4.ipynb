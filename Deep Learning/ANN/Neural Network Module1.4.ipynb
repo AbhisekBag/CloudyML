{
  "cells": [
    {
      "cell_type": "markdown",
      "metadata": {
        "id": "GTqIB0Gtvo6B"
      },
      "source": [
        "#                       <h1><center>**TRAINING NEURAL NETWORK**</center></h1>   \n",
        "\n",
        "\n"
      ]
    },
    {
      "cell_type": "markdown",
      "metadata": {
        "id": "glmLhqL5IfYQ"
      },
      "source": [
        "# **ABOUT THE MNIST DATASET**\n",
        "\n",
        "MNIST dataset, a classic in the machine learning community, which has been around almost as long as the field itself and has been intensively studied. \n",
        "It’s a set of 60,000 training images, plus 10,000 test images, assembled by the National Institute of Standards and Technology (the NIST in MNIST) in the 1980s.\n",
        "The problem we’re trying to solve here is to classify grayscale images of handwritten digits (28 × 28 pixels) into their 10 categories (0 through 9)."
      ]
    },
    {
      "cell_type": "markdown",
      "metadata": {
        "id": "15U4So3SjxSW"
      },
      "source": [
        "![MNIST](https://cdn.analyticsvidhya.com/wp-content/uploads/2021/06/78429blog-5-cover.png)"
      ]
    },
    {
      "cell_type": "markdown",
      "metadata": {
        "id": "7GziBnOc9JhB"
      },
      "source": [
        "# **TOPICS IN THIS ASSIGNMENT**\n",
        "1. Importing and understanding dataset\n",
        "2. EDA\n",
        "3. Preparing data\n",
        "4. Building the model\n",
        "5. Compiling and fitting the model\n",
        "6. Prediction on test data\n",
        "7. Evaluating the model\n",
        "8. Rebuilding the model(repeating 3-7 steps)"
      ]
    },
    {
      "cell_type": "markdown",
      "metadata": {
        "id": "As8Zh96MkKB0"
      },
      "source": [
        "### **How To Load Dataset?**\n",
        "- Documentation Link - https://www.tensorflow.org/api_docs/python/tf/keras/datasets\n",
        "- Video link below"
      ]
    },
    {
      "cell_type": "markdown",
      "metadata": {
        "id": "-itMNPvEClNJ"
      },
      "source": [
        "# 1. **Importing & Understanding Data**"
      ]
    },
    {
      "cell_type": "code",
      "execution_count": null,
      "metadata": {
        "colab": {
          "base_uri": "https://localhost:8080/"
        },
        "id": "dxXZHZltp_ng",
        "outputId": "109cb784-9a8f-462c-a86f-0dc7bbda098e"
      },
      "outputs": [
        {
          "name": "stdout",
          "output_type": "stream",
          "text": [
            "Downloading data from https://storage.googleapis.com/tensorflow/tf-keras-datasets/mnist.npz\n",
            "11493376/11490434 [==============================] - 0s 0us/step\n",
            "11501568/11490434 [==============================] - 0s 0us/step\n"
          ]
        }
      ],
      "source": [
        "# Import mnist from tensorflow.keras.datasets\n",
        "\n",
        "\n",
        "\n",
        "# load the data using mnist.load_data and define train_images, train_labels, test_images, test_labels\n"
      ]
    },
    {
      "cell_type": "code",
      "execution_count": null,
      "metadata": {
        "colab": {
          "base_uri": "https://localhost:8080/"
        },
        "id": "CqC4IDCdqRyL",
        "outputId": "a3b27715-dbb4-4d47-943a-26b5592b0fd9"
      },
      "outputs": [
        {
          "data": {
            "text/plain": [
              "(60000, 28, 28)"
            ]
          },
          "execution_count": 2,
          "metadata": {},
          "output_type": "execute_result"
        }
      ],
      "source": [
        "# check the shape of train_images dataset\n"
      ]
    },
    {
      "cell_type": "code",
      "execution_count": null,
      "metadata": {
        "colab": {
          "base_uri": "https://localhost:8080/"
        },
        "id": "aCFAzUQKfYOA",
        "outputId": "1c824dbd-477f-44db-849c-790fe89a102e"
      },
      "outputs": [
        {
          "data": {
            "text/plain": [
              "(28, 28)"
            ]
          },
          "execution_count": 3,
          "metadata": {},
          "output_type": "execute_result"
        }
      ],
      "source": [
        "# check the shape of train_images single image (train_images[0])\n"
      ]
    },
    {
      "cell_type": "code",
      "execution_count": null,
      "metadata": {
        "colab": {
          "base_uri": "https://localhost:8080/"
        },
        "id": "eW3drzXeKnil",
        "outputId": "ea319537-0100-4614-8450-61f34786298a"
      },
      "outputs": [
        {
          "data": {
            "text/plain": [
              "array([[  0,   0,   0,   0,   0,   0,   0,   0,   0,   0,   0,   0,   0,\n",
              "          0,   0,   0,   0,   0,   0,   0,   0,   0,   0,   0,   0,   0,\n",
              "          0,   0],\n",
              "       [  0,   0,   0,   0,   0,   0,   0,   0,   0,   0,   0,   0,   0,\n",
              "          0,   0,   0,   0,   0,   0,   0,   0,   0,   0,   0,   0,   0,\n",
              "          0,   0],\n",
              "       [  0,   0,   0,   0,   0,   0,   0,   0,   0,   0,   0,   0,   0,\n",
              "          0,   0,   0,   0,   0,   0,   0,   0,   0,   0,   0,   0,   0,\n",
              "          0,   0],\n",
              "       [  0,   0,   0,   0,   0,   0,   0,   0,   0,   0,   0,   0,   0,\n",
              "          0,   0,   0,   0,   0,   0,   0,   0,   0,   0,   0,   0,   0,\n",
              "          0,   0],\n",
              "       [  0,   0,   0,   0,   0,   0,   0,   0,   0,   0,   0,   0,   0,\n",
              "          0,   0,   0,   0,   0,   0,   0,   0,   0,   0,   0,   0,   0,\n",
              "          0,   0],\n",
              "       [  0,   0,   0,   0,   0,   0,   0,   0,   0,   0,   0,   0,   3,\n",
              "         18,  18,  18, 126, 136, 175,  26, 166, 255, 247, 127,   0,   0,\n",
              "          0,   0],\n",
              "       [  0,   0,   0,   0,   0,   0,   0,   0,  30,  36,  94, 154, 170,\n",
              "        253, 253, 253, 253, 253, 225, 172, 253, 242, 195,  64,   0,   0,\n",
              "          0,   0],\n",
              "       [  0,   0,   0,   0,   0,   0,   0,  49, 238, 253, 253, 253, 253,\n",
              "        253, 253, 253, 253, 251,  93,  82,  82,  56,  39,   0,   0,   0,\n",
              "          0,   0],\n",
              "       [  0,   0,   0,   0,   0,   0,   0,  18, 219, 253, 253, 253, 253,\n",
              "        253, 198, 182, 247, 241,   0,   0,   0,   0,   0,   0,   0,   0,\n",
              "          0,   0],\n",
              "       [  0,   0,   0,   0,   0,   0,   0,   0,  80, 156, 107, 253, 253,\n",
              "        205,  11,   0,  43, 154,   0,   0,   0,   0,   0,   0,   0,   0,\n",
              "          0,   0],\n",
              "       [  0,   0,   0,   0,   0,   0,   0,   0,   0,  14,   1, 154, 253,\n",
              "         90,   0,   0,   0,   0,   0,   0,   0,   0,   0,   0,   0,   0,\n",
              "          0,   0],\n",
              "       [  0,   0,   0,   0,   0,   0,   0,   0,   0,   0,   0, 139, 253,\n",
              "        190,   2,   0,   0,   0,   0,   0,   0,   0,   0,   0,   0,   0,\n",
              "          0,   0],\n",
              "       [  0,   0,   0,   0,   0,   0,   0,   0,   0,   0,   0,  11, 190,\n",
              "        253,  70,   0,   0,   0,   0,   0,   0,   0,   0,   0,   0,   0,\n",
              "          0,   0],\n",
              "       [  0,   0,   0,   0,   0,   0,   0,   0,   0,   0,   0,   0,  35,\n",
              "        241, 225, 160, 108,   1,   0,   0,   0,   0,   0,   0,   0,   0,\n",
              "          0,   0],\n",
              "       [  0,   0,   0,   0,   0,   0,   0,   0,   0,   0,   0,   0,   0,\n",
              "         81, 240, 253, 253, 119,  25,   0,   0,   0,   0,   0,   0,   0,\n",
              "          0,   0],\n",
              "       [  0,   0,   0,   0,   0,   0,   0,   0,   0,   0,   0,   0,   0,\n",
              "          0,  45, 186, 253, 253, 150,  27,   0,   0,   0,   0,   0,   0,\n",
              "          0,   0],\n",
              "       [  0,   0,   0,   0,   0,   0,   0,   0,   0,   0,   0,   0,   0,\n",
              "          0,   0,  16,  93, 252, 253, 187,   0,   0,   0,   0,   0,   0,\n",
              "          0,   0],\n",
              "       [  0,   0,   0,   0,   0,   0,   0,   0,   0,   0,   0,   0,   0,\n",
              "          0,   0,   0,   0, 249, 253, 249,  64,   0,   0,   0,   0,   0,\n",
              "          0,   0],\n",
              "       [  0,   0,   0,   0,   0,   0,   0,   0,   0,   0,   0,   0,   0,\n",
              "          0,  46, 130, 183, 253, 253, 207,   2,   0,   0,   0,   0,   0,\n",
              "          0,   0],\n",
              "       [  0,   0,   0,   0,   0,   0,   0,   0,   0,   0,   0,   0,  39,\n",
              "        148, 229, 253, 253, 253, 250, 182,   0,   0,   0,   0,   0,   0,\n",
              "          0,   0],\n",
              "       [  0,   0,   0,   0,   0,   0,   0,   0,   0,   0,  24, 114, 221,\n",
              "        253, 253, 253, 253, 201,  78,   0,   0,   0,   0,   0,   0,   0,\n",
              "          0,   0],\n",
              "       [  0,   0,   0,   0,   0,   0,   0,   0,  23,  66, 213, 253, 253,\n",
              "        253, 253, 198,  81,   2,   0,   0,   0,   0,   0,   0,   0,   0,\n",
              "          0,   0],\n",
              "       [  0,   0,   0,   0,   0,   0,  18, 171, 219, 253, 253, 253, 253,\n",
              "        195,  80,   9,   0,   0,   0,   0,   0,   0,   0,   0,   0,   0,\n",
              "          0,   0],\n",
              "       [  0,   0,   0,   0,  55, 172, 226, 253, 253, 253, 253, 244, 133,\n",
              "         11,   0,   0,   0,   0,   0,   0,   0,   0,   0,   0,   0,   0,\n",
              "          0,   0],\n",
              "       [  0,   0,   0,   0, 136, 253, 253, 253, 212, 135, 132,  16,   0,\n",
              "          0,   0,   0,   0,   0,   0,   0,   0,   0,   0,   0,   0,   0,\n",
              "          0,   0],\n",
              "       [  0,   0,   0,   0,   0,   0,   0,   0,   0,   0,   0,   0,   0,\n",
              "          0,   0,   0,   0,   0,   0,   0,   0,   0,   0,   0,   0,   0,\n",
              "          0,   0],\n",
              "       [  0,   0,   0,   0,   0,   0,   0,   0,   0,   0,   0,   0,   0,\n",
              "          0,   0,   0,   0,   0,   0,   0,   0,   0,   0,   0,   0,   0,\n",
              "          0,   0],\n",
              "       [  0,   0,   0,   0,   0,   0,   0,   0,   0,   0,   0,   0,   0,\n",
              "          0,   0,   0,   0,   0,   0,   0,   0,   0,   0,   0,   0,   0,\n",
              "          0,   0]], dtype=uint8)"
            ]
          },
          "execution_count": 4,
          "metadata": {},
          "output_type": "execute_result"
        }
      ],
      "source": [
        "# let's look at the first image which will show in the array form \n"
      ]
    },
    {
      "cell_type": "markdown",
      "metadata": {
        "id": "Fd97T7_2K7Ts"
      },
      "source": [
        "**Observation from the array output**\n",
        "- You can see value in the array ranging from 0-255 depicting RGB color."
      ]
    },
    {
      "cell_type": "code",
      "execution_count": null,
      "metadata": {
        "colab": {
          "base_uri": "https://localhost:8080/"
        },
        "id": "t5DHziNKqZHQ",
        "outputId": "92485345-1c70-46c7-afdf-a8b8c34b085f"
      },
      "outputs": [
        {
          "data": {
            "text/plain": [
              "60000"
            ]
          },
          "execution_count": 128,
          "metadata": {},
          "output_type": "execute_result"
        }
      ],
      "source": [
        "# check shape of train_labels\n"
      ]
    },
    {
      "cell_type": "code",
      "execution_count": null,
      "metadata": {
        "colab": {
          "base_uri": "https://localhost:8080/"
        },
        "id": "iy6GOfueqezc",
        "outputId": "9ecb60dd-5e25-4f6a-df01-ac1f38b3d750"
      },
      "outputs": [
        {
          "data": {
            "text/plain": [
              "array([5, 0, 4, ..., 5, 6, 8], dtype=uint8)"
            ]
          },
          "execution_count": 129,
          "metadata": {},
          "output_type": "execute_result"
        }
      ],
      "source": [
        "# check the labels of train data\n"
      ]
    },
    {
      "cell_type": "code",
      "execution_count": null,
      "metadata": {
        "colab": {
          "base_uri": "https://localhost:8080/"
        },
        "id": "3ETtb0Wwqh4e",
        "outputId": "a7bc3257-b596-4698-b9bd-776c58b29d36"
      },
      "outputs": [
        {
          "data": {
            "text/plain": [
              "(10000, 28, 28)"
            ]
          },
          "execution_count": 130,
          "metadata": {},
          "output_type": "execute_result"
        }
      ],
      "source": [
        "# check shape of test data\n"
      ]
    },
    {
      "cell_type": "code",
      "execution_count": null,
      "metadata": {
        "colab": {
          "base_uri": "https://localhost:8080/"
        },
        "id": "oSRAlMHMqq3n",
        "outputId": "8b97d91e-c351-4a12-fb41-2d8be5f9f7c4"
      },
      "outputs": [
        {
          "data": {
            "text/plain": [
              "array([7, 2, 1, ..., 4, 5, 6], dtype=uint8)"
            ]
          },
          "execution_count": 131,
          "metadata": {},
          "output_type": "execute_result"
        }
      ],
      "source": [
        "# check the labels of test data\n",
        "\n"
      ]
    },
    {
      "cell_type": "markdown",
      "metadata": {
        "id": "CqP2OsU9V6h6"
      },
      "source": [
        "## **How to plot an image?**\n",
        "- You can find a simple way to plot an image of MNIST dataset by watching the video below."
      ]
    },
    {
      "cell_type": "markdown",
      "metadata": {
        "id": "50g0vmUggetK"
      },
      "source": [
        "# 2. **EDA**"
      ]
    },
    {
      "cell_type": "markdown",
      "metadata": {
        "id": "zYOxXqnbksdv"
      },
      "source": [
        "## **How to plot multiple images of the output(0-9 digits)?**\n",
        "- Follow the comments below in the code to plot."
      ]
    },
    {
      "cell_type": "code",
      "execution_count": null,
      "metadata": {
        "colab": {
          "base_uri": "https://localhost:8080/",
          "height": 246
        },
        "id": "-CHxWOz9XIIu",
        "outputId": "de7d3850-d365-4c37-f7df-a809cf33eaa1"
      },
      "outputs": [
        {
          "data": {
            "image/png": "[encoded data removed]",
            "text/plain": [
              "<Figure size 576x288 with 10 Axes>"
            ]
          },
          "metadata": {
            "needs_background": "light"
          },
          "output_type": "display_data"
        }
      ],
      "source": [
        "# importing pyplot and numpy for plotting images of 0-9\n",
        "\n",
        "\n",
        "# defining subplots (2,5)\n",
        "fig, ax = plt.subplots(2,5, figsize=(8,4))\n",
        "\n",
        "# looping over ax.flatten(), and plotting each digit\n",
        "for i, ax in None: # code instead of None\n",
        "    # choosing each digit occuring at its first instance\n",
        "    im_idx = None # code instead of None\n",
        "    # reshaping the selected digit to (28, 28) from (1, 28, 28)\n",
        "    plottable_image = # code here  \n",
        "    # now pass this plottable_image to ax.imshow\n",
        "    ax.imshow(plottable_image, cmap='gray_r')"
      ]
    },
    {
      "cell_type": "markdown",
      "metadata": {
        "id": "UeuKWNi8IT4e"
      },
      "source": [
        "# 3. **Preparing the data**"
      ]
    },
    {
      "cell_type": "markdown",
      "metadata": {
        "id": "7K8RvfERla-M"
      },
      "source": [
        "## **How to prepare the image for model building?**\n",
        "- Follow the comments below to understand the process."
      ]
    },
    {
      "cell_type": "code",
      "execution_count": null,
      "metadata": {
        "id": "WsgiDtUhqzxj"
      },
      "outputs": [],
      "source": [
        "# reshape train_images from (60000, 28, 28) to (60000, 28*28)\n",
        "\n",
        "# convert dtype of train_images from uint8 to float32 \n",
        "\n",
        "# reshape train_images from (10000, 28, 28) to (10000, 28*28)\n",
        "\n",
        "# convert dtype of test_images from uint8 to float32 \n"
      ]
    },
    {
      "cell_type": "markdown",
      "metadata": {
        "id": "DIcxNa7xIp0_"
      },
      "source": [
        "# 4.**Model 1: Building the model** "
      ]
    },
    {
      "cell_type": "markdown",
      "metadata": {
        "id": "JQj5QNpuQy37"
      },
      "source": [
        "![](https://zitaoshen.rbind.io/project/machine_learning/how-to-build-your-own-neural-net-from-the-scrach/featured.png)"
      ]
    },
    {
      "cell_type": "markdown",
      "metadata": {
        "id": "pK-K8lSSkkjy"
      },
      "source": [
        "### **How To Build Model?**\n",
        "- Documentation Link - https://www.tensorflow.org/api_docs/python/tf/keras/Sequential\n",
        "- Watch the video below & follow the steps in code cells later."
      ]
    },
    {
      "cell_type": "markdown",
      "metadata": {
        "id": "5qBiLtnOUtPK"
      },
      "source": [
        "**Let's import necessary libraries and define our model by following the comments**"
      ]
    },
    {
      "cell_type": "code",
      "execution_count": null,
      "metadata": {
        "id": "iPIpX7sTqtli"
      },
      "outputs": [],
      "source": [
        "# importing keras and layers from tensorflow\n",
        "\n",
        "\n",
        "# define the model and its network architecture\n",
        "# define two dense layers having first layer with 512 neurons & activation='relu'\n",
        "# second layer with 10 neurons & activation = 'softmax'\n",
        "model = #code here"
      ]
    },
    {
      "cell_type": "markdown",
      "metadata": {
        "id": "gbG0_GxuI08L"
      },
      "source": [
        "# 5. **Compiling & fitting the model**"
      ]
    },
    {
      "cell_type": "markdown",
      "metadata": {
        "id": "071HXgddSew6"
      },
      "source": [
        "**In the next cell, we will compile our model.**"
      ]
    },
    {
      "cell_type": "code",
      "execution_count": null,
      "metadata": {
        "id": "eSprJU8IqzvH"
      },
      "outputs": [],
      "source": [
        "# compile the model with optimizer='rmsprop', loss='sparse_categorical_crossentropy', & metrics=['accuracy']\n"
      ]
    },
    {
      "cell_type": "markdown",
      "metadata": {
        "id": "wc9b-9t9Sktd"
      },
      "source": [
        "**Then we will fit our model**"
      ]
    },
    {
      "cell_type": "code",
      "execution_count": null,
      "metadata": {
        "colab": {
          "base_uri": "https://localhost:8080/"
        },
        "id": "xUDMjKw2qzz5",
        "outputId": "bc54f785-9e30-4ddc-d748-7d69d7db590c"
      },
      "outputs": [
        {
          "name": "stdout",
          "output_type": "stream",
          "text": [
            "Epoch 1/10\n",
            "469/469 [==============================] - 6s 11ms/step - loss: 0.2545 - accuracy: 0.9256\n",
            "Epoch 2/10\n",
            "469/469 [==============================] - 5s 10ms/step - loss: 0.1044 - accuracy: 0.9692\n",
            "Epoch 3/10\n",
            "469/469 [==============================] - 5s 10ms/step - loss: 0.0689 - accuracy: 0.9793\n",
            "Epoch 4/10\n",
            "469/469 [==============================] - 5s 11ms/step - loss: 0.0503 - accuracy: 0.9851\n",
            "Epoch 5/10\n",
            "469/469 [==============================] - 5s 11ms/step - loss: 0.0374 - accuracy: 0.9884\n",
            "Epoch 6/10\n",
            "469/469 [==============================] - 5s 11ms/step - loss: 0.0282 - accuracy: 0.9917\n",
            "Epoch 7/10\n",
            "469/469 [==============================] - 5s 11ms/step - loss: 0.0218 - accuracy: 0.9935\n",
            "Epoch 8/10\n",
            "469/469 [==============================] - 5s 10ms/step - loss: 0.0163 - accuracy: 0.9953\n",
            "Epoch 9/10\n",
            "469/469 [==============================] - 5s 11ms/step - loss: 0.0130 - accuracy: 0.9964\n",
            "Epoch 10/10\n",
            "469/469 [==============================] - 5s 11ms/step - loss: 0.0102 - accuracy: 0.9974\n"
          ]
        },
        {
          "data": {
            "text/plain": [
              "<keras.callbacks.History at 0x7f9f4d3422d0>"
            ]
          },
          "execution_count": 67,
          "metadata": {},
          "output_type": "execute_result"
        }
      ],
      "source": [
        "# fit the model with epochs=10, batch_size=128\n"
      ]
    },
    {
      "cell_type": "markdown",
      "metadata": {
        "id": "6vNi3cnxI_FD"
      },
      "source": [
        "# 6. **Prediction on test data**"
      ]
    },
    {
      "cell_type": "markdown",
      "metadata": {
        "id": "ZTj1CbB5SsKV"
      },
      "source": [
        "**In the next cell, we will take first 10 images of test data**"
      ]
    },
    {
      "cell_type": "code",
      "execution_count": null,
      "metadata": {
        "id": "0Ovhlj6iqz2T"
      },
      "outputs": [],
      "source": [
        "# define a variable test_digits and store the first 10 images of test data\n"
      ]
    },
    {
      "cell_type": "markdown",
      "metadata": {
        "id": "R2MoY1lQS3pk"
      },
      "source": [
        "**Then we will predict on those 10 images**"
      ]
    },
    {
      "cell_type": "code",
      "execution_count": null,
      "metadata": {
        "id": "SQQdFH1Dqz5G"
      },
      "outputs": [],
      "source": [
        "# predict the test_digits using our model\n"
      ]
    },
    {
      "cell_type": "markdown",
      "metadata": {
        "id": "8tAjn6RzTCDw"
      },
      "source": [
        "**We will check prediction on first image in next cell**"
      ]
    },
    {
      "cell_type": "code",
      "execution_count": null,
      "metadata": {
        "colab": {
          "base_uri": "https://localhost:8080/"
        },
        "id": "Tvqv1tForhz_",
        "outputId": "c919590c-9c0e-4dab-c5b2-e841c0e03592"
      },
      "outputs": [
        {
          "data": {
            "text/plain": [
              "array([1.83151341e-10, 8.44416462e-15, 7.57867014e-09, 8.81661836e-05,\n",
              "       3.46131464e-16, 1.52920732e-10, 4.08821713e-19, 9.99911666e-01,\n",
              "       1.89882643e-09, 1.10814504e-07], dtype=float32)"
            ]
          },
          "execution_count": 70,
          "metadata": {},
          "output_type": "execute_result"
        }
      ],
      "source": [
        "# check the first image prediction from predictions\n"
      ]
    },
    {
      "cell_type": "markdown",
      "metadata": {
        "id": "psYQ5uguTMx7"
      },
      "source": [
        "**Previous output shows probability of first image being either one of 0-9 digits. For example, probability of first image being 0 is 1.83151341e-10 which is very very low.**"
      ]
    },
    {
      "cell_type": "code",
      "execution_count": null,
      "metadata": {
        "colab": {
          "base_uri": "https://localhost:8080/"
        },
        "id": "opYeTzkBrh20",
        "outputId": "f8e4eb91-8e82-4868-d237-2188ddde328f"
      },
      "outputs": [
        {
          "data": {
            "text/plain": [
              "7"
            ]
          },
          "execution_count": 71,
          "metadata": {},
          "output_type": "execute_result"
        }
      ],
      "source": [
        "# checking the index having maximum prediction \n",
        " "
      ]
    },
    {
      "cell_type": "markdown",
      "metadata": {
        "id": "6MxZkpQUTrlk"
      },
      "source": [
        "**In next cell, we can see the maximum prediction for first image is 0.99 at index 7 showing that first image is digit 7.**"
      ]
    },
    {
      "cell_type": "code",
      "execution_count": null,
      "metadata": {
        "colab": {
          "base_uri": "https://localhost:8080/"
        },
        "id": "QpWRWUAZrqMk",
        "outputId": "db93f619-9882-4caf-efc0-28dfe98374e7"
      },
      "outputs": [
        {
          "data": {
            "text/plain": [
              "0.99991167"
            ]
          },
          "execution_count": 72,
          "metadata": {},
          "output_type": "execute_result"
        }
      ],
      "source": [
        "# checking the index value having maximum prediction\n",
        "predictions[0][7] "
      ]
    },
    {
      "cell_type": "markdown",
      "metadata": {
        "id": "E6cEQQOQT_z0"
      },
      "source": [
        "**In next cell, we are confirming whether our prediction is right or wrong by checking label.**"
      ]
    },
    {
      "cell_type": "code",
      "execution_count": null,
      "metadata": {
        "colab": {
          "base_uri": "https://localhost:8080/"
        },
        "id": "4kEmeD_MrqPX",
        "outputId": "3c88fc83-4a0e-475a-e178-f7924222137b"
      },
      "outputs": [
        {
          "data": {
            "text/plain": [
              "7"
            ]
          },
          "execution_count": 73,
          "metadata": {},
          "output_type": "execute_result"
        }
      ],
      "source": [
        "# checking the label for that index having maximum prediction\n",
        "test_labels[0] "
      ]
    },
    {
      "cell_type": "markdown",
      "metadata": {
        "id": "omBibgdBCZ1y"
      },
      "source": [
        "# 7. **Evaluating the model**"
      ]
    },
    {
      "cell_type": "markdown",
      "metadata": {
        "id": "QVLGbYXWU_oP"
      },
      "source": [
        "**Now we evaluate our model on unseen data, which is test set.**"
      ]
    },
    {
      "cell_type": "code",
      "execution_count": null,
      "metadata": {
        "colab": {
          "base_uri": "https://localhost:8080/"
        },
        "id": "4d1xmMn5r3D_",
        "outputId": "aa378e4e-1b15-4131-e807-24c04b10d3b5"
      },
      "outputs": [
        {
          "name": "stdout",
          "output_type": "stream",
          "text": [
            "313/313 [==============================] - 1s 3ms/step - loss: 0.0681 - accuracy: 0.9825\n"
          ]
        }
      ],
      "source": [
        "# check the loss and accuracy for test data using model.evaluate\n"
      ]
    },
    {
      "cell_type": "code",
      "execution_count": null,
      "metadata": {
        "colab": {
          "base_uri": "https://localhost:8080/"
        },
        "id": "-1ronVEGr4fN",
        "outputId": "af55d527-85b9-4024-f5be-d995785d403b"
      },
      "outputs": [
        {
          "name": "stdout",
          "output_type": "stream",
          "text": [
            "test_acc: 0.9825000166893005\n"
          ]
        }
      ],
      "source": [
        "# print test accuracy\n"
      ]
    },
    {
      "cell_type": "markdown",
      "metadata": {
        "id": "Iv3F7LfGEJ2p"
      },
      "source": [
        "## **Observation from evaluation**\n",
        "- We can see that our train accuracy is 99.7% and our test accuracy is 98.2% which clearly shows the case of overfitting. "
      ]
    },
    {
      "cell_type": "markdown",
      "metadata": {
        "id": "Eclx-T0PMh1t"
      },
      "source": [
        "# **REGULARIZATION**\n",
        "Regularization is a technique which makes slight modifications to the learning algorithm such that the model generalizes better. It is a way to overcome overfitting problem in machine learning/deep learning problem. This in turn improves the model’s performance on the unseen data as well.\n",
        "\n",
        "**Overfittng:** It is a situation where your model performed exceptionally well on train data but was not able to predict test data. "
      ]
    },
    {
      "cell_type": "markdown",
      "metadata": {
        "id": "AjTCM30oNuzf"
      },
      "source": [
        "![](https://cdn.analyticsvidhya.com/wp-content/uploads/2018/04/Screen-Shot-2018-04-03-at-7.52.01-PM-e1522832332857.png)"
      ]
    },
    {
      "cell_type": "markdown",
      "metadata": {
        "id": "eCvyFXZ2OnIH"
      },
      "source": [
        "## **How do we deal with reglarization?**\n",
        "\n",
        "There are multiple ways to deal with regularization\n",
        "- L2 & L1 regularization\n",
        "- Dropouts\n",
        "- Early stopping\n",
        "- Data augmentation\n",
        "\n",
        "Besides these ways, tweaking the architecture is a natural way to avoid overfitting. Here we just gave you an overview of regularization. We will cover this detail in another assignment.\n",
        "\n",
        "## **Here we will just tweak our architecture to show you how you can avoid overfitting. This is an excellent way to learn how you can train the network with different architectures.**"
      ]
    },
    {
      "cell_type": "markdown",
      "metadata": {
        "id": "5e7qrpV2CwL1"
      },
      "source": [
        "# 8. **Model 2: Rebuilding another model**"
      ]
    },
    {
      "cell_type": "code",
      "execution_count": null,
      "metadata": {
        "id": "iDLqV02ssfod"
      },
      "outputs": [],
      "source": [
        "# build 2nd model \n",
        "# architecture: total 3 dense layers, \n",
        "# first 2 layers with 128, 128 neurons with activation='relu'\n",
        "# and last layer with 10 neurons and activation='softmax'\n",
        "model2 = # code here"
      ]
    },
    {
      "cell_type": "code",
      "execution_count": null,
      "metadata": {
        "id": "QpbbjkOksfqi"
      },
      "outputs": [],
      "source": [
        "# compiling model2 with optimizer='rmsprop', loss='sparse_categorical_crossentropy' and metrics=['accuracy']\n"
      ]
    },
    {
      "cell_type": "code",
      "execution_count": null,
      "metadata": {
        "colab": {
          "base_uri": "https://localhost:8080/"
        },
        "id": "57iB9F0Osfsf",
        "outputId": "16bc40d4-3fe7-4ba9-874d-d876f2c973cc"
      },
      "outputs": [
        {
          "name": "stdout",
          "output_type": "stream",
          "text": [
            "Epoch 1/6\n",
            "469/469 [==============================] - 4s 7ms/step - loss: 0.2952 - accuracy: 0.9150\n",
            "Epoch 2/6\n",
            "469/469 [==============================] - 3s 7ms/step - loss: 0.1240 - accuracy: 0.9629\n",
            "Epoch 3/6\n",
            "469/469 [==============================] - 3s 6ms/step - loss: 0.0872 - accuracy: 0.9727\n",
            "Epoch 4/6\n",
            "469/469 [==============================] - 3s 6ms/step - loss: 0.0655 - accuracy: 0.9796\n",
            "Epoch 5/6\n",
            "469/469 [==============================] - 3s 6ms/step - loss: 0.0524 - accuracy: 0.9834\n",
            "Epoch 6/6\n",
            "469/469 [==============================] - 3s 7ms/step - loss: 0.0417 - accuracy: 0.9867\n"
          ]
        },
        {
          "data": {
            "text/plain": [
              "<keras.callbacks.History at 0x7f9f43adab10>"
            ]
          },
          "execution_count": 82,
          "metadata": {},
          "output_type": "execute_result"
        }
      ],
      "source": [
        "# fitting model 2 with epochs=6, batch_size=128\n"
      ]
    },
    {
      "cell_type": "code",
      "execution_count": null,
      "metadata": {
        "colab": {
          "base_uri": "https://localhost:8080/"
        },
        "id": "Mzyrncm6sfuq",
        "outputId": "32cf446f-6453-4c42-c8c8-c64c90199311"
      },
      "outputs": [
        {
          "name": "stdout",
          "output_type": "stream",
          "text": [
            "313/313 [==============================] - 1s 2ms/step - loss: 0.0809 - accuracy: 0.9770\n"
          ]
        }
      ],
      "source": [
        "# check the loss and accuracy for test data using model2.evaluate\n"
      ]
    },
    {
      "cell_type": "markdown",
      "metadata": {
        "id": "tGZb_nxOFqc_"
      },
      "source": [
        "## **Observation from evaluation**\n",
        "- We can see the gap between train accuracy & test accuracy falling down from 1.5% in our first model to 0.9% this time. Overfitting is still a problem so we will do some more changes in our architecture. "
      ]
    },
    {
      "cell_type": "markdown",
      "metadata": {
        "id": "UTUrjg82JwV7"
      },
      "source": [
        "# 9. **Model 3: Rebuilding another model**"
      ]
    },
    {
      "cell_type": "code",
      "execution_count": null,
      "metadata": {
        "id": "CL93r8HVsfwr"
      },
      "outputs": [],
      "source": [
        "# Build 3rd model\n",
        "# add 3 dense layers in which \n",
        "# first 2 layers with 64 neurons and activation = 'relu'\n",
        "# last layer with 10 neurons and activation='softmax'\n",
        "model3 = # code here"
      ]
    },
    {
      "cell_type": "code",
      "execution_count": null,
      "metadata": {
        "id": "XZHhdbEzsfyv"
      },
      "outputs": [],
      "source": [
        "# compiling model3 with optimizer='rmsprop', loss='sparse_categorical_crossentropy' and metrics=['accuracy']\n"
      ]
    },
    {
      "cell_type": "code",
      "execution_count": null,
      "metadata": {
        "colab": {
          "base_uri": "https://localhost:8080/"
        },
        "id": "Win6yPxqsf06",
        "outputId": "1c18e453-a673-40f4-c30b-06b7f297e94c"
      },
      "outputs": [
        {
          "name": "stdout",
          "output_type": "stream",
          "text": [
            "Epoch 1/5\n",
            "469/469 [==============================] - 4s 7ms/step - loss: 0.3770 - accuracy: 0.8938\n",
            "Epoch 2/5\n",
            "469/469 [==============================] - 3s 6ms/step - loss: 0.1767 - accuracy: 0.9471\n",
            "Epoch 3/5\n",
            "469/469 [==============================] - 2s 5ms/step - loss: 0.1283 - accuracy: 0.9614\n",
            "Epoch 4/5\n",
            "469/469 [==============================] - 2s 5ms/step - loss: 0.1028 - accuracy: 0.9696\n",
            "Epoch 5/5\n",
            "469/469 [==============================] - 2s 5ms/step - loss: 0.0857 - accuracy: 0.9745\n"
          ]
        },
        {
          "data": {
            "text/plain": [
              "<keras.callbacks.History at 0x7f9f43879e10>"
            ]
          },
          "execution_count": 86,
          "metadata": {},
          "output_type": "execute_result"
        }
      ],
      "source": [
        "# fitting the model 3 with epochs = 5 and batch_size=128\n"
      ]
    },
    {
      "cell_type": "code",
      "execution_count": null,
      "metadata": {
        "colab": {
          "base_uri": "https://localhost:8080/"
        },
        "id": "lUB-QQiOsf2v",
        "outputId": "7afaa40e-f321-4d38-c189-e8747583bfa7"
      },
      "outputs": [
        {
          "name": "stdout",
          "output_type": "stream",
          "text": [
            "313/313 [==============================] - 1s 2ms/step - loss: 0.0981 - accuracy: 0.9690\n"
          ]
        }
      ],
      "source": [
        "# check the loss and accuracy for test data using model3.evaluate\n"
      ]
    },
    {
      "cell_type": "markdown",
      "metadata": {
        "id": "TcyG_HpRNOV7"
      },
      "source": [
        "## **Observation from evaluation**\n",
        "- We can see the gap between train accuracy & test accuracy falling down from 0.9% in our 2nd model to 0.5% this time. Let's try to reduce this gap also."
      ]
    },
    {
      "cell_type": "markdown",
      "metadata": {
        "id": "OdebrbqFM7Sd"
      },
      "source": [
        "# 10. **Model 4: Rebuilding another model**"
      ]
    },
    {
      "cell_type": "code",
      "execution_count": null,
      "metadata": {
        "id": "gbWuXDsLsf5j"
      },
      "outputs": [],
      "source": [
        "# Build 4th model\n",
        "# add 2 dense layers in which \n",
        "# first layer with 128 neurons and activation = 'relu'\n",
        "# last layer with 10 neurons and activation='softmax'\n",
        "model4 = # code here"
      ]
    },
    {
      "cell_type": "code",
      "execution_count": null,
      "metadata": {
        "id": "icc7ra-iMEwN"
      },
      "outputs": [],
      "source": [
        "# compiling model4 with optimizer='rmsprop', loss='sparse_categorical_crossentropy' and metrics=['accuracy']\n"
      ]
    },
    {
      "cell_type": "code",
      "execution_count": null,
      "metadata": {
        "colab": {
          "base_uri": "https://localhost:8080/"
        },
        "id": "09ZRqTHtMF8C",
        "outputId": "fc46696a-4a44-4f06-ce20-783222b8aa49"
      },
      "outputs": [
        {
          "name": "stdout",
          "output_type": "stream",
          "text": [
            "Epoch 1/5\n",
            "469/469 [==============================] - 3s 5ms/step - loss: 0.3362 - accuracy: 0.9069\n",
            "Epoch 2/5\n",
            "469/469 [==============================] - 2s 5ms/step - loss: 0.1581 - accuracy: 0.9535\n",
            "Epoch 3/5\n",
            "469/469 [==============================] - 2s 5ms/step - loss: 0.1117 - accuracy: 0.9675\n",
            "Epoch 4/5\n",
            "469/469 [==============================] - 2s 5ms/step - loss: 0.0862 - accuracy: 0.9752\n",
            "Epoch 5/5\n",
            "469/469 [==============================] - 3s 6ms/step - loss: 0.0692 - accuracy: 0.9793\n"
          ]
        },
        {
          "data": {
            "text/plain": [
              "<keras.callbacks.History at 0x7f9f3da72dd0>"
            ]
          },
          "execution_count": 102,
          "metadata": {},
          "output_type": "execute_result"
        }
      ],
      "source": [
        "# fitting the model 4th with epochs = 5 and batch_size=128\n"
      ]
    },
    {
      "cell_type": "code",
      "execution_count": null,
      "metadata": {
        "colab": {
          "base_uri": "https://localhost:8080/"
        },
        "id": "gDHZNIgjMIw-",
        "outputId": "221389f5-9400-41ad-ecd4-b0e93b354aee"
      },
      "outputs": [
        {
          "name": "stdout",
          "output_type": "stream",
          "text": [
            "313/313 [==============================] - 1s 2ms/step - loss: 0.0861 - accuracy: 0.9750\n"
          ]
        }
      ],
      "source": [
        "# check the loss and accuracy for test data using model4.evaluate\n"
      ]
    },
    {
      "cell_type": "markdown",
      "metadata": {
        "id": "b2ISg0cvNdu7"
      },
      "source": [
        "## **Observation from evaluation**\n",
        "- We can see the gap between train accuracy & test accuracy falling down from 0.5% in our fourth model to 0.4% this time. You can also try different architecture and play with it to see how it works. Learn from such insights."
      ]
    },
    {
      "cell_type": "markdown",
      "metadata": {
        "id": "clldfqNpWSoK"
      },
      "source": [
        "# **CONCLUSION FROM THIS ASSIGNMENT**\n",
        "- We saw that how model complexity i.e. no. of layers and neurons affect our model.\n",
        "- Increasing no. of neurons/layers can make our model overfit the data.  "
      ]
    }
  ],
  "metadata": {
    "colab": {
      "collapsed_sections": [],
      "name": "training_neural_network_withoutcode.ipynb",
      "provenance": []
    },
    "kernelspec": {
      "display_name": "Python 3",
      "name": "python3"
    },
    "language_info": {
      "name": "python"
    }
  },
  "nbformat": 4,
  "nbformat_minor": 0
}
