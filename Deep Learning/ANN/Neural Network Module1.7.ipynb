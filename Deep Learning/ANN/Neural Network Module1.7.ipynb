{
  "cells": [
    {
      "cell_type": "markdown",
      "metadata": {
        "id": "_i3tLT86ewqj"
      },
      "source": [
        "#                       <h1><center>**REGULARIZATION**</center></h1>   \n"
      ]
    },
    {
      "cell_type": "markdown",
      "metadata": {
        "id": "lNdcLpCyfBJs"
      },
      "source": [
        "# **ABOUT THE FASHION MNIST DATASET**\n",
        "\n",
        "Fashion-MNIST is a dataset of Zalando's article images—consisting of a training set of 60,000 examples and a test set of 10,000 examples. Each example is a 28x28 grayscale image, associated with a label from 10 classes. Each image is 28 pixels in height and 28 pixels in width, for a total of 784 pixels in total. Each pixel has a single pixel-value associated with it, indicating the lightness or darkness of that pixel, with higher numbers meaning darker. This pixel-value is an integer between 0 and 255. The training and test data sets have 785 columns. The first column consists of the class labels (see above), and represents the article of clothing. The rest of the columns contain the pixel-values of the associated image.\n",
        "\n",
        "# Labels\n",
        "\n",
        "Each training and test example is assigned to one of the following labels:\n",
        "\n",
        "- 0  T-shirt/top\n",
        "- 1  Trouser\n",
        "- 2  Pullover\n",
        "- 3  Dress\n",
        "- 4  Coat\n",
        "- 5  Sandal\n",
        "- 6  Shirt\n",
        "- 7  Sneaker\n",
        "- 8  Bag\n",
        "- 9  Ankle boot"
      ]
    },
    {
      "cell_type": "markdown",
      "metadata": {
        "id": "zN2PotTQhavz"
      },
      "source": [
        "![](https://www.researchgate.net/profile/Saeed-Reza-Kheradpisheh/publication/342801790/figure/fig2/AS:911232181735425@1594266090934/Sample-images-from-Fashion-MNIST-dataset.png)\n"
      ]
    },
    {
      "cell_type": "markdown",
      "metadata": {
        "id": "u99vNeeChuBU"
      },
      "source": [
        "# **TOPICS IN THIS ASSIGNMENT**\n",
        "- Importing and understanding dataset\n",
        "- EDA\n",
        "- Preparing data\n",
        "- Building the model\n",
        "- Compiling and fitting the model\n",
        "- Prediction on test data\n",
        "- Evaluating the model\n",
        "- Regularization techniques\n",
        "- Rebuilding the model using dropout\n",
        "- Rebuilding the model using l2\n",
        "- Rebuilding the model using l1\n",
        "- Rebuilding the model using earlystopping\n"
      ]
    },
    {
      "cell_type": "markdown",
      "metadata": {
        "id": "PqGH1oZgjcyS"
      },
      "source": [
        "### **How To Load Dataset?**\n",
        "- Documentation Link - https://www.tensorflow.org/api_docs/python/tf/keras/datasets\n",
        "- Video link below"
      ]
    },
    {
      "cell_type": "markdown",
      "metadata": {
        "id": "RgE78z2JjySw"
      },
      "source": [
        "# **1. Importing & Understanding Data**"
      ]
    },
    {
      "cell_type": "code",
      "execution_count": null,
      "metadata": {
        "colab": {
          "base_uri": "https://localhost:8080/"
        },
        "id": "xuYImh3vfE_o",
        "outputId": "d03616c4-6356-4898-eda1-26f965b3becc"
      },
      "outputs": [
        {
          "name": "stdout",
          "output_type": "stream",
          "text": [
            "Downloading data from https://storage.googleapis.com/tensorflow/tf-keras-datasets/train-labels-idx1-ubyte.gz\n",
            "32768/29515 [=================================] - 0s 0us/step\n",
            "40960/29515 [=========================================] - 0s 0us/step\n",
            "Downloading data from https://storage.googleapis.com/tensorflow/tf-keras-datasets/train-images-idx3-ubyte.gz\n",
            "26427392/26421880 [==============================] - 0s 0us/step\n",
            "26435584/26421880 [==============================] - 0s 0us/step\n",
            "Downloading data from https://storage.googleapis.com/tensorflow/tf-keras-datasets/t10k-labels-idx1-ubyte.gz\n",
            "16384/5148 [===============================================================================================] - 0s 0us/step\n",
            "Downloading data from https://storage.googleapis.com/tensorflow/tf-keras-datasets/t10k-images-idx3-ubyte.gz\n",
            "4423680/4422102 [==============================] - 0s 0us/step\n",
            "4431872/4422102 [==============================] - 0s 0us/step\n"
          ]
        }
      ],
      "source": [
        "# Import fashion mnist from tensorflow.keras.datasets\n",
        "\n",
        "\n",
        "# load the data using fashion_mnist.load_data and define train_images, train_labels, test_images, test_labels\n"
      ]
    },
    {
      "cell_type": "code",
      "execution_count": null,
      "metadata": {
        "colab": {
          "base_uri": "https://localhost:8080/"
        },
        "id": "pf_jf_0hgQKJ",
        "outputId": "c6fced56-9a7c-4a03-8829-9dce0fb83896"
      },
      "outputs": [
        {
          "data": {
            "text/plain": [
              "(60000, 28, 28)"
            ]
          },
          "execution_count": 3,
          "metadata": {},
          "output_type": "execute_result"
        }
      ],
      "source": [
        "# check the shape of train_images dataset\n"
      ]
    },
    {
      "cell_type": "code",
      "execution_count": null,
      "metadata": {
        "colab": {
          "base_uri": "https://localhost:8080/"
        },
        "id": "IriS32dDgQM4",
        "outputId": "2e895da3-73b7-4c5d-84c2-092d03d2cca1"
      },
      "outputs": [
        {
          "data": {
            "text/plain": [
              "(28, 28)"
            ]
          },
          "execution_count": 4,
          "metadata": {},
          "output_type": "execute_result"
        }
      ],
      "source": [
        "# check the shape of train_images single image (train_images[0])\n"
      ]
    },
    {
      "cell_type": "code",
      "execution_count": null,
      "metadata": {
        "colab": {
          "base_uri": "https://localhost:8080/"
        },
        "id": "LUO3ko8IgQO-",
        "outputId": "377b05e0-d902-4373-f972-c4f22b78c9ce"
      },
      "outputs": [
        {
          "data": {
            "text/plain": [
              "array([[  0,   0,   0,   0,   0,   0,   0,   0,   0,   0,   0,   0,   0,\n",
              "          0,   0,   0,   0,   0,   0,   0,   0,   0,   0,   0,   0,   0,\n",
              "          0,   0],\n",
              "       [  0,   0,   0,   0,   0,   0,   0,   0,   0,   0,   0,   0,   0,\n",
              "          0,   0,   0,   0,   0,   0,   0,   0,   0,   0,   0,   0,   0,\n",
              "          0,   0],\n",
              "       [  0,   0,   0,   0,   0,   0,   0,   0,   0,   0,   0,   0,   0,\n",
              "          0,   0,   0,   0,   0,   0,   0,   0,   0,   0,   0,   0,   0,\n",
              "          0,   0],\n",
              "       [  0,   0,   0,   0,   0,   0,   0,   0,   0,   0,   0,   0,   1,\n",
              "          0,   0,  13,  73,   0,   0,   1,   4,   0,   0,   0,   0,   1,\n",
              "          1,   0],\n",
              "       [  0,   0,   0,   0,   0,   0,   0,   0,   0,   0,   0,   0,   3,\n",
              "          0,  36, 136, 127,  62,  54,   0,   0,   0,   1,   3,   4,   0,\n",
              "          0,   3],\n",
              "       [  0,   0,   0,   0,   0,   0,   0,   0,   0,   0,   0,   0,   6,\n",
              "          0, 102, 204, 176, 134, 144, 123,  23,   0,   0,   0,   0,  12,\n",
              "         10,   0],\n",
              "       [  0,   0,   0,   0,   0,   0,   0,   0,   0,   0,   0,   0,   0,\n",
              "          0, 155, 236, 207, 178, 107, 156, 161, 109,  64,  23,  77, 130,\n",
              "         72,  15],\n",
              "       [  0,   0,   0,   0,   0,   0,   0,   0,   0,   0,   0,   1,   0,\n",
              "         69, 207, 223, 218, 216, 216, 163, 127, 121, 122, 146, 141,  88,\n",
              "        172,  66],\n",
              "       [  0,   0,   0,   0,   0,   0,   0,   0,   0,   1,   1,   1,   0,\n",
              "        200, 232, 232, 233, 229, 223, 223, 215, 213, 164, 127, 123, 196,\n",
              "        229,   0],\n",
              "       [  0,   0,   0,   0,   0,   0,   0,   0,   0,   0,   0,   0,   0,\n",
              "        183, 225, 216, 223, 228, 235, 227, 224, 222, 224, 221, 223, 245,\n",
              "        173,   0],\n",
              "       [  0,   0,   0,   0,   0,   0,   0,   0,   0,   0,   0,   0,   0,\n",
              "        193, 228, 218, 213, 198, 180, 212, 210, 211, 213, 223, 220, 243,\n",
              "        202,   0],\n",
              "       [  0,   0,   0,   0,   0,   0,   0,   0,   0,   1,   3,   0,  12,\n",
              "        219, 220, 212, 218, 192, 169, 227, 208, 218, 224, 212, 226, 197,\n",
              "        209,  52],\n",
              "       [  0,   0,   0,   0,   0,   0,   0,   0,   0,   0,   6,   0,  99,\n",
              "        244, 222, 220, 218, 203, 198, 221, 215, 213, 222, 220, 245, 119,\n",
              "        167,  56],\n",
              "       [  0,   0,   0,   0,   0,   0,   0,   0,   0,   4,   0,   0,  55,\n",
              "        236, 228, 230, 228, 240, 232, 213, 218, 223, 234, 217, 217, 209,\n",
              "         92,   0],\n",
              "       [  0,   0,   1,   4,   6,   7,   2,   0,   0,   0,   0,   0, 237,\n",
              "        226, 217, 223, 222, 219, 222, 221, 216, 223, 229, 215, 218, 255,\n",
              "         77,   0],\n",
              "       [  0,   3,   0,   0,   0,   0,   0,   0,   0,  62, 145, 204, 228,\n",
              "        207, 213, 221, 218, 208, 211, 218, 224, 223, 219, 215, 224, 244,\n",
              "        159,   0],\n",
              "       [  0,   0,   0,   0,  18,  44,  82, 107, 189, 228, 220, 222, 217,\n",
              "        226, 200, 205, 211, 230, 224, 234, 176, 188, 250, 248, 233, 238,\n",
              "        215,   0],\n",
              "       [  0,  57, 187, 208, 224, 221, 224, 208, 204, 214, 208, 209, 200,\n",
              "        159, 245, 193, 206, 223, 255, 255, 221, 234, 221, 211, 220, 232,\n",
              "        246,   0],\n",
              "       [  3, 202, 228, 224, 221, 211, 211, 214, 205, 205, 205, 220, 240,\n",
              "         80, 150, 255, 229, 221, 188, 154, 191, 210, 204, 209, 222, 228,\n",
              "        225,   0],\n",
              "       [ 98, 233, 198, 210, 222, 229, 229, 234, 249, 220, 194, 215, 217,\n",
              "        241,  65,  73, 106, 117, 168, 219, 221, 215, 217, 223, 223, 224,\n",
              "        229,  29],\n",
              "       [ 75, 204, 212, 204, 193, 205, 211, 225, 216, 185, 197, 206, 198,\n",
              "        213, 240, 195, 227, 245, 239, 223, 218, 212, 209, 222, 220, 221,\n",
              "        230,  67],\n",
              "       [ 48, 203, 183, 194, 213, 197, 185, 190, 194, 192, 202, 214, 219,\n",
              "        221, 220, 236, 225, 216, 199, 206, 186, 181, 177, 172, 181, 205,\n",
              "        206, 115],\n",
              "       [  0, 122, 219, 193, 179, 171, 183, 196, 204, 210, 213, 207, 211,\n",
              "        210, 200, 196, 194, 191, 195, 191, 198, 192, 176, 156, 167, 177,\n",
              "        210,  92],\n",
              "       [  0,   0,  74, 189, 212, 191, 175, 172, 175, 181, 185, 188, 189,\n",
              "        188, 193, 198, 204, 209, 210, 210, 211, 188, 188, 194, 192, 216,\n",
              "        170,   0],\n",
              "       [  2,   0,   0,   0,  66, 200, 222, 237, 239, 242, 246, 243, 244,\n",
              "        221, 220, 193, 191, 179, 182, 182, 181, 176, 166, 168,  99,  58,\n",
              "          0,   0],\n",
              "       [  0,   0,   0,   0,   0,   0,   0,  40,  61,  44,  72,  41,  35,\n",
              "          0,   0,   0,   0,   0,   0,   0,   0,   0,   0,   0,   0,   0,\n",
              "          0,   0],\n",
              "       [  0,   0,   0,   0,   0,   0,   0,   0,   0,   0,   0,   0,   0,\n",
              "          0,   0,   0,   0,   0,   0,   0,   0,   0,   0,   0,   0,   0,\n",
              "          0,   0],\n",
              "       [  0,   0,   0,   0,   0,   0,   0,   0,   0,   0,   0,   0,   0,\n",
              "          0,   0,   0,   0,   0,   0,   0,   0,   0,   0,   0,   0,   0,\n",
              "          0,   0]], dtype=uint8)"
            ]
          },
          "execution_count": 5,
          "metadata": {},
          "output_type": "execute_result"
        }
      ],
      "source": [
        "# let's look at the first image which will show in the array form \n"
      ]
    },
    {
      "cell_type": "markdown",
      "metadata": {
        "id": "5sgYnADoVgcr"
      },
      "source": [
        "**Observation from the array output**\n",
        "- You can see value in the array ranging from 0-255 depicting RGB color."
      ]
    },
    {
      "cell_type": "code",
      "execution_count": null,
      "metadata": {
        "colab": {
          "base_uri": "https://localhost:8080/"
        },
        "id": "BEtWD2fngQRV",
        "outputId": "62203e3a-af9f-4d74-a8ce-865b13ca762d"
      },
      "outputs": [
        {
          "data": {
            "text/plain": [
              "60000"
            ]
          },
          "execution_count": 6,
          "metadata": {},
          "output_type": "execute_result"
        }
      ],
      "source": [
        "# check length of train_labels\n"
      ]
    },
    {
      "cell_type": "code",
      "execution_count": null,
      "metadata": {
        "colab": {
          "base_uri": "https://localhost:8080/"
        },
        "id": "Z_NLs5c6gQT3",
        "outputId": "6f7ef0bf-4b57-4d38-9dcf-0c2b7a89e2cb"
      },
      "outputs": [
        {
          "data": {
            "text/plain": [
              "array([9, 0, 0, ..., 3, 0, 5], dtype=uint8)"
            ]
          },
          "execution_count": 7,
          "metadata": {},
          "output_type": "execute_result"
        }
      ],
      "source": [
        "# check the labels of train data\n"
      ]
    },
    {
      "cell_type": "code",
      "execution_count": null,
      "metadata": {
        "colab": {
          "base_uri": "https://localhost:8080/"
        },
        "id": "Zns2Dy2jgQWA",
        "outputId": "b472e32f-6aae-4eac-c4d7-104414762762"
      },
      "outputs": [
        {
          "data": {
            "text/plain": [
              "(10000, 28, 28)"
            ]
          },
          "execution_count": 8,
          "metadata": {},
          "output_type": "execute_result"
        }
      ],
      "source": [
        "# check shape of test data\n"
      ]
    },
    {
      "cell_type": "code",
      "execution_count": null,
      "metadata": {
        "colab": {
          "base_uri": "https://localhost:8080/"
        },
        "id": "VgPBMAi4gQYW",
        "outputId": "047c7a9d-4e7c-42ac-e8ec-00950207465c"
      },
      "outputs": [
        {
          "data": {
            "text/plain": [
              "array([9, 2, 1, ..., 8, 1, 5], dtype=uint8)"
            ]
          },
          "execution_count": 9,
          "metadata": {},
          "output_type": "execute_result"
        }
      ],
      "source": [
        "# check the labels of test data\n",
        "\n"
      ]
    },
    {
      "cell_type": "markdown",
      "metadata": {
        "id": "kd4b9VoUkZuY"
      },
      "source": [
        "## **How to plot an image?**\n",
        "- You can find a simple way to plot an image of MNIST dataset by watching the video below."
      ]
    },
    {
      "cell_type": "markdown",
      "metadata": {
        "id": "CgnSJt2Ckn_i"
      },
      "source": [
        "# 2. **EDA**"
      ]
    },
    {
      "cell_type": "markdown",
      "metadata": {
        "id": "VqfZw79Gkpbp"
      },
      "source": [
        "## **How to plot multiple images of the fashion MNIST?**\n",
        "- Follow the comments below in the code to plot."
      ]
    },
    {
      "cell_type": "code",
      "execution_count": null,
      "metadata": {
        "colab": {
          "base_uri": "https://localhost:8080/",
          "height": 246
        },
        "id": "opKFpR7zgQa0",
        "outputId": "443dcddb-c5ed-4a6c-ec72-20b60d82803f"
      },
      "outputs": [
        {
          "data": {
            "image/png": "[encoded data removed]",
            "text/plain": [
              "<Figure size 576x288 with 10 Axes>"
            ]
          },
          "metadata": {
            "needs_background": "light"
          },
          "output_type": "display_data"
        }
      ],
      "source": [
        "# importing pyplot and numpy for plotting images of 0-9\n",
        "\n",
        "\n",
        "# defining subplots (2,5)\n",
        "fig, ax = # code here\n",
        "\n",
        "# looping over ax.flatten(), and plotting each digit\n",
        "for i, ax in enumerate(ax.flatten()):\n",
        "    # choosing each digit occuring at its first instance using np.argwhere\n",
        "    im_idx = # code here\n",
        "    # reshaping the selected digit to (28, 28) from (1, 28, 28)\n",
        "    plottable_image = # code here \n",
        "    # now pass this plottable_image to ax.imshow\n",
        "    ax.imshow(plottable_image, cmap='gray_r')"
      ]
    },
    {
      "cell_type": "markdown",
      "metadata": {
        "id": "6VPe7BC0zwtM"
      },
      "source": [
        "# **3. Preparing the data**"
      ]
    },
    {
      "cell_type": "markdown",
      "metadata": {
        "id": "Ii9es-xLz3rx"
      },
      "source": [
        "## **How to prepare the image for model building?**\n",
        "- Follow the comments below to understand the process."
      ]
    },
    {
      "cell_type": "code",
      "execution_count": null,
      "metadata": {
        "id": "6CaqwjzFgQdK"
      },
      "outputs": [],
      "source": [
        "# reshape train_images from (60000, 28, 28) to (60000, 28*28)\n",
        "\n",
        "\n",
        "# convert dtype of train_images from uint8 to float32 \n",
        "\n",
        "\n",
        "# reshape train_images from (10000, 28, 28) to (10000, 28*28)\n",
        "\n",
        "\n",
        "# convert dtype of test_images from uint8 to float32 \n",
        "\n"
      ]
    },
    {
      "cell_type": "markdown",
      "metadata": {
        "id": "ebkVBsCfz-mq"
      },
      "source": [
        "# **4.Model 1: Building the model**"
      ]
    },
    {
      "cell_type": "markdown",
      "metadata": {
        "id": "qHUJijh_05bi"
      },
      "source": [
        "![](https://curiousily.com/static/2da120014faf76c47fa4294c7206e291/9d0b7/deep-neural-net.jpg)"
      ]
    },
    {
      "cell_type": "markdown",
      "metadata": {
        "id": "U_QgMl-61SzL"
      },
      "source": [
        "### **How To Build Model?**\n",
        "- Documentation Link - https://www.tensorflow.org/api_docs/python/tf/keras/Sequential\n",
        "- Watch the video below & follow the steps in code cells later."
      ]
    },
    {
      "cell_type": "markdown",
      "metadata": {
        "id": "3IAzJM1UWclA"
      },
      "source": [
        "**Let's import necessary libraries and define our model by following the comments**"
      ]
    },
    {
      "cell_type": "code",
      "execution_count": null,
      "metadata": {
        "id": "6tYgv5m9gQf-"
      },
      "outputs": [],
      "source": [
        "# importing keras and layers from tensorflow\n",
        "\n",
        "\n",
        "\n",
        "\n",
        "# define the model and its network architecture\n",
        "# define three dense layers having first two layers with 512 neurons & activation='relu'\n",
        "# define third layer with 10 neurons & activation = 'softmax'\n",
        "model = # code here"
      ]
    },
    {
      "cell_type": "markdown",
      "metadata": {
        "id": "Qubsu44H2I6P"
      },
      "source": [
        "# **5. Compiling & fitting the model**"
      ]
    },
    {
      "cell_type": "markdown",
      "metadata": {
        "id": "VatVEoygW0iL"
      },
      "source": [
        "**In the next cell, we will compile our model.**"
      ]
    },
    {
      "cell_type": "code",
      "execution_count": null,
      "metadata": {
        "id": "tefqC6YmhiwI"
      },
      "outputs": [],
      "source": [
        "# compile the model with optimizer='rmsprop', loss='sparse_categorical_crossentropy', & metrics=['accuracy']\n",
        "\n",
        "\n"
      ]
    },
    {
      "cell_type": "markdown",
      "metadata": {
        "id": "lUwuT-VuXD2E"
      },
      "source": [
        "**Then we will fit our model**"
      ]
    },
    {
      "cell_type": "code",
      "execution_count": null,
      "metadata": {
        "colab": {
          "base_uri": "https://localhost:8080/"
        },
        "id": "8mAgrClIhiyW",
        "outputId": "7579e68e-8096-4030-e9bf-0287e3a391c2"
      },
      "outputs": [
        {
          "name": "stdout",
          "output_type": "stream",
          "text": [
            "Epoch 1/10\n",
            "469/469 [==============================] - 9s 17ms/step - loss: 0.5396 - accuracy: 0.8048\n",
            "Epoch 2/10\n",
            "469/469 [==============================] - 8s 17ms/step - loss: 0.3757 - accuracy: 0.8617\n",
            "Epoch 3/10\n",
            "469/469 [==============================] - 8s 17ms/step - loss: 0.3316 - accuracy: 0.8776\n",
            "Epoch 4/10\n",
            "469/469 [==============================] - 8s 17ms/step - loss: 0.3109 - accuracy: 0.8846\n",
            "Epoch 5/10\n",
            "469/469 [==============================] - 10s 22ms/step - loss: 0.2946 - accuracy: 0.8915\n",
            "Epoch 6/10\n",
            "469/469 [==============================] - 8s 16ms/step - loss: 0.2796 - accuracy: 0.8972\n",
            "Epoch 7/10\n",
            "469/469 [==============================] - 8s 17ms/step - loss: 0.2677 - accuracy: 0.9022\n",
            "Epoch 8/10\n",
            "469/469 [==============================] - 8s 17ms/step - loss: 0.2584 - accuracy: 0.9044\n",
            "Epoch 9/10\n",
            "469/469 [==============================] - 8s 17ms/step - loss: 0.2496 - accuracy: 0.9057\n",
            "Epoch 10/10\n",
            "469/469 [==============================] - 8s 16ms/step - loss: 0.2449 - accuracy: 0.9101\n"
          ]
        },
        {
          "data": {
            "text/plain": [
              "<keras.callbacks.History at 0x7fa7cdcf2d10>"
            ]
          },
          "execution_count": 59,
          "metadata": {},
          "output_type": "execute_result"
        }
      ],
      "source": [
        "# fit the model with epochs=10, batch_size=128\n",
        "\n"
      ]
    },
    {
      "cell_type": "markdown",
      "metadata": {
        "id": "f9iLFk3F2VbK"
      },
      "source": [
        "# **6. Prediction on test data**"
      ]
    },
    {
      "cell_type": "markdown",
      "metadata": {
        "id": "4g4dnGVcf_mL"
      },
      "source": [
        "**In the next cell, we will take first 10 images of test data**"
      ]
    },
    {
      "cell_type": "code",
      "execution_count": null,
      "metadata": {
        "id": "Zs9hFsMXhi0Q"
      },
      "outputs": [],
      "source": [
        "# define a variable test_digits and store the first 10 images of test data\n",
        "\n"
      ]
    },
    {
      "cell_type": "markdown",
      "metadata": {
        "id": "S3AucCDggE1x"
      },
      "source": [
        "**Then we will predict on those 10 images**"
      ]
    },
    {
      "cell_type": "code",
      "execution_count": null,
      "metadata": {
        "id": "WBmBsJBphi2y"
      },
      "outputs": [],
      "source": [
        "# predict the test_digits using our model\n",
        "\n"
      ]
    },
    {
      "cell_type": "markdown",
      "metadata": {
        "id": "968vzYbNgLkv"
      },
      "source": [
        "**We will check prediction on first image in next cell**\n"
      ]
    },
    {
      "cell_type": "code",
      "execution_count": null,
      "metadata": {
        "colab": {
          "base_uri": "https://localhost:8080/"
        },
        "id": "QNLrkDOehi5m",
        "outputId": "25036602-1435-4747-b9fe-c70c832dc8fa"
      },
      "outputs": [
        {
          "data": {
            "text/plain": [
              "array([8.8619967e-10, 1.0212713e-12, 5.0321773e-09, 1.4206853e-09,\n",
              "       4.9355240e-09, 5.2465132e-04, 7.5050941e-08, 9.8364393e-04,\n",
              "       1.7612087e-09, 9.9849164e-01], dtype=float32)"
            ]
          },
          "execution_count": 62,
          "metadata": {},
          "output_type": "execute_result"
        }
      ],
      "source": [
        "# check the first image prediction from predictions\n",
        "\n"
      ]
    },
    {
      "cell_type": "markdown",
      "metadata": {
        "id": "uu3EzXUVgT2P"
      },
      "source": [
        "**Previous output shows probability of first image being either one of 10 products. For example, probability of first image being 0 is 8.8619967e-10 which is very very low.**"
      ]
    },
    {
      "cell_type": "code",
      "execution_count": null,
      "metadata": {
        "colab": {
          "base_uri": "https://localhost:8080/"
        },
        "id": "DKs6Xp7yhjDi",
        "outputId": "76e17f2c-5dda-4172-cbfd-0392fc5932a3"
      },
      "outputs": [
        {
          "data": {
            "text/plain": [
              "9"
            ]
          },
          "execution_count": 63,
          "metadata": {},
          "output_type": "execute_result"
        }
      ],
      "source": [
        "# checking the index having maximum prediction \n",
        "\n",
        "\n"
      ]
    },
    {
      "cell_type": "markdown",
      "metadata": {
        "id": "3_4Guyo0gtKF"
      },
      "source": [
        "**In next cell, we can see the maximum prediction for first image is 0.99 at index 9..**"
      ]
    },
    {
      "cell_type": "code",
      "execution_count": null,
      "metadata": {
        "colab": {
          "base_uri": "https://localhost:8080/"
        },
        "id": "Ew8PbTlGhjFy",
        "outputId": "e9a7b264-8048-4d36-daaa-e32ba8368357"
      },
      "outputs": [
        {
          "data": {
            "text/plain": [
              "0.99849164"
            ]
          },
          "execution_count": 64,
          "metadata": {},
          "output_type": "execute_result"
        }
      ],
      "source": [
        "# checking the index value having maximum prediction\n",
        "\n"
      ]
    },
    {
      "cell_type": "markdown",
      "metadata": {
        "id": "RbAPfFJGhBff"
      },
      "source": [
        "**In next cell, we are confirming whether our prediction is right or wrong by checking label.**"
      ]
    },
    {
      "cell_type": "code",
      "execution_count": null,
      "metadata": {
        "colab": {
          "base_uri": "https://localhost:8080/"
        },
        "id": "8qmSLltyhjIn",
        "outputId": "4183a281-df03-4621-a23c-fd33f2b0cec5"
      },
      "outputs": [
        {
          "data": {
            "text/plain": [
              "9"
            ]
          },
          "execution_count": 65,
          "metadata": {},
          "output_type": "execute_result"
        }
      ],
      "source": [
        "# checking the label for that index having maximum prediction\n",
        "\n",
        " "
      ]
    },
    {
      "cell_type": "markdown",
      "metadata": {
        "id": "euy6Apcz2dDy"
      },
      "source": [
        "# **7. Evaluating the model**"
      ]
    },
    {
      "cell_type": "markdown",
      "metadata": {
        "id": "vo32eyxFhLEA"
      },
      "source": [
        "**Now we evaluate our model on unseen data, which is test set.**"
      ]
    },
    {
      "cell_type": "code",
      "execution_count": null,
      "metadata": {
        "colab": {
          "base_uri": "https://localhost:8080/"
        },
        "id": "kSA1Ot3ehjVR",
        "outputId": "fad0b5b8-d1b4-419b-be3a-a5294e7759e9"
      },
      "outputs": [
        {
          "name": "stdout",
          "output_type": "stream",
          "text": [
            "313/313 [==============================] - 1s 4ms/step - loss: 0.4655 - accuracy: 0.8611\n"
          ]
        }
      ],
      "source": [
        "# check the loss and accuracy for test data using model.evaluate\n",
        "test_loss, test_acc = # code here"
      ]
    },
    {
      "cell_type": "code",
      "execution_count": null,
      "metadata": {
        "colab": {
          "base_uri": "https://localhost:8080/"
        },
        "id": "AlQitf4NhjXr",
        "outputId": "2f79c70e-5dc5-4fb0-e3a9-872875359afc"
      },
      "outputs": [
        {
          "name": "stdout",
          "output_type": "stream",
          "text": [
            "test_acc: 0.8611000180244446\n"
          ]
        }
      ],
      "source": [
        "# print test accuracy\n",
        "print(f\"test_acc: {test_acc}\")"
      ]
    },
    {
      "cell_type": "markdown",
      "metadata": {
        "id": "jKCj6rwahSYU"
      },
      "source": [
        "## **Observation from evaluation**\n",
        "- We can see that our train accuracy is 91.01% and our test accuracy is 86.11% which clearly shows the case of overfitting. "
      ]
    },
    {
      "cell_type": "markdown",
      "metadata": {
        "id": "mBvB1fsM2waE"
      },
      "source": [
        "# **REGULARIZATION TECHNIQUES**"
      ]
    },
    {
      "cell_type": "markdown",
      "metadata": {
        "id": "EjckmsZF3KUY"
      },
      "source": [
        "## **What is Regularization?**: It is a technique which makes slight modifications to the learning algorithm such that the model generalizes better. It is a way to overcome overfitting problem in machine learning/deep learning problem. This in turn improves the model’s performance on the unseen data as well.\n",
        "\n",
        "## **Overfittng:** It is a situation where your model performed exceptionally well on train data but was not able to predict test data. "
      ]
    },
    {
      "cell_type": "markdown",
      "metadata": {
        "id": "zpEzEgiy3bzF"
      },
      "source": [
        "![](https://cdn.analyticsvidhya.com/wp-content/uploads/2018/04/Screen-Shot-2018-04-03-at-7.52.01-PM-e1522832332857.png)"
      ]
    },
    {
      "cell_type": "markdown",
      "metadata": {
        "id": "vTCMKSUt3qR-"
      },
      "source": [
        "## **How do we deal with reglarization?**\n",
        "\n",
        "There are multiple ways to deal with regularization\n",
        "- **1. Dropouts**\n",
        "- **2. L2 & L1 regularization**\n",
        "- **3. Early stopping**\n",
        "- **4. Data augmentation**\n",
        "- **5. Tweaking the architecture**\n",
        "\n",
        "We have covered 5th tweaking the architecture method for regularization in our previous assignment of \"Training Neural Networks\". Data augmentation (4th) method will be covered in a separate assignment in computer vision. \n",
        "\n",
        "## **Here we will cover first 3 ways mentioned above to show you how you can avoid overfitting.**"
      ]
    },
    {
      "cell_type": "markdown",
      "metadata": {
        "id": "CVmzGX7cHKaq"
      },
      "source": [
        "# **Dropouts**\n",
        "\n",
        "Dropout technique works by randomly reducing the number of interconnecting neurons within a neural network. At every training step, each neuron has a chance of being left out, or rather, dropped out of the collated contribution from connected neurons.\n",
        "This technique minimizes overfitting because each neuron becomes independently sufficient, in the sense that the neurons within the layers learn weight values that are not based on the cooperation of its neighbouring neurons."
      ]
    },
    {
      "cell_type": "markdown",
      "metadata": {
        "id": "ai_sqMNyJEEf"
      },
      "source": [
        "![](https://i.stack.imgur.com/Njnu4.png)"
      ]
    },
    {
      "cell_type": "markdown",
      "metadata": {
        "id": "caR7yU42JJKT"
      },
      "source": [
        "## **Dropout in implementation**\n",
        "**Check the doxcumentation of dropout - https://www.tensorflow.org/api_docs/python/tf/keras/layers/Dropout**\n",
        "\n",
        "![](https://www.upgrad.com/blog/wp-content/uploads/2020/10/num-5.png)"
      ]
    },
    {
      "cell_type": "code",
      "execution_count": null,
      "metadata": {
        "id": "PCI0Do6yhjab"
      },
      "outputs": [],
      "source": [
        "# define the 2nd model and its network architecture\n",
        "# define three dense layers having first two layers with 512 neurons & activation='relu'\n",
        "# define third layer with 10 neurons & activation = 'softmax'\n",
        "# add 2 dropout with value 0.3 (one each after first two dense layers)\n",
        "from keras.layers.core import Dropout\n",
        "model2 = # code here"
      ]
    },
    {
      "cell_type": "code",
      "execution_count": null,
      "metadata": {
        "id": "4z9YiMu1mllg"
      },
      "outputs": [],
      "source": [
        "# compile the model with optimizer='rmsprop', loss='sparse_categorical_crossentropy', & metrics=['accuracy']\n",
        "\n"
      ]
    },
    {
      "cell_type": "code",
      "execution_count": null,
      "metadata": {
        "colab": {
          "base_uri": "https://localhost:8080/"
        },
        "id": "KOYZEopTmln7",
        "outputId": "ba90de8c-c04c-4e54-b705-e5039cf60bb9"
      },
      "outputs": [
        {
          "name": "stdout",
          "output_type": "stream",
          "text": [
            "Epoch 1/10\n",
            "469/469 [==============================] - 9s 19ms/step - loss: 0.5770 - accuracy: 0.7894\n",
            "Epoch 2/10\n",
            "469/469 [==============================] - 9s 19ms/step - loss: 0.4233 - accuracy: 0.8455\n",
            "Epoch 3/10\n",
            "469/469 [==============================] - 9s 20ms/step - loss: 0.3900 - accuracy: 0.8598\n",
            "Epoch 4/10\n",
            "469/469 [==============================] - 9s 20ms/step - loss: 0.3744 - accuracy: 0.8659\n",
            "Epoch 5/10\n",
            "469/469 [==============================] - 9s 19ms/step - loss: 0.3619 - accuracy: 0.8703\n",
            "Epoch 6/10\n",
            "469/469 [==============================] - 9s 19ms/step - loss: 0.3511 - accuracy: 0.8758\n",
            "Epoch 7/10\n",
            "469/469 [==============================] - 9s 19ms/step - loss: 0.3469 - accuracy: 0.8783\n",
            "Epoch 8/10\n",
            "469/469 [==============================] - 9s 19ms/step - loss: 0.3412 - accuracy: 0.8787\n",
            "Epoch 9/10\n",
            "469/469 [==============================] - 10s 20ms/step - loss: 0.3385 - accuracy: 0.8818\n",
            "Epoch 10/10\n",
            "469/469 [==============================] - 9s 19ms/step - loss: 0.3348 - accuracy: 0.8832\n"
          ]
        },
        {
          "data": {
            "text/plain": [
              "<keras.callbacks.History at 0x7fa84b6cd510>"
            ]
          },
          "execution_count": 71,
          "metadata": {},
          "output_type": "execute_result"
        }
      ],
      "source": [
        "# fit the model with epochs=10, batch_size=128\n",
        "\n"
      ]
    },
    {
      "cell_type": "code",
      "execution_count": null,
      "metadata": {
        "colab": {
          "base_uri": "https://localhost:8080/"
        },
        "id": "PTOHBSQtmlp9",
        "outputId": "1bc8d938-e080-4263-e7d9-c1c20dffe3ae"
      },
      "outputs": [
        {
          "name": "stdout",
          "output_type": "stream",
          "text": [
            "313/313 [==============================] - 1s 3ms/step - loss: 0.3642 - accuracy: 0.8822\n"
          ]
        }
      ],
      "source": [
        "# check the loss and accuracy for test data using model.evaluate\n",
        "\n"
      ]
    },
    {
      "cell_type": "markdown",
      "metadata": {
        "id": "NLI1RG7nmlWo"
      },
      "source": [
        "## **Observation from evaluation**\n",
        "- We can see that our train accuracy is 88.32% and our test accuracy is 88.22% which clearly shows how well dropout dealt with overfitting.  "
      ]
    },
    {
      "cell_type": "markdown",
      "metadata": {
        "id": "uaGsTZzFLElz"
      },
      "source": [
        "# **L2 Regularization**\n",
        "\n",
        "L2 regularization forces weights toward zero but it does not make them exactly zero. L2 regularization acts like a force that removes a small percentage of weights at each iteration. Therefore, weights will never be equal to zero. There is an additional parameter to tune the L2 regularization term which is called regularization rate (lambda).\n",
        "\n",
        "**Note: Choosing an optimal value for lambda is important. If lambda is too high, the model becomes too simple and tends to underfit. On the other hand, if lambda is too low, the effect of regulatization becomes negligible and the model is likely to overfit. If lambda is set to zero, then regularization will be completely removed (high risk of overfitting!).**"
      ]
    },
    {
      "cell_type": "markdown",
      "metadata": {
        "id": "V8k2tuasME6R"
      },
      "source": [
        "![](https://www.tutorialexample.com/wp-content/uploads/2019/11/l2-regularization.png)"
      ]
    },
    {
      "cell_type": "markdown",
      "metadata": {
        "id": "Ywhg8Q1FRE3P"
      },
      "source": [
        "## **L2 Regularization in implementation**\n",
        "\n",
        "**Check l2 regularization documentation - https://www.tensorflow.org/api_docs/python/tf/keras/regularizers/L2**\n",
        "\n",
        "![](https://encrypted-tbn0.gstatic.com/images?q=tbn:ANd9GcTHsa7YeYQ4AwkZRGN4JXU9D5b-0cy-qusgjw&usqp=CAU)"
      ]
    },
    {
      "cell_type": "code",
      "execution_count": null,
      "metadata": {
        "id": "SKhNyD3smlsd"
      },
      "outputs": [],
      "source": [
        "# import regularizers from keras\n",
        "\n",
        "\n",
        "# define the 3nd model and its network architecture\n",
        "# define three dense layers having first two layers with 512 neurons , activation='relu', & kernel_regularizer=regularizers.l2(0.0008)\n",
        "# define third layer with 10 neurons & activation = 'softmax'\n",
        "model3 = # code here"
      ]
    },
    {
      "cell_type": "code",
      "execution_count": null,
      "metadata": {
        "id": "vjamXj8RmlvR"
      },
      "outputs": [],
      "source": [
        "# compile the model with optimizer='rmsprop', loss='sparse_categorical_crossentropy', & metrics=['accuracy']\n",
        "\n",
        "model3.compile(optimizer=\"rmsprop\",\n",
        " loss=\"sparse_categorical_crossentropy\",\n",
        " metrics=[\"accuracy\"])"
      ]
    },
    {
      "cell_type": "code",
      "execution_count": null,
      "metadata": {
        "colab": {
          "base_uri": "https://localhost:8080/"
        },
        "id": "WEl0M5_qnu_J",
        "outputId": "2233dbb5-2b22-47d7-fdec-f920762cbb36"
      },
      "outputs": [
        {
          "name": "stdout",
          "output_type": "stream",
          "text": [
            "Epoch 1/10\n",
            "469/469 [==============================] - 10s 19ms/step - loss: 0.9587 - accuracy: 0.7923\n",
            "Epoch 2/10\n",
            "469/469 [==============================] - 9s 19ms/step - loss: 0.5695 - accuracy: 0.8430\n",
            "Epoch 3/10\n",
            "469/469 [==============================] - 9s 19ms/step - loss: 0.4914 - accuracy: 0.8555\n",
            "Epoch 4/10\n",
            "469/469 [==============================] - 9s 19ms/step - loss: 0.4553 - accuracy: 0.8647\n",
            "Epoch 5/10\n",
            "469/469 [==============================] - 9s 19ms/step - loss: 0.4339 - accuracy: 0.8693\n",
            "Epoch 6/10\n",
            "469/469 [==============================] - 9s 19ms/step - loss: 0.4173 - accuracy: 0.8733\n",
            "Epoch 7/10\n",
            "469/469 [==============================] - 9s 19ms/step - loss: 0.4068 - accuracy: 0.8759\n",
            "Epoch 8/10\n",
            "469/469 [==============================] - 9s 19ms/step - loss: 0.3955 - accuracy: 0.8781\n",
            "Epoch 9/10\n",
            "469/469 [==============================] - 9s 20ms/step - loss: 0.3892 - accuracy: 0.8801\n",
            "Epoch 10/10\n",
            "469/469 [==============================] - 9s 19ms/step - loss: 0.3817 - accuracy: 0.8825\n"
          ]
        },
        {
          "data": {
            "text/plain": [
              "<keras.callbacks.History at 0x7f735f855a50>"
            ]
          },
          "execution_count": 32,
          "metadata": {},
          "output_type": "execute_result"
        }
      ],
      "source": [
        "# fit the model with epochs=10, batch_size=128\n",
        "\n"
      ]
    },
    {
      "cell_type": "code",
      "execution_count": null,
      "metadata": {
        "colab": {
          "base_uri": "https://localhost:8080/"
        },
        "id": "l601zRvKnvBd",
        "outputId": "c1ddc23e-8695-43db-a13c-361c01eca0d7"
      },
      "outputs": [
        {
          "name": "stdout",
          "output_type": "stream",
          "text": [
            "313/313 [==============================] - 2s 4ms/step - loss: 0.4167 - accuracy: 0.8733\n"
          ]
        }
      ],
      "source": [
        "# check the loss and accuracy for test data using model.evaluate\n",
        "\n"
      ]
    },
    {
      "cell_type": "markdown",
      "metadata": {
        "id": "IRaAfOVRnmZK"
      },
      "source": [
        "## **Observation from evaluation**\n",
        "- We can see that our train accuracy is 88.25% and our test accuracy is 87.33% which shows how well l2 regularization worked with overfitting but it's not better than dropout. We can still see some overfitting.  "
      ]
    },
    {
      "cell_type": "markdown",
      "metadata": {
        "id": "BxK0kJLsnbnw"
      },
      "source": []
    },
    {
      "cell_type": "markdown",
      "metadata": {
        "id": "69fbiqThRe3-"
      },
      "source": [
        "# **L1 Regularization**\n",
        "\n",
        "It adds an L1 penalty that is equal to the absolute value of the magnitude of coefficient, or simply restricting the size of coefficients."
      ]
    },
    {
      "cell_type": "markdown",
      "metadata": {
        "id": "zKaUvY6zRjVd"
      },
      "source": [
        "![](https://miro.medium.com/max/550/1*-LydhQEDyg-4yy5hGEj5wA.png)"
      ]
    },
    {
      "cell_type": "markdown",
      "metadata": {
        "id": "wtUCGL2zTV73"
      },
      "source": [
        "## **L1 regularization in implementation**\n",
        "\n",
        "**Check l1 regularization documentation - https://www.tensorflow.org/api_docs/python/tf/keras/regularizers/L1**\n",
        "\n",
        "![](https://www.oreilly.com/library/view/hands-on-machine-learning/9781788393485/assets/54e4fb02-51be-487d-a0d9-a4bbf6682839.png)"
      ]
    },
    {
      "cell_type": "code",
      "execution_count": null,
      "metadata": {
        "id": "ouqFGaui2KQa"
      },
      "outputs": [],
      "source": [
        "# define the 4th model and its network architecture\n",
        "# define three dense layers having first two layers with 512 neurons , activation='relu', & kernel_regularizer=regularizers.l1(0.0008)\n",
        "# define third layer with 10 neurons & activation = 'softmax'\n",
        "\n",
        "\n"
      ]
    },
    {
      "cell_type": "code",
      "execution_count": null,
      "metadata": {
        "id": "hJ3zUOuJ2Y82"
      },
      "outputs": [],
      "source": [
        "# compile the model with optimizer='rmsprop', loss='sparse_categorical_crossentropy', & metrics=['accuracy']\n",
        "\n"
      ]
    },
    {
      "cell_type": "code",
      "execution_count": null,
      "metadata": {
        "colab": {
          "base_uri": "https://localhost:8080/"
        },
        "id": "RhyZNrAj2eOg",
        "outputId": "496798eb-83a2-4999-8f5b-b35e23a67897"
      },
      "outputs": [
        {
          "name": "stdout",
          "output_type": "stream",
          "text": [
            "Epoch 1/10\n",
            "469/469 [==============================] - 10s 20ms/step - loss: 2.9857 - accuracy: 0.7411\n",
            "Epoch 2/10\n",
            "469/469 [==============================] - 9s 19ms/step - loss: 1.0575 - accuracy: 0.8026\n",
            "Epoch 3/10\n",
            "469/469 [==============================] - 11s 22ms/step - loss: 0.9609 - accuracy: 0.8181\n",
            "Epoch 4/10\n",
            "469/469 [==============================] - 9s 19ms/step - loss: 0.9164 - accuracy: 0.8260\n",
            "Epoch 5/10\n",
            "469/469 [==============================] - 9s 19ms/step - loss: 0.8891 - accuracy: 0.8313\n",
            "Epoch 6/10\n",
            "469/469 [==============================] - 9s 19ms/step - loss: 0.8743 - accuracy: 0.8342\n",
            "Epoch 7/10\n",
            "469/469 [==============================] - 9s 20ms/step - loss: 0.8603 - accuracy: 0.8386\n",
            "Epoch 8/10\n",
            "469/469 [==============================] - 9s 20ms/step - loss: 0.8522 - accuracy: 0.8399\n",
            "Epoch 9/10\n",
            "469/469 [==============================] - 9s 20ms/step - loss: 0.8450 - accuracy: 0.8413\n",
            "Epoch 10/10\n",
            "469/469 [==============================] - 9s 20ms/step - loss: 0.8392 - accuracy: 0.8434\n"
          ]
        },
        {
          "data": {
            "text/plain": [
              "<keras.callbacks.History at 0x7f735f646f90>"
            ]
          },
          "execution_count": 36,
          "metadata": {},
          "output_type": "execute_result"
        }
      ],
      "source": [
        "# fit the model with epochs=10, batch_size=128\n",
        "\n"
      ]
    },
    {
      "cell_type": "code",
      "execution_count": null,
      "metadata": {
        "colab": {
          "base_uri": "https://localhost:8080/"
        },
        "id": "NUea-myr2lL-",
        "outputId": "c6d0229a-a0ba-4d0c-9741-0b2b29252ac8"
      },
      "outputs": [
        {
          "name": "stdout",
          "output_type": "stream",
          "text": [
            "313/313 [==============================] - 2s 4ms/step - loss: 0.8673 - accuracy: 0.8308\n"
          ]
        }
      ],
      "source": [
        "# check the loss and accuracy for test data using model.evaluate\n",
        "\n"
      ]
    },
    {
      "cell_type": "markdown",
      "metadata": {
        "id": "d9YXHpKsoNQv"
      },
      "source": [
        "## **Observation from evaluation**\n",
        "- We can see that our train accuracy is 84.34% and our test accuracy is 83.08% which shows how our training accuracy dropped from 88.32% to 84.3% and our test accuracy dropped from 88.22% to 83.08% as compared to our 2nd model. It does reduce overfitting as compared to our first model, but it did not perform well as compared to our 2nd model and 3rd model.  "
      ]
    },
    {
      "cell_type": "markdown",
      "metadata": {
        "id": "jfJEEHuPThu_"
      },
      "source": [
        "# **Early Stopping**"
      ]
    },
    {
      "cell_type": "markdown",
      "metadata": {
        "id": "Y0iaCHHHVGR4"
      },
      "source": [
        "**What is early stopping?** - Early stopping is a method that allows you to specify an arbitrary large number of training epochs and stop training once the model performance stops improving on a hold out validation dataset.\n",
        "\n",
        "**Why we use early stopping?** - Too many epochs can lead to overfitting of the training dataset, whereas too few may result in an underfit model. \n",
        "\n"
      ]
    },
    {
      "cell_type": "markdown",
      "metadata": {
        "id": "tzwNsVQYVGUm"
      },
      "source": [
        "![](https://miro.medium.com/max/567/1*2BvEinjHM4SXt2ge0MOi4w.png)"
      ]
    },
    {
      "cell_type": "markdown",
      "metadata": {
        "id": "dINBQLz7Vkkv"
      },
      "source": [
        "## **Early stopping in implementation**\n",
        "**early stopping documentation link - https://keras.io/api/callbacks/early_stopping/**\n",
        "\n",
        "![](https://www.markiiisys.com/wp-content/uploads/2020/08/Screen-Shot-2020-08-26-at-10.33.35-AM-1024x341.png)"
      ]
    },
    {
      "cell_type": "code",
      "execution_count": null,
      "metadata": {
        "id": "fI491YGPnvD4"
      },
      "outputs": [],
      "source": [
        "# import tensorflow as tf\n",
        "import tensorflow as tf\n",
        "\n",
        "# define callbacks variable and import earlystopping with monitor='loss', patience=2\n",
        "callbacks = # code here \n",
        "\n",
        "# define the 5th model and its network architecture\n",
        "# define three dense layers having first two layers with 512 neurons & activation='relu'\n",
        "# define third layer with 10 neurons & activation = 'softmax'\n",
        "\n"
      ]
    },
    {
      "cell_type": "code",
      "execution_count": null,
      "metadata": {
        "id": "8WB9jScLnvGP"
      },
      "outputs": [],
      "source": [
        "# compile the model with optimizer='rmsprop', loss='sparse_categorical_crossentropy', & metrics=['accuracy']\n",
        "\n",
        "\n"
      ]
    },
    {
      "cell_type": "code",
      "execution_count": null,
      "metadata": {
        "colab": {
          "base_uri": "https://localhost:8080/"
        },
        "id": "VsXrlLtVnvId",
        "outputId": "6a264b20-6e19-402f-cc88-5f1f62efca4b"
      },
      "outputs": [
        {
          "name": "stdout",
          "output_type": "stream",
          "text": [
            "Epoch 1/10\n",
            "469/469 [==============================] - 9s 18ms/step - loss: 0.5391 - accuracy: 0.8027 - val_loss: 0.4102 - val_accuracy: 0.8521\n",
            "Epoch 2/10\n",
            "469/469 [==============================] - 8s 18ms/step - loss: 0.3752 - accuracy: 0.8605 - val_loss: 0.3979 - val_accuracy: 0.8530\n",
            "Epoch 3/10\n",
            "469/469 [==============================] - 8s 18ms/step - loss: 0.3361 - accuracy: 0.8760 - val_loss: 0.4798 - val_accuracy: 0.8472\n",
            "Epoch 4/10\n",
            "469/469 [==============================] - 8s 18ms/step - loss: 0.3093 - accuracy: 0.8849 - val_loss: 0.3915 - val_accuracy: 0.8613\n",
            "Epoch 5/10\n",
            "469/469 [==============================] - 8s 18ms/step - loss: 0.2899 - accuracy: 0.8929 - val_loss: 0.3766 - val_accuracy: 0.8774\n",
            "Epoch 6/10\n",
            "469/469 [==============================] - 8s 18ms/step - loss: 0.2773 - accuracy: 0.8985 - val_loss: 0.4837 - val_accuracy: 0.8568\n",
            "Epoch 7/10\n",
            "469/469 [==============================] - 8s 18ms/step - loss: 0.2658 - accuracy: 0.9019 - val_loss: 0.3920 - val_accuracy: 0.8716\n",
            "Epoch 8/10\n",
            "469/469 [==============================] - 8s 18ms/step - loss: 0.2580 - accuracy: 0.9046 - val_loss: 0.3711 - val_accuracy: 0.8852\n",
            "Epoch 9/10\n",
            "469/469 [==============================] - 8s 18ms/step - loss: 0.2491 - accuracy: 0.9079 - val_loss: 0.3971 - val_accuracy: 0.8705\n",
            "Epoch 10/10\n",
            "469/469 [==============================] - 9s 18ms/step - loss: 0.2404 - accuracy: 0.9122 - val_loss: 0.4073 - val_accuracy: 0.8843\n"
          ]
        },
        {
          "data": {
            "text/plain": [
              "<keras.callbacks.History at 0x7f7358658bd0>"
            ]
          },
          "execution_count": 49,
          "metadata": {},
          "output_type": "execute_result"
        }
      ],
      "source": [
        "# fit the model with epochs=10, batch_size=128, callbacks=[callbacks], validation_data = (test_images, test_labels)\n",
        "\n"
      ]
    },
    {
      "cell_type": "markdown",
      "metadata": {
        "id": "dc5nZ68TqDzd"
      },
      "source": [
        "## **Observation from evaluation**\n",
        "- We can see that our train accuracy is 91.22% and our test accuracy is 88.43% which shows how well early stopping method worked with overfitting but it's not better than dropout. We can still see some overfitting. However our test accuracy is better than dropout test accuracy. In terms of accuracy it is better but in terms of generalization, our dropout model which is 2nd model is best."
      ]
    },
    {
      "cell_type": "markdown",
      "metadata": {
        "id": "4H6hTM8_V6oG"
      },
      "source": [
        "# **Summary**\n",
        "\n",
        "In this assignment, we learnt how we can implement multiple methods to deal with overfitting. We learnt the implementation of dropout, l2 , l1, early stopping methods of regularization.\n",
        "\n",
        "Now you can play and tweak the parameters to get more insights from these methods. \n"
      ]
    }
  ],
  "metadata": {
    "colab": {
      "collapsed_sections": [],
      "name": "Regularization_withoutcode.ipynb",
      "provenance": []
    },
    "kernelspec": {
      "display_name": "Python 3",
      "name": "python3"
    },
    "language_info": {
      "name": "python"
    }
  },
  "nbformat": 4,
  "nbformat_minor": 0
}
