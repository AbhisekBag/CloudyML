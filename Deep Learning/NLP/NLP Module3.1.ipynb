{
  "cells": [
    {
      "cell_type": "markdown",
      "metadata": {
        "id": "NX9IDdB2xX2K"
      },
      "source": [
        "<center><u> <h1>NLP Assignment 2: Converting Words into Vectors (Basics techniques)</h1></u></center>\n",
        "\n",
        "---\n",
        "<b>Welcome to NLP Assignment-2!!</b><br>\n",
        "Topics covered to this assignment:\n",
        "\n",
        "1.   Bag of Words[BOW]\n",
        "3.   TD-IDF\n",
        "4.   N-Grams\n",
        "5.   Part of speech[POS]\n",
        "\n",
        "\n",
        "---\n"
      ]
    },
    {
      "cell_type": "markdown",
      "metadata": {
        "id": "kLNTRSZqxcJs"
      },
      "source": [
        "# Bag of words\n",
        "The bag-of-words model is a simplifying representation used in natural language processing and information retrieval. In this model, a text (such as a sentence or a document) is represented as the bag of its words, disregarding grammar and even word order but keeping multiplicity. \n",
        "\n",
        "The bag-of-words model is commonly used in methods of document classification where the occurrence of each word is used as a feature for training a classifier.\n",
        "\n",
        "\n",
        "The Bag-of-words model is one example of a Vector space model.\n",
        "\n",
        "![image.png](https://excelrcom.b-cdn.net/assets/admin/ckfinder/userfiles/images/2020%20uploads/12/3.PNG)\n"
      ]
    },
    {
      "cell_type": "markdown",
      "metadata": {
        "id": "vm2of1rs7vMm"
      },
      "source": [
        "### CountVectorizer\n",
        "CountVectorizer is a great tool provided by the scikit-learn library in Python. It is used to transform a given text into a vector on the basis of the frequency of each word that occurs in the entire text.\n",
        "\n",
        "It creates a matrix in which each unique word is represented by a column of the matrix, and each text sample from the document is a row in the matrix. \n",
        "\n",
        "![image266.png](https://res.cloudinary.com/practicaldev/image/fetch/s--qveZ_g7d--/c_limit%2Cf_auto%2Cfl_progressive%2Cq_auto%2Cw_880/https://raw.githubusercontent.com/cassieview/intro-nlp-wine-reviews/master/imgs/vectorchart.PNG)\n",
        "\n",
        "\n",
        "Documentation: https://scikit-learn.org/stable/modules/generated/sklearn.feature_extraction.text.CountVectorizer.html"
      ]
    },
    {
      "cell_type": "markdown",
      "metadata": {
        "id": "TCd10zwXBDM3"
      },
      "source": [
        "For **BOW**, we will import the libraries for preprocessing the data such as tokenization,Stemming and stop words.<br>\n",
        "We will use download function as we have performed in assignment 1"
      ]
    },
    {
      "cell_type": "code",
      "execution_count": 1,
      "metadata": {
        "colab": {
          "base_uri": "https://localhost:8080/"
        },
        "id": "SorCD8ND2qQx",
        "outputId": "250c914c-ddab-47c5-dff3-aa801b337350"
      },
      "outputs": [
        {
          "name": "stdout",
          "output_type": "stream",
          "text": [
            "Intel MKL WARNING: Support of Intel(R) Streaming SIMD Extensions 4.2 (Intel(R) SSE4.2) enabled only processors has been deprecated. Intel oneAPI Math Kernel Library 2025.0 will require Intel(R) Advanced Vector Extensions (Intel(R) AVX) instructions.\n",
            "Intel MKL WARNING: Support of Intel(R) Streaming SIMD Extensions 4.2 (Intel(R) SSE4.2) enabled only processors has been deprecated. Intel oneAPI Math Kernel Library 2025.0 will require Intel(R) Advanced Vector Extensions (Intel(R) AVX) instructions.\n"
          ]
        },
        {
          "name": "stderr",
          "output_type": "stream",
          "text": [
            "[nltk_data] Downloading package punkt to /Users/solo/nltk_data...\n",
            "[nltk_data]   Package punkt is already up-to-date!\n",
            "[nltk_data] Downloading package stopwords to /Users/solo/nltk_data...\n",
            "[nltk_data]   Package stopwords is already up-to-date!\n"
          ]
        },
        {
          "data": {
            "text/plain": [
              "True"
            ]
          },
          "execution_count": 1,
          "metadata": {},
          "output_type": "execute_result"
        }
      ],
      "source": [
        "#importing  nltk library and download punkt and stopwords\n",
        "import nltk \n",
        "nltk.download('punkt')\n",
        "nltk.download('stopwords')\n"
      ]
    },
    {
      "cell_type": "markdown",
      "metadata": {
        "id": "pPeZCW8JCo_5"
      },
      "source": [
        "\n",
        "As we can see that all required packages have been downloaded.\n",
        "Hence we can import the libraries such as stop words and portstemmer."
      ]
    },
    {
      "cell_type": "code",
      "execution_count": 2,
      "metadata": {
        "id": "uXJCAWIz5E-6"
      },
      "outputs": [],
      "source": [
        "#importing libraries re , stopwords and porterstemmer\n",
        "#import re [for regular expression] \n",
        "import re\n",
        "from nltk.corpus import stopwords\n",
        "from nltk.stem.porter import PorterStemmer\n"
      ]
    },
    {
      "cell_type": "markdown",
      "metadata": {
        "id": "N0AvvhqMwPHU"
      },
      "source": [
        "Run the below cell for taking input.\n",
        "By default we have given the input if you want you change the input as per your choice :) "
      ]
    },
    {
      "cell_type": "code",
      "execution_count": 22,
      "metadata": {
        "id": "9sGmjN-A4yv5"
      },
      "outputs": [],
      "source": [
        "paragraph =  \"\"\"Natural language processing (NLP) (NLP) (NLP) (NLP) refers to the branch of computer science—and more specifically, the branch of artificial intelligence or AI—concerned with giving computers the ability to understand text and spoken words in much the same way human beings can.\n",
        "NLP combines computational linguistics—rule-based modeling of human language—with statistical, machine learning, and deep learning models. Together, these technologies enable computers to process human language in the form of text or voice data and to ‘understand’ its full meaning, complete with the speaker or writer’s intent and sentiment.\n",
        "NLP drives computer programs that translate text from one language to another, respond to spoken commands, and summarize large volumes of text rapidly—even in real time. There’s a good chance you’ve interacted with NLP in the form of voice-operated GPS systems, digital assistants, speech-to-text dictation software, customer service chatbots, and other consumer conveniences. But NLP also plays a growing role in enterprise solutions that help streamline business operations, increase employee productivity, and simplify mission-critical business processes.\"\"\""
      ]
    },
    {
      "cell_type": "markdown",
      "metadata": {
        "id": "Tj2ZWnorH9QJ"
      },
      "source": [
        "In the next cell,<br>\n",
        "\n",
        "1.   ps(any name can be chosen) object of the PorterStemmer class is created as object is an instance of the class that can implement all the methods and functionalities of the class. \n"
      ]
    },
    {
      "cell_type": "code",
      "execution_count": 23,
      "metadata": {
        "id": "6qkb5-Ik4z0D"
      },
      "outputs": [],
      "source": [
        "#creating object of ps\n",
        "ps = PorterStemmer()"
      ]
    },
    {
      "cell_type": "code",
      "execution_count": 24,
      "metadata": {
        "colab": {
          "base_uri": "https://localhost:8080/",
          "height": 53
        },
        "id": "duRK5MS-46cf",
        "outputId": "e68e6b8f-cec3-46ee-e040-07decbb60187"
      },
      "outputs": [
        {
          "data": {
            "text/plain": [
              "['Natural language processing (NLP) (NLP) (NLP) (NLP) refers to the branch of computer science—and more specifically, the branch of artificial intelligence or AI—concerned with giving computers the ability to understand text and spoken words in much the same way human beings can.',\n",
              " 'NLP combines computational linguistics—rule-based modeling of human language—with statistical, machine learning, and deep learning models.',\n",
              " 'Together, these technologies enable computers to process human language in the form of text or voice data and to ‘understand’ its full meaning, complete with the speaker or writer’s intent and sentiment.',\n",
              " 'NLP drives computer programs that translate text from one language to another, respond to spoken commands, and summarize large volumes of text rapidly—even in real time.',\n",
              " 'There’s a good chance you’ve interacted with NLP in the form of voice-operated GPS systems, digital assistants, speech-to-text dictation software, customer service chatbots, and other consumer conveniences.',\n",
              " 'But NLP also plays a growing role in enterprise solutions that help streamline business operations, increase employee productivity, and simplify mission-critical business processes.']"
            ]
          },
          "execution_count": 24,
          "metadata": {},
          "output_type": "execute_result"
        }
      ],
      "source": [
        "# Tokenizing sentences(the paragraph is converted into sentences)\n",
        "\n",
        "# sent_tokenize method from the nltk library is used to tokenize sentences\n",
        "sentences = nltk.tokenize.sent_tokenize(paragraph)\n",
        "sentences"
      ]
    },
    {
      "cell_type": "markdown",
      "metadata": {
        "id": "BuugjpBoD-01"
      },
      "source": [
        "The output sentence has been tokenized with sent_tokenize technique and hence we have print the first value[0].\n"
      ]
    },
    {
      "cell_type": "markdown",
      "metadata": {
        "id": "W7Tmy2HL1vtT"
      },
      "source": [
        "For next cell,<br>\n",
        "All the tokenized senetences are processed using a for loop. Other characters excluding 'a-zA-Z' are substituted with a whitespace. Next all the senetences are converted into lowercase using the lower method of the strings class. The lowercase sentences are then splitted based on whitespaces using the split method of the strings class. Ahead the splitted words are checked for stopwords. If the words are not stopwords then they are stemmed using the stem method from the PorterStemmer class. All these stemmed words are joined using whitespaces and appended in a list.\n",
        "![image.png](data:image/png;base64,iVBORw0KGgoAAAANSUhEUgAABEAAAADICAYAAADoU5TpAAAAAXNSR0IArs4c6QAAAARnQU1BAACxjwv8YQUAAAAJcEhZcwAADsMAAA7DAcdvqGQAAEimSURBVHhe7d1/bCTneeD5Z/TDFq1zZHsktRzKQsXDbKyIgdAWjp2zoLCFMe4kxLjWEM6QOCFi/3GJ10HkyUCweWNsxhXikFlKEBhGgbNe/9OcQAE5Dkg1YJ+9Cw/UtDBJmguZ0IGxnDPHW5iYkShpYiteu+Xo171v1Vs/+1c12SSbze9n8ErdVd3V1VXVzXqffp63jtRqtXcFAAAAAACgj11j/g8AAAAAANC3CIAAAAAAAIC+RwAEAAAAAAD0PQIgAAAAAACg7xEAAQAAAAAAfY8ACAAAAAAA6HsEQAAAAAAAQN9LHQB555135O2335a33npL3nzzTbfp23qangcAAIDDYWNjw9wCAODgaBsA0cGNaKDj3XffNXPEvR0NjBAIAQAAAAAAvahlAEQHNnSLBj2a0Y/xHw8AAAAAANBLmgZAdCBjOxkdfkYIAAAAAABAr6gLgFy5ckXOnj0rf/zHfyxf+tKX5Hvf+56Z096PfvQjOXfunPtcvQy9rIOhKjMzAzLwnxZly0zZdy/M7Nv6bH17QgYWq+ZeH9uFbVxdVMfRzIQsvmwm7IFU++vlRZnQx3gv7Vd/ndw2oz6Fce778ucfhuMRAAAAwK5qmAHyoQ99SB577DH5kz/5E/n1X/91M9Vz5MgRc6ve7bffLmfOnHGfq5fRTbpjOfOCe0tmgg7mliz+J396lJ7erU5os9foDv2+Jr7dM2EX9Co3WFAfJDjQbhuXhama1CZLUjCTojKfXJCamu/c02guAAAAAHSmLgCix/JoFeS47rrr5JprWg4d4tLLSDN2SHoFsTLmpmTFus3cVNZe3WkAISdTuiP278cleAlgG3Lj6jiaWpDxyPHZE/xgw3jOTAAAAACAw6VhAKSda6+91m3tdCUAossUZgYk75SlOK/T4fNiq395NW3i2yLWB83jYhxxXjc3g1/OTZmLbpGyh1Zp9l45gyVFtSz7W+YxqsUyNsz6eS191on/unlHpPy8FS4jsQ5OZP2SmSKxde84OyCyPXRrUGLgvX+vxTNgEs9Nbs9EWUndtG1uM1/8fcfXrdU8LTb/W7aZ6vOyfYL5nZRdtCzn8DOSotst7f4yz5kvStkc997z67dbs/0Vnd4w2yi2P7aRkdTq+Tvc1wAAAADQLe1TOZrQWSA6G6RVtkhX3D0ltamKG/So6F+wH1Cd1ptK4qjbC5+M5msky16iWSK64zgr1qT+dV4t6/WilEwHsVWavfdrviOlm9QSHtC3vRa8ru70fmtNSu5yVXsgK8X5dB1b/3UrlkjhHidYduwXerWe+aunzbJtKT9fCpetOpbW81lvm6jm3LMm+Q7Gs6guViTvv6beJk4+HixQ92ePmvVSr21/y39fejvnZS1YZ7V9pCiWCRZkhk9I4fVlqUQ6us7VshSG8l52zQ62maYDGNH3rdvU3WZmYpt46x05JhrMj6ouWlL8YMUsV72vH+fTBwPalHOI6ACefwzqY8qW2VTLNtlJ7nLNZ8BtiSyTyP7Sx7L9d+Gx4B3H3rFWryoz0f2hWvxz1YYOcDR7/g73NQAAAAB007YyQHw6+NGqJKa7JTCerVfXRD5oBaUq1tGClK86qrNVkeXXy7K83rhTaT/gdxhzklcdwZ2Xzah1WV8WuWcu7IjeXXQ7tpVE1sG26UCPHxC5W2e+rIljOvPV76vO/QNT6t14Mp88LXYi8NBKbjx8bsNtYlXCjqz72uZ9vVCS4uu2nA46yRkZf0h1zp2K17G9bVxOW9H9UJWKEz5+Z9usKqXny7H3HdqSxb+zpXBPMZx395Tq9Pvr4s1v/FzNW89KEIBS7+t/saW8UUkdVGonPAYzkh8yx223RPaXF4RyJP3Sm39uWvO3eWR/Ruz65wMAAAAAOrDtDJC94qXvh2UvluoA61+760oIthzJPlCRrO6wvuzI2k2WhD94q+f6WQKK/kW8o1+5m9CZDbHyFVMus/u2xPmxeleRshxvG3UgVprgleI0p7blTeamFtu29XIfiwQOXqiIbeWDoMOOtpner7GxYOplb9nmfnWXHS0xUa2uRKYf5WRqsiQS7JNOMjS8UrNm23z/Ph8AAAAAUK8uANJJSYvO8HjrrbfknXfeMVPiulEe46bvR8pewpIR75f8zC1Z93HV74vk785J/oPLUunWT/YpxMpXTAtKMnZZtCzHaykH33RLE3Q2RPjcxuURPt3RjQQektkFW46UzU2Xzhgx2ShupsrH4jkX295mt1ni7e3m4pk9XqAoPTtWWuO2wzAwrl++o5pbSpU6CJIIjDWwn58PAAAAAIjadgaIDnro4MdulLk0FCl7qfvF+cezMvtjLyvBOiqy/P0ulhaoV9UDrdrfr+8SupkOz5/a0cCObglPx2UWXglFOC7HdkQCGi/MtMwA2fr2rNg3nZC8Dq6Ycphw/IoGpSfqVt4qi7NVlcqPS1KMZt/saJt5yy0+02isE1NWEhsnJVquk9iPJggUuC0vJ26yJd/JwKd7yQ3+7H75iB9QTKf1cdiNzwcAAAAAdMu2MkDefvttt7XTrQFS3XE/vFuNf9F/vSxiBtnU4x+IozpekYBJc3pATy89PyytUfcTneDcuDdIqJ/KHwyMqQdodQd29FP8dessKJH55Jw3iKj//JQdcD2IqvdrfeS10w6CasbpCNb77ywpJTNAIu/X2jghTpAJoQflrEg2KG3wBg5NlhTlRkuy9q28rPmDn/p2uM10RlDlg5HtpZo/eGvdNnEH4AzH/Ijtx3lHTscGLM3I+L/3Bj71l6tb2kFQg6vLxK7WspMAVZLa7u6grv66pb2iSnjlmegVh4L3lSiFSm6zdhodh2k/H623WbrPJgAAAACkdaRWq8VSOK5cuSJLS0vyu7/7u/JLv/RLZmpIBzXaZX3867/+q/zVX/2VjI2NyR133GGmAgAAoB9sbGzI0NCQuQcAwMHQsASm2ZgeWtqSl1bLAAAAAAAA2EsNAyA//vGP5YknnpAvfelL8r3vfc9Mbe9HP/qRnDt3zn2uXgYAAAAAAEAvqCuBidLjfHSayXHNNdfItddea+4BAACg31ACAwA4iFpeBUYHMnRLM5ipfoz/eAAAAAAAgF7S9jK4OqPjuuuucwMb+nY0GKJv+xkf+jH6NgAAAAAAQK9JHbGIBjquv/56t0UDIwAAAAAAAL2KyAUAAAAAAOh7BEAAAAAAAEDfOxABkK0LEzIwMOC1c1UzNWFzUSZazd9VW7L4sFm/fVuHLludCd/PwIQsbprprqrMBPMGZGbVTAYAAAAAoEcdiABI5uSC1Go1ceYLZkp3Vc8NyMSFLXOvc1sXTklRSuKoddTrWTuTM3N2mQ5SPLwo21/zNsb897Qg44NmmisnU+50R0pjZhIAAAAAAD2sf0pgBsdlYS+DDxHO5bIUCnnJmPsAAAAAAKC39EUARGdw+OUYDTM5YuUc4WP80pr8tEh50gofEy1h8UtrGs1zbYmzbm42ECvfUS1eLtKidEavs7offX7w3vx1GrVFlopi+c8fmJE+KL4BAAAAAKDr+iIAkjvjlZ5UzpoJMVWZGV2T0ob3GN0WTnq5Gn5pjX5eYd4J5odZJOq5Q0XJrvjPrYg9nTeBCH8cDEuKS9EASmS8jM1FOTWZlYq/XNWmRsw8pXpOPXe4YuY5Ulr3l22o17Iun/bmr9jqNUpegMPPdlHTwjIV3aZk7/NfAAAAAADoff1TAtNSWZYvNcgMaWPrwqzYYyUpBkGLnEzpQES5IluJcTDCAEpyvAxbKg0HCa1KZVrNC4ItGRk/5S/b0MENf/5IXi1pTZzYYKTNxAcpDdpujhcCAAAAAEAPOwQBkJxMbZREggyNDstEhq3tj+2hMzVWbLFHGwQgNh1ZE1vy0QCFLmnpCj84k2hPjzNOCQAAAADgUDocGSB+yYhqzvya5DsJgqw7sayJLWfN3EppZCoIQFSGi2LFsjDsWHmM27oSpCADBAAAAACAqENSAhPKWFlzK2QdK8RLT4zMvSeksFSUUlDCUpXSZFnsU9sLUujXCQzm5cSYLfm6QVU7MGip9VuWSl1ZDBkgAAAAAABEHYAASHilFGuy7A4M6mYzBIGDMNshejWXYDDRxBVgBtwBUeODhWZOzklJIldT8ZetM0c2SrLml7AM5GVt3okNZNpK8gowlh4QNQhCZGT8aW/g0+hjYoOgtqPWb25epDjkP5+rwAAAAAAA0MiRWq32rrkNhHTgaM4Sp2XWiA5Oqcecil/dBgAA9LeNjQ0ZGhoy9wAAOBgOXQkMAAAAAAA4fAiAoLklvyxoQhZj44z4ZUeWFJfMJAAAAAAAehglMAAAAOgIJTAAgIOIDBAAAAAAAND3CIAAAAAAAIC+RwAEAAAAAAD0PQIgAAAAAACg7xEAAQAAAAAAfe9gBUBWt+RbAz8y7Z/lhdilWXfR5qJM6Mu+nquaCZ2pnrtBBgbem7iU7OGwdWEisd1ekK995m6ZdtsfynNXzeSu25LFhwdkZtXcRVN6H01c2DL36lXPsR0BAAAAHHwHKADyuvz96JvygZXb5YGabr8sdw+aWehNqzNiTWalciZnJmh3y+985QU5+5XzcqeZshuq5ywpDldkasRM2AtuoGxGthcm2z+Zk6clO2k1DXLkHinJ2ujEoQzgAQAAAOgfBycAsvmm1OR6uWUvO7S+wXFZqNWkFuvIp5c784bUar+Q8UMVsKnKzKgt9sqUbG+r7cDqjOSn7UTgBc3lZGpDBzmaBG/08b+SleIXFqV5nggAAAAA9LYDFAB5W35hbtbZfE2eDUpjVDv3upmhuPO25LLOIPHnP/yapK280On/A7r8RbVWZQINbb5HJgZ0+YtXAhPvXF4niw/rspjrZabpY1p48UmZnlmW164uy5f9kpK/fsHM1F6T52b8UhPV9GPNHK8M5Ul5Mfrc2Hz17Gf/MHyu34LlJ5Yde13P1oVZsc9uLwMj/tpqPc1073V12Uy0jCY6X9uSxbnmgRe3JMfsT93iWQ9e2UwwP1a6U1X7aUaqfjmUbg/7AQE9T90fKkpZbMn78weiWRPbXbYv8fxEpkn8fSUDGWb9/Fa3bGVwXE6ftWW22TE+UpSSqNYwS8Qsf5slYgAAAACwF3o+AHL1wj97QYvRN9W9N+UHdUGO1+Xvh96QgaA05v3ygemfyrMXfm7ma/p5P5OBDTN/6Q35QcoxDXJnalKr1aRy1kzoxOC/yULtDaltvCMFMynuiBSHrhFrQ2eIvCWlsSOqA3qdmZfCD2358hd/KPfrkpI/teXmla8GY2q89uy8yP+pS010uyj3q475hWejIY7z8jX/ubocRS3rWT+ScHVZLiyI3P+n3vN/Z1RN+6gtf/B/3O3OfvGvj8uzHzkfLvufHpEvx5a9JZVyWezj28jAePFJ+fLCr5gymRfkDyb+u3wtFpx5Tp794lflNnfd1Gt/9Lw8G33tzYosL9mSbxR42VyUU7okR2fzmBYN0PhlM948R0rr+UTQSy13yJHT7vyK2Et+QCAnU3raRkntZzuy/IUg62f7y9Z08CP6fN0iAR6/1MjMc+bXJB8JclTP5WVt3gmf+/S4ZMy8qNxxW8rlSn1wxJWRfEG9u4sEOQAAAAAcTD0fADl68pe9wMbK9ere9fKrbpBDtTM3ufOvXviZ/GTsBvnVoCN7k/ymeuwvyj+PZXl8YMUfM+QmueWsSM2JBkj2j73il8a8pTqY70r58hF3ejr3yf1/+pg3lsbR++Q3PvqcvPyKO0Nuvv8xue+od1vdkztH7pPXXooO4hB5rtwtw6Mir77sBRJe+38vymsfPS53muffmX1E5Ic/lFfdey/I+soj8jsmGKKXfd///oi8tvpcJEjhiLNUEGsbJT8vrp2XO//IXy/9Pn5P7vzhRXkxsjPv/KO/MO+twfvadKQ8Zoll7tazpdIki6ESK5vJyPipZECgIKUNP/CQk7w6jtacxuGCuB0ue7UkxaXmJT3Vi/GMFz2mh720LJXIZmke2IgYtKSwpPaduZuUsbIi606D5ZgAECVHAAAAAHrYARoEtYXh6yXo6zcUHzvk2Jnb5f6T7zP3DrBIkMINREy9IL/jRw6i5S2qfXnhOTOjvZtv+xWRSNBBByVk9JNeUOKqDoScj5SgqPZnan7UpiNr5mZnXpPX/km93p9Flv2ZRxIlLq1tOS1e2R3LwhZ7tEEpiLvO0fIV1UZtM3OHdrhs9z01DepsibMu4XtyW169Wih3xnHLVywzv+kVXQYtyao1dZoNdtomQAIAAAAAvaw/AiDrb8ayPa46b5tbh9UL8rUvqi7wxEVTpqJLSe4z81K49aNys1tq4gUhvhbL+NDUfbPcoE2dUM8x3I709t35R4llf8XP+GjPzVJoZWQqKAWpDBfFio2HES1fMa1JuUjntr/stu9JsVcSy46U37gZJ0+b6e5gp02CIG6gJts8c6dtdg0AAAAA9K4DHwA5eu975L2xMT1elx9MviMfOHVzm6yQ/nfLbSYk4Y7pkT4D5MX/Eg+enP1KWJLildqcl681GPg0pDrJY+XmmQRNeSUtL/5ZcmDTDnSQpWAdi4zMMpiXE2O25HcykKcb+LHrS2x2uuyRvDsmyKmGA5SasTmaXcElqVVwqk2Aw81EGbYaBG0YBBUAAABA7zv4GSCDN8v9GzdIbdQMjjrwU6nNf0h+cxtXH6kXXj0jPy1SnrTc22mvBrN14b3q8TfIwNA1UpYjku/0Si/bdrfcP6EDCaaM5Is/lN/oIAPkzv/NFlk4HilD0c0PSuhSG2/g0+j8+CCoplM+1+BqI/rqNe5zdGmLn2Wir+zizb75/r/wBj6NLDt5hZqWTLCh0dVMkleAcQcODbIwdJaENzhp9DGdXfknJ1PREpvgKjA7XbYeY6MiWXP8eS0MeGROLngDn0aWXXeFmqB5A6I2ujqPHkukUMg3CHBoOxjYFgAAAAB6wJFarfauuQ24Xvzru+XZD1+UP7g/KGpxp31NzsvZWClMK7rjnRdZiV9pZU+szsjAqEgleqUUtKYvwetehabJNtPbdM4Sp2slQQCAg2xjY0OGhobMPQAADob+GAMEXeQNRBqnr/wicvOHO7msi58NkbI0o5tGpqRydoflLIdKVWaGipKNXEkmRgdHRtek9DjBDwAAAAAHFxkgqKevIPNFO1Z2cvNEPCMkLV12Yl0+vQ+XSN2SxYctcU7tQwbKAaP30SmZk4WTjcMb1XMDUjnOdgQAhMgAAQAcRARAAAAA0BECIACAg4gSGAAAAAAA0PcIgAAAAAAAgL5HAAQAAAAAAPQ9AiAAAAAAAKDvEQABAAAAAAB9jwBID9GXG524sGXu+fTlXAdkYMC0c1Uz3aOfMzAwIYubZoKhL23a7DloxNvOM6vmbhvu9m2wXV8pf0b+5o6n5EVzP+rFuTvUPNM++4y8Yqb3M297tH7PrbbZjn33KbXsz8jqS+Z+R56XZ9V6f738qrmPXbU6E35nNfhOU992MqPnPbyoPq1xse+7BvP192TazzYAAAD6FwGQHrd14ZQUpSROrSY13c7kzJzWMicX3Mc78wUzBV2jOmrWZFYqKfdF1A1PPS+fvnJFPv2XD8mtZlrgpWfk6/vU4faDM89+10xIw6xvEODw29zz5gEitxa+4r3fZz5vpmC3NQ6kHhBj/nfdgowPmmkp+N93tRXbTInLPVKStdFGQRUAAAAcJgRAepxzuSyFQl4y5n5S7kznnQXsRFVmRm2xV6akafjjtz8iR83N9F6V1elvyq3VZbnx0f+wzYyF7XpeXn7y83LXM5+Xq8+FwYu2PvyQfEoHN4K2rN73g3LHyXvMAzqwrW2W1rC8/8Pm5jbc+JFbzC3sr5xM6SDH0+NNvw+bGhyXhZWsFL9Qnx0CAACAw4MASFPNSiJ0Gnb4S2Is9Vq12ON1SrdOx95clAn/MbGyiXh5S37aTA5sibNubiZFlzkwo9aqUyad3LQ9+8XYXW+9vpHXT6Ssx7dph+8tlkYff191ZSvBukRFt0v9a29dmBX7bEWmRsyEBDfjoVF2RzvfXZArH/t9GfnwPXL/M8NyZTpRLuKWcoRZFukzNbwyjuhz60pCvvu3clUHID7+CTn65N9uuxTllfJ/lp899X+r92AmpLTtbZbGxx+VT195VO40dzuj9sWVK3L/x83drkmUtSWPsxalIPoY1se0V/rmNf87x//c6O+R8qQVzI9/57T43OvXVY+Nfv7qvhdafL7afqe0fG5rse+EBqVnqYzoXDrVKIUBAAA4tAiANJURa1hkzWlxkq5O6N1SCDdl20u/tpNp1ktFsYYcOa3nb5SkMD0bzK+es6Q4XPGeq1rlrDc97Eio+UvRzkxk2foXTX+ZZlJ6ugOWl7V5x7x2RbLqNfauRt6W/MCsWBvea9tqGwWdksQ2debXJN+gpr8xtd1G16TkLtdrCyc7+63YHvXXS+8PtZ6JgFWlXBb7eOelLy3pUpKHRO46ZTInVKf9ro99Tr4TlJI8L88+94kw00JnajyUdswMrxPvP/e3nnpQbkgEKV587gm54YF75Va5Q2787Sfk5U7KYHzqPaw+OizHCmRLtOOWtUU+97VaJJtIB+Wix7DOWhiKB0j098HsMe+zq0vc7Dnv8+GXgejvkULw2VYtKNVK8bmfzot1+bQ3X32flSdL4WvrAEbTz1e7Ze/ss9mdkr6M5Atqe13cZgAFAAAABx4BkBasY/7JtveLrXsyv+nImmTFGlTT5mzV0SiGnZeRKdX5KMvypWh3vaBO+k0HZzAvJ8bK4ugghurozE7bTcaRMKneNUdKY9HOTJdKXTYrsiwlmQs6IDkp6o5Uqo5B/FfeoKUOUnjsFf+95CSvOmx+oKl6MV5ekjl5WuylZalEg0otJbd/Z8L1Umt23FYdwkqk8+mIs1RQ+97c7Ra3lCSepXDnqSvyaT8gooMYwW1FZ2rIuvy00zIZHaT41oMyEgtS6PKXB+XWET3tFrEeeLCzMhiXLt/5nNz4zHYzLQ6h2HEV2rq0LDI/F37OddbCmPqeiAYpzlaC4EHm3hNSWFLHpXuvjTSfez0Gh/+dNJIXW33bud9X+jvQ/b6LrFtUqu+UnX02uyFjZUXWnY6+qwAAANA/CIC0oE+Wy5dV10Kd3DvDqjPsZ4OMWWJ5tyRrtfkVc+yE5IMOQ0bGn641LZ/YM5uOlHVmSiSAYU2Wzcx2/OBMonVUl29LPrIN9DgmXofOK/mxRyOBlQHdCUtLrdtGSSTImOmwfCZp0Ipn17jBr/0Ru4LMHSfkqpnueVVWPxud36hExowxcjZRauKWvzwolskIuXXkQbkhVgaTYtm6fEf+XO7qeqlIf9LZDG52kTnGo6UgesyfWPmKyQLrih197nXwr8X3Xdtld/mzuV36M502YAQAAIC+QwCkFX2yvO5IVf8qe1yd3F+uyJY+0R+2gs5+vESmxZgdvSa42kKkpbqqSXcyQFqxVxLr1Unmi18apJpbPrOTjpbe15Fglz4esubmXtKXif0HPUhpUMqiBxuNukVG/jIsc9EtOW7FK+X/IK88UD8+hy5/kW98Tr7jBzhyn5M3JFoG027Zz8uzD63LHcnAClryBi/WzSsViQZBYuUrpnUtaLrtz736HIyZm820W3Y3P5vblfxMAwAA4FAhAJKCczkr+ZGMOmleltLFNSkc06fPXj15vEa+JMUlW04HaeAtuJ3pMLVdD/JXPwjqLtGp7UtFOdXBIIShbmSANGNq9EfbdIz8wRTbDIboprsnBenvVZkZKkrz379Nyn/sCjy6E2hKmPZa5CopL84lM0Da+O5T8p260hftVfnp90WOPhMPcNz1mKQug9nuwKep+YP9djHA1i3+QKQ7GzsnHljQZVflyVPxcYQ6pEv3yuVK/fba0ee+zWezw2U3/GzugS1nTSQSwAYAAMDhQgCkFR2kUCf1Rcmrbr/unGTFni4HaeA6ld37JdNkQbiD/LW4PGpMTqbcQVO95+qBBzsZ4C+4KoLbiffT6f3OiTdmibtcnYY+nfceGwQMdBDD++XZnW7a3g2C2lzdNtUtbec3cZWJ5P7InJxzrwLhpenPirVSP4BsWH5jyXLBSQzUaDqBZtDJvXJr4fflaCRL47L15x1cMlZnaCSyPFT7evlVkZcuySvf+LzclsgWufO+z4ukuRqMO/DpN+WNR+8Jluu1tAO0puCOm6P+34NlC+4YMUrLgZLrhJ9N/zjTA6IGx9nIlBn4NPqYzjIl4se5al363Df6bIaZK22W3eaz2Vq777O0dmkQYwAAABwYR2q12rvmNoC2dAlQXmSl87IEPY7HZet5+dRhvFKKvozvVz8iv7WNy93qTIv8ekmcrmQZdZHOThkqSnYbxwIa0EGSOWtn+7nVMrqxfACBjY0NGRoaMvcAADgYyAABOuJn7uzD+AWHjcka6L3gh8lIIPhxcPiXF36c4AcAAMBhRgAE6NTIlFcK0HEKvoTlIp99Rl4x0/qZHsDVfb+6DKdTuhyka+PLdJN3NSe9bgQ/uiy4ksxER+OgBCWBo42vGVU9r4NVXbqMOAAAAA4sSmAAAADQEUpgAAAHERkgAAAAAACg7xEAAQAAAAAAfY8ACAAAAAAA6HsEQAAAAAAAQN8jAAIAAAAAAPoeAZAeUj03IBMXtsw935YsPqwvC2la4tKr+jmNLhkZXBaywXMOjc1FmRiYkfp3X5UZf9uoFt/mZt7Di2rLx3nbutFzdm43l909etskjzU9rdE2BgAAAIDeQgCkx21dOCVFKYlTq0lNtzM5M6e1zMkF9/HOfMFMga96Li/22Yq3PVVbOJkxc1rLnfEeXzlrJnTRbi67O3QgLi9r83MyPmgmuXJSnF+TfIOAEQAAAAD0EgIgPc65XJZCIS/Nuuhex3kh0SlFc1virIvYx5sFknIypQMjT4833eaHkR+Im2sQLNLBtspwUU71bOYKAAAAABAAacErPZlZNXcD8TKAWKmJarHHr854pRRuKYZ5TKwcJV7ekp82kwNeZ72h6DK3VYLQqgxklzQrSfG3k7kbLQeJl/eE+yR8TKIkQy/Lf+5QUcpmcsgRZ8ncTNhp2VD8WOhuWUjT4yyx7Xzu44P30GJfB/sk8pi65VWlNClSerx5UCj3SElkstTV9wwAAAAA3UQApKmMWMMia06LwIDqfFqTWamYUoraii32aKJDvlQUa8iR03r+RkkK07PB/Oo5S4rDYSlGWP7gd0bVfNVZL09apvMaWfbguCz4yzST0vPLGRzz2hXJqteoD/Z02aAlWVkTJ7p9EnTHPb8elvw48yLFoXgwwR4dkNlj3rpXzpaleN7M1Z350TUpbXjPjW2bIGCUF1vd1cvwtmm47B2VDSWOBaebZSGtjjO1TQtLjjjeIxtIs69tyQ/MiuVut4rY6pgtxQJ5atrYCcm3yjIazMuJMVsqu30MAQAAAMA2EQBpwTrmd4Qj2SCbjurCZ8UaVNPmbCnMFyUophiZcjvky5ei3d6C6pBPeY9xO4llLwCgOuSz06rD2HBMD1OGUXOkNKaWEHReu1TqslmR5Vg5gx7HoSD2xTS/38ezCYKWqrNviaXejyuSDbLlrIkMW5JR90qTZbFPhZkGmZNzahskOtZnK8G4Hbnjtsi647529XxRpG6MCsMPGOkOvrprr+jbupl9s0PVi7ZaZriszMnTYi8tS6VFsCedNseZG1QyItkgbunUMSv1vrZX/GMrJ/mz8cBfuH9aSREwBAAAAIB9RACkhYyVlfJlx+1EOsOq2+x37sZUR967JVmrdbdQYr+cZ2T86ZpMjZi7+2XTkbLOTIkEMKzJ+mKRxvzgTKKlGjNDd5K9ANDWJUeyqqPtZ4O4nXXvllhtgjyx8TtGpnpgvA4zrkiQVaKbl2nSLc2PMx1U8rJqqhfVOgyH2SDuc1Lta1vykWNSjysTHRhWB1PS0AFD9/MCAAAAAD2IAEgrurxg3ZHqpWWR46oTebkiW7pDGfk1PP6Ld4sxO3rNWOTKMn5LdYWZnWSAeJ3kNacqFdWnzj9iiXNJbTPVwQ47+CZDJtB8zI5eE2aV+K17g9M2P878oJLapuuWFI+LVFb1/Eggadv72hNmQrUWZJ0AAAAAQA8iAJKCczkr+RHV0dTFBBfXTCcvI/lCQcrRgR9XS1JcsuV0gytl1HFLF8LSDnfsi7pBUHfJSN4d52F7V+3YSQaIzxFnOC85tQ2kXFIdd7+z7pVf2HNhMGXrwqzYqgNfTJE142YglCvmuVWZaTgI6m7wjgV7tM3Ap/44JB2NDZLyOHMcEX21ILVN1y6WxFnSZVpq+o72tUdnQvllRs15QZm2GVEAAAAAsE8IgLSigxSq81gU1VlXd3PHs2JPh9kKetBMd7BLPwvCHYAz7ZgSOZlyB7P0nmtdPt3R4JvBVUHcTr4exFIvx++Ae2OWuMvV5Q7Tee+xwVVBdBDDGwzTnW7arg+CqrhlRZNFEbeMJSf5YbUN/M66nnKm5l5S1S/ZcAf/TBlccccLUXvLe64e1NMb7yOddtsszHzRgSp/YFr/iip1x4JuqQMdHS47cZzpwI89uSzWvWor6XFm1tU2Dcq0urCvTRAlNjBqkh5rZCleSgMAAAAAveRIrVZ719wGgIZ0wM0qnxCnSTBKX5ZYX5knOnYIAKB/bWxsyNDQkLkHAMDBQAYIgLb87JpGpTT+pYvDK80AAAAAQO8hAAIgBX0FI11Kc0oWY4PU6ksXpy9TAgAAAID9QgkMAAAAOkIJDADgICIDBAAAAAAA9D0CIAAAAAAAoO8RAAEAAAAAAH2PAAgAAAAAAOh7BEAAAAAAAEDfIwDSQ6rnBmTiwpa559uSxYcHZGDAtHNVM92jnzMwMJG4NKl61oWJps/pH962mVk1dwP9ts2qMuOvV4P19jV7X+k13p56ufXbGAAAAAAOFgIgPW7rwikpSkmcWk1qup3JmTmtZU4uuI935gtmyuHRf9ssJ1Pue6mIbaZ0plmgKK56zpLicEWmRswEI/dISdZGdxJYAQAAAID9RwCkxzmXy1Io5CVj7iflzuiO8YKMD5oJOLTbbEfva3VG8tO2VBoFiwbHZWElK8UvLEoyPwkAAAAADgoCIE01+9VclyOEv4bHyiZUiz1edSoHHladxs1FmfAfEyutiJdq5KfN5MCWOOvmZlJ0mQMzaq06FS2raFR6sx17sc2i621JcclMDvTqNovv6/jr6+Wq+9H109vAzG2rxfvyymK87WSP+o9Jrrtatzlb7JUpaZorM6JzalRrk0UCAAAAAL2KAEhTGbGGRdacFt1Q1Vm3JrNS8UstVlQnMlkqsFQUa8iR03r+RkkK07PBfL/kwH2uapWz3vSwo+11XMuTlum4Rpatf5X3l2kmpac743lZm3fMa1ckq16jXYlEe7u9zZLr7UhpzH2G0tvbzC3LiezrWi0ZbLAl779n/b6kKKfSBlhavC8vK8TbTvaK/9o1WTgZyY/ZrMjyknr9ROlLXEbyhYLYFzsPGwEAAABALyAA0oJ1zO9Oer/eu53dTUfWJCvWoPereWG+GHZkR6akcrYsy5eiHdeClDZMZ3cwLyfGyuLoDvnmosw2KzkIxnzwOq6FoNPdpbIN3eFVXey5oBOck+J82Ln1sgaSLRGkaGJXt9mqm4MQWe+o/d1mqUxXYtkZcZH3bIIN5cuOe2/Xqf1THrPEMnebyVhZkXVH7VkAAAAAOHgIgLSgO3xuJ1R1fp1hW8TPbIh0FrNWs5EmjLETkg864BkZf7pWN8jkntMdXp1lEQlwWJNlM9PPGki2dIGEw7rN2tEDrFbO2pI3z01VPrNHwYYtZ83camPQksKSI3sUlgEAAACAriIA0oru8KlOaPXSsshx1fm9XJEt3REetlS33BMv92gx/kSvGYtcJcVvJhtlJxkgh3WbpREGlrzymbZBkMg2201uZkcaKTNFAAAAAKAXEQBJwbmclfxIRnX8lqV0cU0Kx3QX0JQpTJbCsgZdorFky+mGJRoJg5ZkxZaKGUNCDwxaPwjqLhnJi73UfIyJnWSA+HZrmxWWlqViAjHuGCp1g6DukjbbzOOV/bQPFlliBWOXNLC5KKcmy2IfTx9cac0bm6VpuU7KzA43U2SPgjIAAAAA0G0EQFrRQQrV6S1K3h2bIXc8K/Z0OSjh0GUNzvxaUNYwMLoWGcehnZxMuQOAes+1Lp9Wy0o/NGdwJZWhoqiuslkH/wogfkfclGlM573HBldT0eNleFkI7nTTdj4IqrKb22xwXObmRYpD3nNnjzmRgWPb279tFi7ba97gt7GBSNUa+e9Lr192JVL2o6+M4z4vr9baf1wYZGn9vjy5MxW1H8x7Ui2WfeKOs2LLbJvgTqXczaAMAAAAAOytI7Va7V1zG8C+0FewmRVro0sDtm6HDrKMilTqrk5j6PlzljhPj5MBAgCQjY0NGRoaMvcAADgYyAABYK7GY0s+yHiJ2FyUCZ2p8zjBDwAAAAAHFwEQAK7cGUdK6/m6sp7qeV2Ss4/ZKQAAAADQBZTAAAAAoCOUwAAADiIyQAAAAAAAQN8jAAIAAAAAAPoeARAAAAAAAND3CIAAAAAAAIC+RwAEAAAAAAD0PQIgPaR6bkAmLmyZe74tWXx4QAYGTDtXNdM9+jkDAxOyuGkmGFsXJpo+Z99tLsqEv26qJS+72vdWZ2Tg4UW1Z/eDdzxFt7k+VuqPuw6tbsm3Bn5k2j/LC4nj8WCr32ZpVM/doI7v99Z9Ng8M93M6I3XfHvr4DT6/ie8e/7Nd951TlZlmz+mSqxf+2T3+/r7pfnpd/j44Rn8kz174uZmOpvu6pevVPlXH+MPv2afvsp3Sx+TuHIu9bXvfZ72g8TlSGs329auy+tk75G/mnjf398aLc+o17/Da18uvmqlxr5Q/485/9rtmQire+2n/nOfl2Savrbdx82NDb8cW3xOxc7vD+NkCcFAQAOlxWxdOSVFK4tRqUtPtTM7MaS1zcsF9vDNfMFN6jS0V856mRsykHrD9E6yU9AnC6JqUHh+XjJm03zInT0t20trBCbHqWI6+KR9YuV0eqOn2y3L3oJmFPqNOgEdtsVfM91FtQcZT7eucTLmPr6hP/v64fO6n8pOz7zfH6O1y/8n3mTm7SwfCJi5cZ+5h112tyh/+x/8qL5i7jekgQF7W5udSHr/GtgJF2F/b3Ne76M5TV+TTV67IXY+ZCT0k90hJ1kabBS9yUpxfk3yzH3AGx2Vhn7/nASANAiA9zrlclkIh37SznDvTSScE+0udiH2hKNJDJ2Ie1Tnd0Cc92zyx33xTanK93NJDgaxekDvzhvps/qK/PpubjqypU9t8s33tnwCnDNR209GTv+wGNn6z4br9XP7HusgHjt9k7mPn3pSpmjrGn/63ngnmpuX/sDB38qCtOTqVZl/fYN1hbvWOWwtfcYMk93/cTNgFN37kFnMrQn+Hr2Sl+IXGQQ7941pluCindvOHIgDYZQRAmmqWJhpPpYyVmqgWe7xf6hBNC4ylhnuv4T83P20mB7bEUSftDcVSDbfTcdXvI3ztXc166IBfjuGV9ngtvg/i691pKUmz/eVP1/ugPGmFj4ntr2bbTE+fkUWzjIkLVbNfE7+irJYanIjtxXEWXW9LiktmcpQ66Tl91pbZ7RwHm2/LL8zNJL8swW+x8gRdNvPwa3J18zV51n/MudfNzFZ2vs38TJ/oY+LLS7HNmtl8j9oPuvzFK4GJfzavU+uuy2JM+UDDxzTRpHTKfQ/B/o6ut2qxx4fbLfx8JY/RSHnLUFHKZnJg06mfZkQ/s9v5Ponvr06+06KlLc3Kr96UWif7MKD3k9o/0X2aKPnYuvBeb7pp/nHkT/e+U64LH3Pueu8BrTTLNEgcA9FtntyXbY/xdvu6hdh7rns/7bdZa/8iy189L3f/R78lszk25Mlg3nn5w0v/Ep/+1X+U5+RleSR4zJIsXzUPcVWlNClNsvDif5PD49B8rtztZEs+mF+/zcPnRufp5er70c+nv+x032c72tf++rutwfdZ9FhQLd3nd0v+n8d+o+16xz/XDY7Bln+74vuj/hwp+r5Uq/t+bLWvtVtk5C+vyKcKDQIBpkykYanKd59yy2b8MpVGpSzRMpdmj2ks+rqfkdWXzOSI6OvqVl/yEl3GU/KimRq6R+5vFVwZ0WcqqtXtW4/OEpHJktq6AHAwEQBpKiPWsMia0+JEQP3xtiazQSlHbcUWO5k6uFQUa8iR03r+RkkK07ORExp1IjJc8Z6rWuWsNz38o+6dqIQd8siy/V9a9TLNpPT0SYVOCXXMa1d2WALRXfr9zh4z6+Zu07AjUD0XXW/Vnu6glESdZJ2K7i/V/PIbv2RI74NCdPnBL9nttpktxcun3fUtT+bFOaWXVZblS+HxU71oN8jm2e3jLLnejpTG3GfUyR1X616uJE4gmwuCG6Nvqntvyg+SQYzVLflvk9fKr5qSgwdWrpefjCY6qEtvyH8belvu0PM3bpD3Tv8sxfgh3dlm+jiz9D5T83WpmD3nnzyn32YNDf6b+my+ofbDO00+m0ekOHSNWBs6Q+QttewjMpumRGLQksKSI465W6/BequTWCvWoVBH6uhA8PnSx2jxvJmvOyG6PGvDbLPId0vQiRnVic2RDmBk2V42WvR7rAOJ/eW0SrOuc5P8pnuMvV8+YKYEguDaT+Un6u5PRs0xOrAll71HpHBE8kNH1GdL76+3xV66JuwYrL5Xrbeo9dbzVFt5V21fb9yXzMlfuNO875S3vPm6ndGflzbUvs7KmjgtPgt6n+TXw/JIZ17UcRUPmjQ9xlvs6zT89+bMv2umJLXYZm28dqki9i2fkBf+r0dM+1/lbjPPC478rfz3+z5l5n1CfuW5r8uT/5+eNySP6Wm/92tyn9wm54Pnj8mJo+6TPatq+WMnJN8gM8vNFoj8Ta7VpsT7C2BKuNztFJZvRrMv2+8P9VkbmlWfe29+5az6HLmfn/bfZzva122/z9T5RvRYUG0hVWZMRgb/3X6dI3nang+02Net6bE0TsjPnnrezcL49JVlufHRe+KBhidPyHec3/fmP/N5eePRhTDQ8N2n5B+e/Lzc5T73ebnjt9W0x5abBFqSvOCEfs3oYRt46RlZfXTYLNtryUDG1Yf+s9xY9V/7CbmcKvASlZF8QR1DF6NHWMRgXk6Mqc9Bj5wzAkCnCIC0YB0LTv/VCYT55cJNAc+KNaimzakO7XzRnCApI1NuhyLa6VWnvurEwpxEuX80yt5JrToBnZ1Wf0Aapor79fLeiUrYIe9SqctmRZZjmQi6rrPFH7uYxC8ufkvdWUnhbCU8ARvJq9PNeEegk056vW3+0W67zdR+fsTsyzHV7axLw/eyebJW/Ynlrh5nDbNOmmjbwY7zSw50YEP/6hsEOs7oMoOfywtzb8p7598vx9xHKyMZ+dWz78i/XIoOPnmNfHgj4z1m8H3yobF3pBY9OW6iK9tM7SfHfP4y954I33sn22yb7BW/NOYtdaL5rpQvH3Gnt+R2ig3VsfA/c26Z3DHLW+8lW04H652R8cd1h6IS6yhFP1866CXrjruc6vnm5Vl+gFB3YNzPkN/h6FKpiw4O2it+Z1O/3mnVaV6WSopjoaXBm+X+SHAkHKfGHHOpvKs+W78w6/am5FUnbM3RAavr1HF2RB1nb0eOs1+o4+yIOs52OuaH6sz6nVT313Gvs7vlrIkMW2rP6l+2y2KfCjt8mZNz6u9F4vutyTHeal93R7NtltL3f9h4DI+rP5CL8mti3/shM2FIJu/7n+T89zbM/fbCbdhE8vOSSrr9Ya+Ef8Ojn73W32c729fpvs+Sf0/SGfzIJ82tXfjb1fIcKdTqfKDtvm7mpUvyivy5jAQBi3vkrqcelKvPRQZL/e0/l986dY93++OfkKOyLj812RovPveEyGOfkDvde7eI9cCD6pj+J7XMbnlCXm4x0OnRZ74iIx/Wt7zXfsO54k7vRMZSf23M8VkvxY8QANDDCIC0oP8AlC+rUwjV+XWG1cmK/2U/pk5OvVsNO7QxsV8fVIfk6R4Y9FOdoJT1ry6RAIalTrDS8YMzidZJJkbHzAmRkjtjftU26+2ecKXl1rbqX6C2EbTZ0TbT1MlokxT8njnOUvzq3KkBq81Ak2PvkduD9X6f3P10szEc4rqxzWLZOG5GVdgB7026U+ztn+pF1ZkaDoNVwXuNvP9m7OORd6k6JLv72U3DCw4Gn0u36cDnwZC13jK3ukl3MLzvva1LjmTPqkPcfC7dYJd3S3Uyzc0mDt4xLnLzvWNy/mNhCUtY4qJcfV2eu/qPcjwobzkvx5/7H2ZmOjpg2Iw7voHOzDDHYWelXO33Rx0TpGj/fbab+9obA0om/UzTeGZJKzfffue+/u1qdz7Qal+39NI/yRvf+Jx8J1Jm8p1Hv2lmtnfUelDkyb81GSGvivOtb8oND9wrt7r3d+jDD8mnnvm8XH3IrNtnn+liYCWizQ8iOmjn7nsAOIAIgLSi/wCsO1K9tCxyXP2RvVyRLd0RjvyiEI+Atxizo9foX4uSQYxUv+buQQZInejJn3eC5K6vOmlbU52mjoIgusNn3q8eyMvqZL23vc003Xk1N5N65TgLfrkz97ug5kSzPbyBKLuinz+bTfmd4qpU1i0pHheprOr3Ffl8JE9Y9TYxN3tdeGUZvx2MwZ3jmQ3Xde040x2MNUfta7UD849Y4lxS+1p16MIOZRgY9jQPsh40dz/kl694JS6xIMjRX5OLQXmLaQ8NmZnthdkWjfmlXH6ZY/ogyDb2hx8oaPt9tsv72i+pVc0tP0sbBMncvs/fw63PB9rt65Z0hkekzMRtfsZHG7d+ZFj99wn5Bzd4co9ciWWTdMHHHw3W6a6PfU6+sxtBEL0fWwTUg8xDADiACICk4FzOSn5EdT50EcTFNfOl79VIlqMDQdWloLegTniykXIMt8a3boCvXaLLSpa2O4r33maA6BrfpjW87jas5w8W1y4w0ujkyP1Vo1FK7Y62mdY+ZXS3jrNCpJTAraluduLc5oSnM++T2wvXyC8mfxqOtbD6U3lp6Xq5o4uXH933bbYfHEdE/9qr1nPtYkl1hEzQyi0Xiw5k2yAFvYX4sV+VmQ4Hxtw+U2++3asQ7RtTvjR5beQ4u1YdK++q4yzMCrGOqceUr6n/TklFdXSH85JT+1rKJakEwa6cW1YSjvOg/4bMqu9KdZyn+PV8//Z1pz4kH40OhPDvPiqPXP1HsaMBkaSjR+VX5GX5tjsuSL3Wqf1RDYLW7t+cROmJq9P9ocfdUJ/NxJhQjb/PdravO/0+c7dPHa/EJTn4qq8nzpHcx8el39cJuqTlG5+T1Y7HztBeldWvPiFHn4kETv7yIelK9kcDbrbJLmhdPuQFstpm9wBAjyIA0or+g6o6vUVRJ6Dqbu64+nM8Hf4Cp9NlvV9LTBaEO5BYB2mnkXIMPXiZHrgsLX0y4L5mbFR6vwPhn6yYMo3pvPfYYMBCHcTwft1yp5vWUSbFbvLXVzV34LcguJLMPvEGQEubLhtsM9PcwdkSgRu3tjqSUtvNbeYOMtpo5PTdPM4Gx2XOHTDPe64e/LLZIJWNB2ndPj1GyP88/3Y4OOro2+F4HzvVI9uskeAKGUPXqM/mEbUO+koYKa/00obuuNqTy2Ldq96nrpdfV98hQdAqeYx6AwimG9AweezrwRor6pslrfCzGb2SUvDruR6zxJ2vgzR6MEh9O+xM1e0v3dJmZ+mrCQUDnb4jLw3p282uBtNdejBQPSClt49VG5XI2BeezMm31Xa9Rm1X85g0V4FR3LKIyaKIW7KkOsHDal/7wS495YzJYjPbq9H3WTM729f6Skbee7Emj6jv62s7el+tJa8A83V3QNS/iIz58ZjJCgkfc94MgupTjxm7Tc4v+fMTV4Exwez6QVnDv5tea/T5if/djh7DafZH+Dzvb1ew7DbfZzvZ122/z4LPpmmdfFdmBvfxHCnF+UDTfd2OHojUG/jUL4HRrf5qK43cIiO/FylR8VuQpRFeoeUfnhR5w7xGcIUYfYUZd/4JuSrflCs5fTu8GkzyCjDfeXRY7up6gGVLKmV1Zhktl4zarMjykjrvTHnuBQC95kitVms2jDuwO/Sgfu6o7/UnQjpI4Y5kn7q05CDRJ9iWLBciJ769osU+AYB+4v6dKZ+IBNd3m/fdr68Otu9jgHXRxsaGDA2lLz/aD3u/r/UVZO6Rn/1e9Oos3rRXHng+5ZVg9pkOis2p47XJNtNZtjqQ1vw8RgendGD1YJQxAjh8yAAB9kzGvSqHTJ5qmEa8f9TJylBRspGrcABAv/IzYLZf0oiDYu/39RX52TfMTZ++qoyaduNHDkDwQ/8YojN1Hm8c/NABJZ2Zu5tXSQOA3UYABPskHGm/Z0pv9oIebG4lK8UvpEzv3wO6nryTUiIAONj04Jm6XKzXgtHovr3e1/fI/dGrtOiW+5zc+Ew0I6R36UtkZyOXa47Tl2RuUX7lXrLbK0c6KFfxAnA4UQIDAACAjhyEEhgAAJLIAAEAAAAAAH2PAAgAAAAAAOh7BEAAAAAAAEDfIwACAAAAAAD6HgEQAAAAAADQ9wiA9JDquQGZqLtW/ZYsPuxdLtZt56pmukc/Z2Bgou7ybvpa7c2e0xO++5T8zR2fkdWXzP2OPC/P3nGHfL38qrnfOW/71G+3tvzLvO1km67OyMDD+3UZXO94qr/08P4cZ3q5h+oyyAAAAAD2DQGQHrd14ZQUpSROrSY13c7kzJzWMicX3Mc78wUzBT1BB1BG16T0eJPr6O+T/TrOco+UZG10G4EoAAAAAOgQAZAe51wuS6GQb9pZzp3RHdYFGR80Ew6UYXn/h83NbbjxI7eYW53zOu7b2G6D47LQQYAgbksWv1AUmZ/ruf21b8eZ3p4rWSl+Yb8yYgAAAAAcFgRAmmpWKlCVmUgpQKwEQLXY4/1SB79soq5MIF52kJ82kwNb4qybm0nRZQ7MqLXqlH4f4WvXl97sso8/Kp++8qjcae525h65/8oVuf/j5m5KyX1VX9IR3ybJMhWvDMRrye2ll62nRR9Td+ysltwsi7mT0TDDXhxn0fdlSXHJTA7s83E2oreKanXbAAAAAAC6hwBIUxmxhkXWnBaBAdXxtCazUvHLBlZssZPp/EtFsYYcOa3nb5SkMD0bzK+eU53R4Yr3XNUqZ73pYafR66yWJy3TgYws289E0Ms0k9LTne68rM075rUrklWvUd8J7y9+uYbb6rZbcps4bqfcigQSvCyI6H6K0/tp9pj3fF0SYs8lAigX7QZZFrt9nDV4X2PuM5ReOc4yki+o7XWx8/AKAAAAAKRFAKQF65jf5Yv8Sr/pyJpkxRpU0+ZUh3a+KEExxMiU6hyXZflStDNbkNLGlPeYwbycGCuLozuXm4syO21LpWEpRU6mIp3VQtCB7FIJwmZFlmOZCDkp6g57qg5o/Bf9oO3boJ5dorMzlmw5HWyTjIw/rgMJlfRZD2crsmCen7n3hBSWHHHce5qXZZG14uEPbVePs4ZZJ77eOc4yVlZk3TnYxxAAAACAnkYApAXdKStfVl1Y1ZFzhm0R/1f6MUss71bDDm3M2AnJB51J1al+uiZTI+buflGd67LOGIgEMKzJspnZjt9pTrSne2tQz22J7Nfuc8SpKz3xcJwpg1YiYAQAAAAA3UUApBXdKVt3pHppWeS46shdrsiW7tQNW0FnP1660GIshV4zFrnih99SDezZpxkgWrIDrve1ublzllhB6UkCx5m3rXc1AAUAAADgsCMAkoJzOSv5kYzqnC1L6eKaFI7pbpo3bkF5shSWSNSVUbSgOr1ZsaVixkPQg1zWD4K6S0byYi8V5dS2Bj7t/QwQfyDSjsY00dtE/ZsNtkmD0pMdaT/Wx24dZ4WlZamYMT3ccWeaZKJ0XQfH2ZazJhIJ+AAAAABAtxEAaUUHKVQHrih5txOcO54Ve7oclCPoQTWd+TXJ+1kQo2vhOAxt5WTKHczSe651+bQ7cGZawVVBhopSVh13bx38q3R4Y0m4y9UlB9N577HBgJ46iOENSOlON63fB0FtLblNvAFq/TE9opkvOlDlDxjaydVzcsfteCDDt5vH2eC4zM2LFIe85+pBWpsN4trI3hxnW1Ipq6Uf706oCQAAAAAaOVKr1d41t4HDQ1/e1b1qStqAVTfogIElywUnEliBexnfOUucfhhHBgAOiY2NDRkaGjL3AAA4GMgAwaFUPV/chzEnvCvLyOSp+CVsDzMdiNIZLY8T/AAAAACwuwiA4JAIyzV0y+tLEO9HxsHguCysZKX4hT4YNLYLdCAqu9Kly+4CAAAAQAuUwAAAAKAjlMAAAA4iMkAAAAAAAEDfIwACAAAAAAD6HgEQAAAAAADQ9wiAAAAAAACAvkcABAAAAAAA9D0CIG1Uz4WXTp240PjCpVsXJtz5M6tmwp6qyoxZv1briM7pfd9yn5+rmnt7bHNRJgZm1J5PanEsuM9R0+vWOfqcCVncNJNT089vtC4AAAAA0FsIgLSRO1OTWq0mlbNmQpe16mSnUT2XF/tsxV1H3RZOZsyc3bXT9T7QVmfEmsxK5UzOTOgN2zsWcjLlPr4itpnSmZwU59ck//CiEHoDAAAA0MsIgHRB5uSC2+GcGjET9syWOOsi9vHe6oj3t6rMjNpir0yprn8vaXMsDI7Lgg507ELQRh//leGinCL7CAAAAEAPIwCyI+3LB/zyGL/5ZTL+9Py0SHnSCh8TKVFo9tyQI86SuVlnSxYfDp87UFem0LxcQr+uvh8t/+lkvdtanQmfp1r0fbV6bW+d1fvwyzl0S2YexJYd3yetl63Ft5l+j0lbF2bdLItYsEu/ZoMMCHdbBdslvr3jj/deV69LuG6J4yn6voaKUjaTQ82Phej73U7Wjr/Pvda43CX3SElkstRwHgAAAAD0AgIgO9KmfEB11E/pUgn3MV7zO85+1ogurSnMO8H84Bd6v8zCn75iiz1qOsVBACDvvq49Wt853bpwSorDYTlErRbNWNAd7rysBa9bkeykFQsG6ODG7DFvvjNfEHvO67C3Xe+2qjJzMR8+z31f8U519LXr59uSH3LktPt8R0oSyTzQ22V0TUob/rKzUhxqvuzo+9Kq56zYNqsve9qSSrlcn2UxaElhyRHH3K2X3N7eeluJoJHej/66Vc6WpXjezE++r42SFLw5qY6FHZVxJY5Dp1m5y2BeTozZUokFlAAAAACgdxAA2XXb6RSqDvOcLYX5Yhi0GJlyO8XLl1TX0y9nMIEXe8V0jGNBDmW6Euv8BzYrsqy64HPBGBF6HIeC2Bcjjz5bCcaQyNx7ok0HvxM5mYoGS0Z0x31NnGi2Q+S16+cXpLThv8+M5AsFKV/21mzr0rLI/JyMD7p31XOLUkp2ypu9r81FmZ1Wj20ZyNFZFgWx/OX7Bi3JmpvRbBDnclkKxyw1rSTFJVtOB9s7I+OPl6SQ3D+RdcsdV3t23XGXUz1fjL+vqLTHwjZVL8bLfTInT4u9tCyV6P5yZcQaFllz6kIjAAAAANATCIDsJt05dTMYzK/yjX45byFr+R3mzrnjMpy1Je9mAySvCOJIeakolpmnmzVZX1SxW6IlGX7mQmvleIAkyQQKdMAhVpYzYEmxaYnQNqjttmZuxllijXlBmupFEXs4DBYF+3BMPca71VQss2RkSmpPj8v2j4BuMOOKBFklrfeXdSwMRgEAAABAryEAstt0R9b9Rb7mDhRpdRAEif+a7nVGO+GXPvglLrEgyFhJHLNeQduFATKT9HgSeZ1pEbxumquPNMi6iBq2gkBBrCzHtK4NThvN9IjR2Q86SFOVyrolxeMilVW9vyLrncyg0UEoc7PXhVklfltomI0SZLwAAAAAQA8iALKH9C/kSe6v5uVKIihiSjuig0rWlVF0QmcomJuaLitZ2tlVOxqvd4Q/aGejwVEj2RDupVvN7Ubc+WMnJN8oALKpx1gJx+TQZSPlyVMNB6Ntyw1uhOUyXqDGux3S27FFNorjiBTyklHLWrtYEmcp6wVA3DIeW2aD7d2gxKmF+LauykzDQVB3g3ccJsdoacwL0O0kawkAAAAAdhMBkJbCK3dEr3oSZFIEV+bQHdyyFIf07fDqHfGrZ+gyk6xUEmUNmZNz3oCY/uNMwECXsLgDTvrT3UEw047r4F1VJHxtb3DPYFwNtZQpkxUSPiZ5RZTWmq13O94YEuHzZo+V6gMg0/lgnfLrJXFi28zfzqoNFSW7Esnw0Nk27sCnZr7b0nTeNbVNIuVK1uXT7iCpcSYgEBk41aeDFPbkslj3qjXVA4Kuq2UFgZ7k9k7uj9bi23pWrI00WTO+nR3Ddcehbo2ymPS4Mku25Pf8UtAAAAAAkM6RWq32rrkN7DsdNNLBh8blOLozrwMAjUsw9oZeh7xINPACd1wXfQWbtEEdAMDBtrGxIUNDQ+YeAAAHAxkgQEf8TJG0mSX9zy0XWo9eVQgAAAAAeg8BEKBTI1NeWUjKsp/+VpVSg9IuAAAAAOg1lMAAAACgI5TAAAAOIjJAAAAAAABA3yMAAgAAAAAA+h4BEAAAAAAA0PcIgAAAAAAAgL5HAAQAAAAAAPQ9AiAAAAAAAKDvEQABAAAAAAB9jwAIAAAAAADoewRAAAAAAABA3yMAAgAAAAAA+h4BEAAAAAAA0PeOvKuY2wAAAAAAAH2JDBAAAAAAAND3CIAAAAAAAIC+RwAEAAAAAAD0PQIgAAAAAACg7xEAAQAAAAAAfY8ACAAAAAAA6HsEQAAAAAAAQN8jAAIAAAAAAPoeARAAAAAAAND3CIAAAAAAAIA+J/L/A3am5DeqdD+nAAAAAElFTkSuQmCC)\n",
        "\n",
        "\n",
        "Copy this code as it in below cell."
      ]
    },
    {
      "cell_type": "code",
      "execution_count": 25,
      "metadata": {
        "id": "4GMvtjnc5MwX"
      },
      "outputs": [
        {
          "data": {
            "text/plain": [
              "['natur languag process nlp nlp nlp nlp refer branch comput scienc specif branch artifici intellig ai concern give comput abil understand text spoken word much way human be',\n",
              " 'nlp combin comput linguist rule base model human languag statist machin learn deep learn model',\n",
              " 'togeth technolog enabl comput process human languag form text voic data understand full mean complet speaker writer intent sentiment',\n",
              " 'nlp drive comput program translat text one languag anoth respond spoken command summar larg volum text rapidli even real time',\n",
              " 'good chanc interact nlp form voic oper gp system digit assist speech text dictat softwar custom servic chatbot consum conveni',\n",
              " 'nlp also play grow role enterpris solut help streamlin busi oper increas employe product simplifi mission critic busi process']"
            ]
          },
          "execution_count": 25,
          "metadata": {},
          "output_type": "execute_result"
        }
      ],
      "source": [
        "#Write the above code in this cell\n",
        "listofsent = []\n",
        "for i in range(len(sentences)):\n",
        "    wordfile = re.sub('[^a-zA-Z]',' ', sentences[i])\n",
        "    wordfile = wordfile.lower()\n",
        "    wordfile = wordfile.split()\n",
        "    wordfile = [ps.stem(word) for word in wordfile if not word in set(stopwords.words('english'))]\n",
        "    wordfile = ' '.join(wordfile)\n",
        "    listofsent.append(wordfile)\n",
        "\n",
        "listofsent"
      ]
    },
    {
      "cell_type": "markdown",
      "metadata": {
        "id": "8W5oIFbV6Znm"
      },
      "source": [
        "\n",
        "In the next cell,<br>CountVectorizer class is used to get the count of each word in the processed sentences. "
      ]
    },
    {
      "cell_type": "code",
      "execution_count": 26,
      "metadata": {
        "id": "JaxLMJFS63xq"
      },
      "outputs": [],
      "source": [
        "# Creating the Bag of Words model using countVectorizer \n",
        "from sklearn.feature_extraction.text import CountVectorizer\n"
      ]
    },
    {
      "cell_type": "code",
      "execution_count": 29,
      "metadata": {
        "id": "jtnn8UceFKm4"
      },
      "outputs": [
        {
          "name": "stdout",
          "output_type": "stream",
          "text": [
            "Unique ID given to each word: {'natur': 51, 'languag': 42, 'process': 56, 'nlp': 52, 'refer': 61, 'branch': 8, 'comput': 15, 'scienc': 65, 'specif': 72, 'artifici': 4, 'intellig': 39, 'ai': 1, 'concern': 16, 'give': 32, 'abil': 0, 'understand': 84, 'text': 80, 'spoken': 74, 'word': 88, 'much': 50, 'way': 87, 'human': 37, 'be': 7, 'combin': 12, 'linguist': 45, 'rule': 64, 'base': 6, 'model': 49, 'statist': 75, 'machin': 46, 'learn': 44, 'deep': 22, 'togeth': 82, 'technolog': 79, 'enabl': 27, 'form': 30, 'voic': 85, 'data': 21, 'full': 31, 'mean': 47, 'complet': 14, 'speaker': 71, 'writer': 89, 'intent': 40, 'sentiment': 66, 'drive': 25, 'program': 58, 'translat': 83, 'one': 53, 'anoth': 3, 'respond': 62, 'command': 13, 'summar': 77, 'larg': 43, 'volum': 86, 'rapidli': 59, 'even': 29, 'real': 60, 'time': 81, 'good': 33, 'chanc': 10, 'interact': 41, 'oper': 54, 'gp': 34, 'system': 78, 'digit': 24, 'assist': 5, 'speech': 73, 'dictat': 23, 'softwar': 69, 'custom': 20, 'servic': 67, 'chatbot': 11, 'consum': 17, 'conveni': 18, 'also': 2, 'play': 55, 'grow': 35, 'role': 63, 'enterpris': 28, 'solut': 70, 'help': 36, 'streamlin': 76, 'busi': 9, 'increas': 38, 'employe': 26, 'product': 57, 'simplifi': 68, 'mission': 48, 'critic': 19}\n"
          ]
        }
      ],
      "source": [
        "#Creating object of CountVectorizer \n",
        "cv = CountVectorizer()\n",
        "# We will using fit_transform() for fitting our data into it.\n",
        "vector = cv.fit_transform(listofsent)\n",
        "#for print X value we wil convert it into array by using toarray method()\n",
        "print('Unique ID given to each word:',cv.vocabulary_)"
      ]
    },
    {
      "cell_type": "code",
      "execution_count": 28,
      "metadata": {
        "colab": {
          "base_uri": "https://localhost:8080/"
        },
        "id": "GEukhkF57MZN",
        "outputId": "3b95530f-cbe5-4a32-af37-048646b40742"
      },
      "outputs": [
        {
          "name": "stdout",
          "output_type": "stream",
          "text": [
            "[1 1 0 0 1 0 0 1 2 0 0 0 0 0 0 2 1 0 0 0 0 0 0 0 0 0 0 0 0 0 0 0 1 0 0 0 0\n",
            " 1 0 1 0 0 1 0 0 0 0 0 0 0 1 1 4 0 0 0 1 0 0 0 0 1 0 0 0 1 0 0 0 0 0 0 1 0\n",
            " 1 0 0 0 0 0 1 0 0 0 1 0 0 1 1 0] This is how the first sentence looks after embedding\n"
          ]
        }
      ],
      "source": [
        "#printing first value of X[0]\n",
        "vector.toarray()\n",
        "print(vector.toarray()[0], 'This is how the first sentence looks after embedding')"
      ]
    },
    {
      "cell_type": "markdown",
      "metadata": {
        "id": "dRtPdaKFF30_"
      },
      "source": [
        "As we can see that the output has been converted into vectors.\n",
        "You can play with our inputs and changing the X value to see the outputs for others sentences :)"
      ]
    },
    {
      "cell_type": "markdown",
      "metadata": {
        "id": "6mHbAEeW8XCi"
      },
      "source": [
        "# TF-IDF\n",
        "\n",
        "TF-IDF stands “Term Frequency — Inverse Document Frequency”. <br>\n",
        "This is a technique to quantify words in a set of documents. We generally compute a score for each word to signify its importance in the document and corpus. This method is a widely used technique in Information Retrieval and Text Mining.\n",
        "\n",
        "![Image.jpg](https://www.tmblast.com/wp-content/uploads/2018/11/TF-IDF-Report-from-Moz.jpg)\n",
        "\n",
        "\n",
        "\n",
        "Documentation:https://en.wikipedia.org/wiki/Tf%E2%80%93idf\n"
      ]
    },
    {
      "cell_type": "markdown",
      "metadata": {
        "id": "-LS3hub_HLOd"
      },
      "source": [
        "For TD-IDF, we will import the libraries for preprocessing the data such as tokenization,Lemmatization and stop words.\n",
        "\n",
        "We will use download function as we have performed in assignment 1."
      ]
    },
    {
      "cell_type": "code",
      "execution_count": null,
      "metadata": {
        "colab": {
          "base_uri": "https://localhost:8080/"
        },
        "id": "-0hQIno_-6gZ",
        "outputId": "360cdefc-1c7b-4ef9-8fe4-025dae6a8a93"
      },
      "outputs": [
        {
          "name": "stdout",
          "output_type": "stream",
          "text": [
            "[nltk_data] Downloading package punkt to /root/nltk_data...\n",
            "[nltk_data]   Package punkt is already up-to-date!\n",
            "[nltk_data] Downloading package wordnet to /root/nltk_data...\n",
            "[nltk_data]   Unzipping corpora/wordnet.zip.\n",
            "[nltk_data] Downloading package stopwords to /root/nltk_data...\n",
            "[nltk_data]   Package stopwords is already up-to-date!\n"
          ]
        },
        {
          "data": {
            "text/plain": [
              "True"
            ]
          },
          "execution_count": 14,
          "metadata": {},
          "output_type": "execute_result"
        }
      ],
      "source": [
        "#importing  nltk library and download punkt and stopwords\n",
        "#import nltk \n",
        "#nltk.download('punkt')"
      ]
    },
    {
      "cell_type": "markdown",
      "metadata": {
        "id": "G5KiHgshHjd2"
      },
      "source": [
        "\n",
        "As we can see that all required packages have been downloaded.\n",
        "Hence we can import the libraries such as stop words and WordNetLemmatizer"
      ]
    },
    {
      "cell_type": "code",
      "execution_count": 30,
      "metadata": {
        "id": "G2HGNUH7_JVG"
      },
      "outputs": [],
      "source": [
        "#importing libraries re , stopwords and WordNetLemmatizer\n",
        "#import re [for regular expression] \n",
        "from nltk.stem import WordNetLemmatizer"
      ]
    },
    {
      "cell_type": "markdown",
      "metadata": {
        "id": "B_0Se5kTHKZI"
      },
      "source": [
        "\n",
        "In the next cell,<br>\n",
        "1. ps1(any name can be chosen) object of the PorterStemmer class and wordnet1 object of the WordNetLemmatizer class are created as object is an instance of the class that can implement all the methods and functionalities of the class.\n",
        "2. The paragraph is converted into sentences and sent_tokenize method from the nltk library is used to tokenize sentences."
      ]
    },
    {
      "cell_type": "code",
      "execution_count": 32,
      "metadata": {
        "id": "4kIge64Q_M5J"
      },
      "outputs": [
        {
          "data": {
            "text/plain": [
              "['Natural language processing (NLP) (NLP) (NLP) (NLP) refers to the branch of computer science—and more specifically, the branch of artificial intelligence or AI—concerned with giving computers the ability to understand text and spoken words in much the same way human beings can.',\n",
              " 'NLP combines computational linguistics—rule-based modeling of human language—with statistical, machine learning, and deep learning models.',\n",
              " 'Together, these technologies enable computers to process human language in the form of text or voice data and to ‘understand’ its full meaning, complete with the speaker or writer’s intent and sentiment.',\n",
              " 'NLP drives computer programs that translate text from one language to another, respond to spoken commands, and summarize large volumes of text rapidly—even in real time.',\n",
              " 'There’s a good chance you’ve interacted with NLP in the form of voice-operated GPS systems, digital assistants, speech-to-text dictation software, customer service chatbots, and other consumer conveniences.',\n",
              " 'But NLP also plays a growing role in enterprise solutions that help streamline business operations, increase employee productivity, and simplify mission-critical business processes.']"
            ]
          },
          "execution_count": 32,
          "metadata": {},
          "output_type": "execute_result"
        }
      ],
      "source": [
        "#creating object of lemmatization.\n",
        "ps1 = PorterStemmer()\n",
        "wordnet1 = WordNetLemmatizer()\n",
        "#tokenzing the input into tokenized sentences\n",
        "sentences1 = nltk.tokenize.sent_tokenize(paragraph)\n",
        "#Creating list\n",
        "sentences1"
      ]
    },
    {
      "cell_type": "markdown",
      "metadata": {
        "id": "BHyJGslGJWu0"
      },
      "source": [
        "For next cell,\n",
        "All the tokenized senetences are processed using a for loop. Other characters excluding 'a-zA-Z' are substituted with a whitespace. Next all the senetences are converted into lowercase using the lower method of the strings class. The lowercase sentences are then splitted based on whitespaces using the split method of the strings class. Ahead the splitted words are checked for stopwords. If the words are not stopwords then they are stemmed using the stem method from the PorterStemmer class. All these stemmed words are joined using whitespaces and appended in a list.\n",
        "\n",
        "![image.png](data:image/png;base64,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)\n",
        "\n",
        "Copy this code into below cell for preprocessing the data.\n"
      ]
    },
    {
      "cell_type": "code",
      "execution_count": 35,
      "metadata": {
        "id": "jvu1k2_d_Yqg"
      },
      "outputs": [
        {
          "data": {
            "text/plain": [
              "['natural language processing nlp nlp nlp nlp refers branch computer science specifically branch artificial intelligence ai concerned giving computer ability understand text spoken word much way human being',\n",
              " 'nlp combine computational linguistics rule based modeling human language statistical machine learning deep learning model',\n",
              " 'together technology enable computer process human language form text voice data understand full meaning complete speaker writer intent sentiment',\n",
              " 'nlp drive computer program translate text one language another respond spoken command summarize large volume text rapidly even real time',\n",
              " 'good chance interacted nlp form voice operated gps system digital assistant speech text dictation software customer service chatbots consumer convenience',\n",
              " 'nlp also play growing role enterprise solution help streamline business operation increase employee productivity simplify mission critical business process']"
            ]
          },
          "execution_count": 35,
          "metadata": {},
          "output_type": "execute_result"
        }
      ],
      "source": [
        "#write the above mentioned code.\n",
        "listofsent2 = []\n",
        "for i in range(len(sentences1)):\n",
        "    wordfile1 = re.sub('[^a-zA-Z]', ' ', sentences1[i])\n",
        "    wordfile1 = wordfile1.lower()\n",
        "    wordfile1 = wordfile1.split()\n",
        "    wordfile1 = [wordnet1.lemmatize(word) for word in wordfile1 if not word in set(stopwords.words('english'))]\n",
        "    wordfile1 = ' '.join(wordfile1)\n",
        "    listofsent2.append(wordfile1)\n",
        "    \n",
        "listofsent2"
      ]
    },
    {
      "cell_type": "markdown",
      "metadata": {
        "id": "KqkPtywPIM8V"
      },
      "source": [
        "In the next cell, TfidVectorizer is imported to vectorize words based on document weightage. cv object of the TfidVectorizer class is created as object is an instance of the class that can implement all the methods and functionalities of the class. Above processed text is then vectorized using the fit_transform method."
      ]
    },
    {
      "cell_type": "code",
      "execution_count": 37,
      "metadata": {
        "id": "nCGTXPOr_sU9"
      },
      "outputs": [],
      "source": [
        "# Creating the TF-IDF model.\n",
        "# Importing TfidfVectorizer from sklearn .\n",
        "from sklearn.feature_extraction.text import TfidfVectorizer\n",
        "\n",
        "# creating object of TfidfVectorizer.\n",
        "tfidf = TfidfVectorizer()\n",
        "# We will using fit_transform() for fitting our data into it.\n",
        "vector1 = tfidf.fit_transform(listofsent2)"
      ]
    },
    {
      "cell_type": "markdown",
      "metadata": {
        "id": "dT2n_TyWKH9u"
      },
      "source": [
        "\n",
        "As we can see that we have fit and transform the data into X.\n",
        "Now we can check the sentences by the changing the value or playing with inputs :)"
      ]
    },
    {
      "cell_type": "code",
      "execution_count": 40,
      "metadata": {
        "colab": {
          "base_uri": "https://localhost:8080/"
        },
        "id": "HIY36T6_AO_0",
        "outputId": "5f575e42-2eea-4b6d-a866-662f3905f1d1"
      },
      "outputs": [
        {
          "name": "stdout",
          "output_type": "stream",
          "text": [
            "[0.1901921  0.1901921  0.         0.         0.1901921  0.\n",
            " 0.         0.1901921  0.38038421 0.         0.         0.\n",
            " 0.         0.         0.         0.         0.26334471 0.1901921\n",
            " 0.         0.         0.         0.         0.         0.\n",
            " 0.         0.         0.         0.         0.         0.\n",
            " 0.         0.         0.         0.1901921  0.         0.\n",
            " 0.         0.         0.13167236 0.         0.1901921  0.\n",
            " 0.         0.1128332  0.         0.         0.         0.\n",
            " 0.         0.         0.         0.         0.1901921  0.1901921\n",
            " 0.38976199 0.         0.         0.         0.         0.\n",
            " 0.1901921  0.         0.         0.         0.         0.1901921\n",
            " 0.         0.         0.         0.1901921  0.         0.\n",
            " 0.         0.         0.         0.         0.1901921  0.\n",
            " 0.15596025 0.         0.         0.         0.         0.\n",
            " 0.1128332  0.         0.         0.         0.15596025 0.\n",
            " 0.         0.1901921  0.1901921  0.        ] TF-IDF first sentence\n"
          ]
        }
      ],
      "source": [
        "#print first value of X\n",
        "vector1.toarray()\n",
        "print(vector1.toarray()[0], \"TF-IDF first sentence\")"
      ]
    },
    {
      "cell_type": "markdown",
      "metadata": {
        "id": "XXR1xtpnw4CA"
      },
      "source": [
        "As per the output we can see that words have converted into vectors.    -_-\n",
        "---"
      ]
    },
    {
      "cell_type": "markdown",
      "metadata": {
        "id": "TfYaXWKSAYjg"
      },
      "source": [
        "# N-Grams\n",
        "N-grams of texts are extensively used in text mining and natural language processing tasks. They are basically a set of co-occurring words within a given window and when computing the n-grams you typically move one word forward.\n",
        "\n",
        "![Image.png](https://www.tutorialexample.com/wp-content/uploads/2019/09/python-sentence-n-grams-model.png)\n",
        "\n",
        "Documtation: https://en.wikipedia.org/wiki/N-gram"
      ]
    },
    {
      "cell_type": "markdown",
      "metadata": {
        "id": "8_vDEXNnKuN5"
      },
      "source": [
        "\n",
        "Here we will importing the ngrams package from Nltk library for making unigrams,bigrams,trigrams etc."
      ]
    },
    {
      "cell_type": "code",
      "execution_count": 41,
      "metadata": {
        "id": "UQe12flKCRjw"
      },
      "outputs": [],
      "source": [
        "# NLTK function to generate ngrams\n",
        "import nltk\n",
        "from nltk.util import ngrams\n",
        "\n",
        "samplText='CloudyMl is an EduTech Company'"
      ]
    },
    {
      "cell_type": "markdown",
      "metadata": {
        "id": "1fGa5x4LLLhj"
      },
      "source": [
        "\n",
        "For Unigram, we will give n=1 "
      ]
    },
    {
      "cell_type": "code",
      "execution_count": 44,
      "metadata": {
        "colab": {
          "base_uri": "https://localhost:8080/"
        },
        "id": "lKRWCjP1LJfH",
        "outputId": "ea4c0665-4d0c-4e42-fe9f-8cbe05d00200"
      },
      "outputs": [
        {
          "name": "stdout",
          "output_type": "stream",
          "text": [
            "('CloudyMl',)\n",
            "('is',)\n",
            "('an',)\n",
            "('EduTech',)\n",
            "('Company',)\n"
          ]
        }
      ],
      "source": [
        "#we will use ngrams function from nltk\n",
        "NGRAMS=ngrams(sequence=nltk.word_tokenize(samplText), n=1)\n",
        "\n",
        "#usning for loop for printing the values.\n",
        "for word in NGRAMS:\n",
        "    print(word)"
      ]
    },
    {
      "cell_type": "markdown",
      "metadata": {
        "id": "9fcO3jlhMZ16"
      },
      "source": [
        "For Bigram, we will give n=2"
      ]
    },
    {
      "cell_type": "code",
      "execution_count": 45,
      "metadata": {
        "colab": {
          "base_uri": "https://localhost:8080/"
        },
        "id": "J343W69WDsoH",
        "outputId": "cc25e168-7385-4b24-f284-f0ac5d7112d2"
      },
      "outputs": [
        {
          "name": "stdout",
          "output_type": "stream",
          "text": [
            "('CloudyMl', 'is')\n",
            "('is', 'an')\n",
            "('an', 'EduTech')\n",
            "('EduTech', 'Company')\n"
          ]
        }
      ],
      "source": [
        "#we will use ngrams function from nltk\n",
        "NGRAMS=ngrams(sequence=nltk.word_tokenize(samplText), n=2)\n",
        "\n",
        "#usning for loop for printing the values.\n",
        "for word in NGRAMS:\n",
        "    print(word)"
      ]
    },
    {
      "cell_type": "markdown",
      "metadata": {
        "id": "p7GDDJFWNCJJ"
      },
      "source": [
        "\n",
        "For Trigram, we will give n=3"
      ]
    },
    {
      "cell_type": "code",
      "execution_count": 46,
      "metadata": {
        "colab": {
          "base_uri": "https://localhost:8080/"
        },
        "id": "0Dme2W13DyDj",
        "outputId": "0c40d642-9a35-4659-ffa0-a8b62ad16e07"
      },
      "outputs": [
        {
          "name": "stdout",
          "output_type": "stream",
          "text": [
            "('CloudyMl', 'is', 'an')\n",
            "('is', 'an', 'EduTech')\n",
            "('an', 'EduTech', 'Company')\n"
          ]
        }
      ],
      "source": [
        "#we will use ngrams function from nltk\n",
        "NGRAMS=ngrams(sequence=nltk.word_tokenize(samplText), n=3)\n",
        "\n",
        "#usning for loop for printing the values.\n",
        "for word in NGRAMS:\n",
        "    print(word)"
      ]
    },
    {
      "cell_type": "markdown",
      "metadata": {
        "id": "Yi9hsE54FIzj"
      },
      "source": [
        "#Parts of speech(POS)\n",
        "It is a process of converting a sentence to forms – list of words, list of tuples (where each tuple is having a form (word, tag)). The tag in case of is a part-of-speech tag, and signifies whether the word is a noun, adjective, verb, and so on.\n",
        "\n",
        "![image.jpg](https://www.researchgate.net/publication/337460636/figure/fig1/AS:828223747284992@1574475337385/Example-of-part-of-speech-POS-tagging-and-lemmatization-for-two-example-sentences-The.ppm)\n",
        "\n",
        "\n",
        "Documentation:https://www.nltk.org/book/ch05.html "
      ]
    },
    {
      "cell_type": "code",
      "execution_count": null,
      "metadata": {
        "id": "zw9kp19fDzOm"
      },
      "outputs": [],
      "source": [
        "# Parts of Speech.\n",
        "# Universal Part-of-Speech Tagset\n",
        "# Tag|Meaning|English Examples\n",
        "# ADJ|adjective|new, good, high, special, big, local\n",
        "# ADP|adposition|on, of, at, with, by, into, under\n",
        "# ADV|adverb|really, already, still, early, now\n",
        "# CONJ|conjunction|and, or, but, if, while, although\n",
        "# DET|determiner, article|the, a, some, most, every, no, which\n",
        "# NOUN|noun|year, home, costs, time, Africa\n",
        "# NUM|numeral|twenty-four, fourth, 1991, 14:24\n",
        "# PRT|particle|at, on, out, over per, that, up, with\n",
        "# PRON|pronoun|he, their, her, its, my, I, us\n",
        "# VERB|verb|is, say, told, given, playing, would\n",
        "# .|punctuation marks|. , ; !"
      ]
    },
    {
      "cell_type": "code",
      "execution_count": 54,
      "metadata": {
        "id": "rYRscZV9Ibr_"
      },
      "outputs": [],
      "source": [
        "text = 'My name is CloudyML. I would to become a Data Scientist.'"
      ]
    },
    {
      "cell_type": "markdown",
      "metadata": {
        "id": "PAW9i7eFNdhP"
      },
      "source": [
        "\n",
        "Here in POS, First we can have to import nltk and word tokenization for further processing."
      ]
    },
    {
      "cell_type": "code",
      "execution_count": 47,
      "metadata": {
        "id": "X5aTSPJdIfFx"
      },
      "outputs": [],
      "source": [
        "# Importing Packages \n",
        "from nltk import word_tokenize"
      ]
    },
    {
      "cell_type": "code",
      "execution_count": 48,
      "metadata": {
        "colab": {
          "base_uri": "https://localhost:8080/"
        },
        "id": "7uamPxHuOFzY",
        "outputId": "37504b85-e545-4a79-d617-0bc431c44a47"
      },
      "outputs": [
        {
          "name": "stderr",
          "output_type": "stream",
          "text": [
            "[nltk_data] Downloading package averaged_perceptron_tagger to\n",
            "[nltk_data]     /Users/solo/nltk_data...\n",
            "[nltk_data]   Unzipping taggers/averaged_perceptron_tagger.zip.\n",
            "[nltk_data] Downloading package universal_tagset to\n",
            "[nltk_data]     /Users/solo/nltk_data...\n",
            "[nltk_data]   Unzipping taggers/universal_tagset.zip.\n"
          ]
        },
        {
          "data": {
            "text/plain": [
              "True"
            ]
          },
          "execution_count": 48,
          "metadata": {},
          "output_type": "execute_result"
        }
      ],
      "source": [
        "#We have to download averaged_perceptron_tagger and universal_tagset required for POS\n",
        "nltk.download('averaged_perceptron_tagger')\n",
        "nltk.download('universal_tagset')"
      ]
    },
    {
      "cell_type": "code",
      "execution_count": 55,
      "metadata": {
        "id": "t-COCBZ_IhBs"
      },
      "outputs": [
        {
          "data": {
            "text/plain": [
              "['My',\n",
              " 'name',\n",
              " 'is',\n",
              " 'CloudyML',\n",
              " '.',\n",
              " 'I',\n",
              " 'would',\n",
              " 'to',\n",
              " 'become',\n",
              " 'a',\n",
              " 'Data',\n",
              " 'Scientist',\n",
              " '.']"
            ]
          },
          "execution_count": 55,
          "metadata": {},
          "output_type": "execute_result"
        }
      ],
      "source": [
        "#Word Tokenization\n",
        "text = word_tokenize(text)\n",
        "text"
      ]
    },
    {
      "cell_type": "markdown",
      "metadata": {
        "id": "dx-4vCu2OaLc"
      },
      "source": [
        "Here we are using **pos_tag** and tagset=universial for finding POS"
      ]
    },
    {
      "cell_type": "code",
      "execution_count": 56,
      "metadata": {
        "id": "iLzgIlSTIkEm"
      },
      "outputs": [],
      "source": [
        "# POS Tagging\n",
        "tagged_words = nltk.pos_tag(text, tagset = 'universal')"
      ]
    },
    {
      "cell_type": "code",
      "execution_count": 57,
      "metadata": {
        "colab": {
          "base_uri": "https://localhost:8080/"
        },
        "id": "-J-QwRaoIlQB",
        "outputId": "dfe0f4e9-6fc0-447d-89bd-a80a02c51e73"
      },
      "outputs": [
        {
          "name": "stdout",
          "output_type": "stream",
          "text": [
            "[('My', 'PRON'), ('name', 'NOUN'), ('is', 'VERB'), ('CloudyML', 'NOUN'), ('.', '.'), ('I', 'PRON'), ('would', 'VERB'), ('to', 'PRT'), ('become', 'VERB'), ('a', 'DET'), ('Data', 'NOUN'), ('Scientist', 'NOUN'), ('.', '.')]\n"
          ]
        }
      ],
      "source": [
        "#print tagged words\n",
        "print(tagged_words)"
      ]
    },
    {
      "cell_type": "markdown",
      "metadata": {
        "id": "tgLmAXFhjFTe"
      },
      "source": [
        "As we can see that output is printed with their grammers.<br>\n",
        "\n",
        "Now you try with your inputs and play with it :)"
      ]
    },
    {
      "cell_type": "markdown",
      "metadata": {
        "id": "Zvm8924yj9Dw"
      },
      "source": [
        "As we have covered basic techniques of word embedding. Now you will be able to convert the words into vectors by BOW, TD-IDF and other basic techniques.\n",
        "\n",
        "Great job!! \n",
        "You have come to the end of this assignment. <br>\n",
        "Treat yourself for this :))\n",
        "\n",
        "Do Fill the feedback form !!\n",
        "[Feedback Form link](https://forms.zohopublic.in/cloudyml/form/CloudyMLDeepLearningFeedbackForm/formperma/VCFbldnXAnbcgAIl0lWv2blgHdSldheO4RfktMdgK7s)\n",
        "<br>\n",
        "You may head on to the next assignment.\n"
      ]
    }
  ],
  "metadata": {
    "colab": {
      "collapsed_sections": [],
      "name": "NLP_Assignment_2_WWithoutcode.ipynb",
      "provenance": []
    },
    "kernelspec": {
      "display_name": "Python 3",
      "name": "python3"
    },
    "language_info": {
      "codemirror_mode": {
        "name": "ipython",
        "version": 3
      },
      "file_extension": ".py",
      "mimetype": "text/x-python",
      "name": "python",
      "nbconvert_exporter": "python",
      "pygments_lexer": "ipython3",
      "version": "3.8.18"
    }
  },
  "nbformat": 4,
  "nbformat_minor": 0
}
